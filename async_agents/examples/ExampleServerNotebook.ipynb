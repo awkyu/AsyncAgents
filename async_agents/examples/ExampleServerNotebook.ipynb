{
 "cells": [
  {
   "cell_type": "markdown",
   "metadata": {},
   "source": [
    "# Introduction\n",
    "In this Notebook, we go through instantiating a backend server within a notebook, which allows more in-depth and realtime modifications to the agents and the network while the flask server is running.\n",
    "\n",
    "# Import and Load Environment Variables"
   ]
  },
  {
   "cell_type": "code",
   "execution_count": 1,
   "metadata": {},
   "outputs": [
    {
     "data": {
      "text/plain": [
       "True"
      ]
     },
     "execution_count": 1,
     "metadata": {},
     "output_type": "execute_result"
    }
   ],
   "source": [
    "from dotenv import load_dotenv\n",
    "import asyncio\n",
    "from threading import Thread\n",
    "import sys\n",
    "from pathlib import Path\n",
    "\n",
    "from langchain_openai import ChatOpenAI\n",
    "from langchain.tools import StructuredTool\n",
    "from langchain_core.pydantic_v1 import BaseModel, Field\n",
    "\n",
    "path_to_root = Path.cwd().parent\n",
    "sys.path.append(str(path_to_root))\n",
    "\n",
    "from agents.InboxAgent import InboxAgent\n",
    "from agents.UserProxyAgent import UserProxyAgent\n",
    "from network.AgentNetwork import AgentNetwork\n",
    "from server.NetworkServer import NetworkServer\n",
    "\n",
    "\n",
    "# load environment variables from .env\n",
    "load_dotenv()"
   ]
  },
  {
   "cell_type": "markdown",
   "metadata": {},
   "source": [
    "# Instantiate the AgentNetwork and Start the Server\n",
    "\n",
    "The AgentNetwork is what manages all AI Agents and UserProxyAgents. It also manages the creation and connections between agents. 'available_agent_instantiations' is a list of possible agents the frontend can instantiate. Here we place the only two currently existing agent bases which are the default InboxAgent and the UserProxyAgent.\n",
    "\n",
    "The NetworkServer is what manages the communication with the frontend GUI [agent-network-visualizer](https://github.com/awkyu/AsyncAgents/tree/main/agent-network-visualizer). We create a Flask server to establish communication and run it in a thread to allow realtime updates later in this notebook. We get the event loop so that other agents may access the loop to run asynchronously. 'allow_unsafe_werkzeug' is set to True to allow us to run it in the notebook, but should not be used in a production setting."
   ]
  },
  {
   "cell_type": "code",
   "execution_count": 2,
   "metadata": {},
   "outputs": [],
   "source": [
    "agent_network = AgentNetwork(available_agent_instantiations=[InboxAgent, UserProxyAgent])"
   ]
  },
  {
   "cell_type": "code",
   "execution_count": 3,
   "metadata": {},
   "outputs": [
    {
     "name": "stderr",
     "output_type": "stream",
     "text": [
      "Werkzeug appears to be used in a production deployment. Consider switching to a production web server instead.\n"
     ]
    },
    {
     "name": "stdout",
     "output_type": "stream",
     "text": [
      " * Serving Flask app 'server.AgentNetworkSocket'\n",
      " * Debug mode: on\n"
     ]
    },
    {
     "name": "stderr",
     "output_type": "stream",
     "text": [
      "WARNING: This is a development server. Do not use it in a production deployment. Use a production WSGI server instead.\n",
      " * Running on http://127.0.0.1:5000\n",
      "Press CTRL+C to quit\n"
     ]
    }
   ],
   "source": [
    "loop = asyncio.get_event_loop()\n",
    "network_server = NetworkServer(agent_network, event_loop=loop)\n",
    "flask_thread = Thread(target=network_server.run, kwargs={'use_reloader': False, 'allow_unsafe_werkzeug': True})\n",
    "flask_thread.start()"
   ]
  },
  {
   "cell_type": "markdown",
   "metadata": {},
   "source": [
    "# Instantiating Custom Agents in Realtime\n",
    "\n",
    "### Define the language model to use and agent tools\n",
    "\n",
    "Step 1: Initialize the language model; currently only GPT-4 works, but with better prompt engineering, GPT-3 should work too\\\n",
    "Step 2: Define the tools (functions) that the assistant can use\\\n",
    "Step 3: We use the StructuredTool class to define the tools, which allows us to define a schema for the arguments (which allows the model to understand the tool better)\\\n",
    "Step 4: create a list of tools"
   ]
  },
  {
   "cell_type": "code",
   "execution_count": 4,
   "metadata": {},
   "outputs": [
    {
     "name": "stderr",
     "output_type": "stream",
     "text": [
      "127.0.0.1 - - [12/Jan/2024 03:39:04] \"GET /socket.io/?EIO=4&transport=polling&t=OpyqnZd HTTP/1.1\" 200 -\n"
     ]
    },
    {
     "name": "stderr",
     "output_type": "stream",
     "text": [
      "127.0.0.1 - - [12/Jan/2024 03:39:04] \"GET /socket.io/?EIO=4&transport=polling&t=Opyqnbg HTTP/1.1\" 200 -\n",
      "127.0.0.1 - - [12/Jan/2024 03:39:04] \"POST /socket.io/?EIO=4&transport=polling&t=Opyqo2N&sid=30GK-pE5CePMtOnGAAAA HTTP/1.1\" 200 -\n",
      "127.0.0.1 - - [12/Jan/2024 03:39:04] \"GET /socket.io/?EIO=4&transport=polling&t=Opyqo2P&sid=30GK-pE5CePMtOnGAAAA HTTP/1.1\" 200 -\n",
      "127.0.0.1 - - [12/Jan/2024 03:39:04] \"POST /socket.io/?EIO=4&transport=polling&t=Opyqo4c&sid=jtLDDkLLsn23BOppAAAB HTTP/1.1\" 200 -\n",
      "127.0.0.1 - - [12/Jan/2024 03:39:04] \"GET /socket.io/?EIO=4&transport=polling&t=Opyqo4d&sid=jtLDDkLLsn23BOppAAAB HTTP/1.1\" 200 -\n"
     ]
    },
    {
     "name": "stdout",
     "output_type": "stream",
     "text": [
      "Client connected\n",
      "{'nodes': [], 'links': []}\n",
      "Client connected\n",
      "{'nodes': [], 'links': []}\n"
     ]
    }
   ],
   "source": [
    "# Step 1: Initialize the language model; currently only GPT-4 works, but with better prompt engineering, GPT-3 should work too\n",
    "llm = ChatOpenAI(model=\"gpt-4-1106-preview\", temperature=0)\n",
    "\n",
    "# Step 2: Define the tools (functions) that the assistant can use\n",
    "def get_word_length(word: str) -> int:\n",
    "    \"\"\"Returns the length of a word.\"\"\"\n",
    "    return len(word)\n",
    "\n",
    "# Step 3: We use the StructuredTool class to define the tools, which allows us to define a schema for the arguments (which allows the model to understand the tool better)\n",
    "class GetWordLength(BaseModel):\n",
    "    word: str = Field(\n",
    "        description=\"The word you want to get the length of\"\n",
    "    )\n",
    "\n",
    "# Step 4: create a list of tools\n",
    "tools = [\n",
    "    StructuredTool.from_function(\n",
    "        get_word_length,\n",
    "        name=\"get_word_length\",\n",
    "        description=\"Returns the length of a word.\",\n",
    "        args_schema=GetWordLength,\n",
    "    ),\n",
    "]"
   ]
  },
  {
   "cell_type": "markdown",
   "metadata": {},
   "source": [
    "### Instantiate Agents and UserProxy\n",
    "\n",
    "We instantiate 5 InboxAgents.\\\n",
    "llm is the defined language model above. If None, then it will default to a GPT-4 model (\"gpt-4-1106-preview\")\\\n",
    "name/type dictate their secondary color in the frontend GUI. 'tools' is the list of tools you want to add (put None or [] if no tools).\\\n",
    "description is the description of the AI agent assistant\\\n",
    "oai is used for OpenAI models (which is the only one supported for now).\\\n",
    "response_counter is how many messages the agent will process before needing to be reactivated\n",
    "idle_counter is how many seconds the agent will sit idle (no messages in its inbox) before deactivating\n",
    "\\\n",
    "\\\n",
    "We also instantiate two UserProxyAgents for communication."
   ]
  },
  {
   "cell_type": "code",
   "execution_count": 5,
   "metadata": {},
   "outputs": [],
   "source": [
    "agent1 = InboxAgent(\n",
    "    name=\"jokebot_teller\",\n",
    "    llm=llm,\n",
    "    tools=tools,\n",
    "    description=\"you are a helpful assistant that likes to tell jokes with other AI agents by sending messages.\",\n",
    "    oai=True,\n",
    "    response_counter=3,\n",
    "    idle_counter=60,\n",
    ")\n",
    "\n",
    "agent2 = InboxAgent(\n",
    "    name=\"jokebot_responder\",\n",
    "    llm=llm,\n",
    "    tools=tools,\n",
    "    description=\"you are a helpful assistant that likes to laugh at jokes with other AI agents. you like to send jokes back via messages too and like to pass them on to others that may not have not heard them!\",\n",
    "    oai=True,\n",
    "    response_counter=3,\n",
    "    idle_counter=60,\n",
    ")\n",
    "\n",
    "agent3 = InboxAgent(\n",
    "    name=\"jokebot_responder\",\n",
    "    llm=llm,\n",
    "    tools=tools,\n",
    "    description=\"you are a helpful assistant that likes to laugh at jokes with other AI agents. you like to send jokes back via messages too and like to pass them on to others that may not have not heard them!\",\n",
    "    oai=True,\n",
    "    response_counter=3,\n",
    "    idle_counter=60,\n",
    ")\n",
    "\n",
    "agent4 = InboxAgent(\n",
    "    name=\"jokebot_responder\",\n",
    "    llm=llm,\n",
    "    tools=tools,\n",
    "    description=\"you are a helpful assistant that likes to laugh at jokes with other AI agents. you like to send jokes back via messages too and like to pass them on to others that may not have not heard them!\",\n",
    "    oai=True,\n",
    "    response_counter=3,\n",
    "    idle_counter=60,\n",
    ")\n",
    "\n",
    "agent5 = InboxAgent(\n",
    "    name=\"jokebot_responder\",\n",
    "    llm=llm,\n",
    "    tools=tools,\n",
    "    description=\"you are a helpful assistant that likes to laugh at jokes with other AI agents. you like to send jokes back via messages too and like to pass them on to others that may not have not heard them!\",\n",
    "    oai=True,\n",
    "    response_counter=3,\n",
    "    idle_counter=60,\n",
    ")\n",
    "\n",
    "user1 = UserProxyAgent()\n",
    "user2 = UserProxyAgent()"
   ]
  },
  {
   "cell_type": "markdown",
   "metadata": {},
   "source": [
    "### Add to Agent Network\n",
    "\n",
    "We add all 7 agents (5 InboxAgents and 2 UserProxyAgents) to the Agent Network and then connect them in the desired graph network."
   ]
  },
  {
   "cell_type": "code",
   "execution_count": null,
   "metadata": {},
   "outputs": [
    {
     "name": "stderr",
     "output_type": "stream",
     "text": [
      "127.0.0.1 - - [12/Jan/2024 03:39:09] \"GET /socket.io/?EIO=4&transport=websocket&sid=jtLDDkLLsn23BOppAAAB HTTP/1.1\" 200 -\n"
     ]
    },
    {
     "name": "stdout",
     "output_type": "stream",
     "text": [
      "Client disconnected\n"
     ]
    },
    {
     "name": "stderr",
     "output_type": "stream",
     "text": [
      "127.0.0.1 - - [12/Jan/2024 03:39:10] \"GET /socket.io/?EIO=4&transport=polling&t=Opyqpk1 HTTP/1.1\" 200 -\n",
      "127.0.0.1 - - [12/Jan/2024 03:39:11] \"GET /socket.io/?EIO=4&transport=polling&t=OpyqpkA HTTP/1.1\" 200 -\n",
      "127.0.0.1 - - [12/Jan/2024 03:39:11] \"POST /socket.io/?EIO=4&transport=polling&t=OpyqppC&sid=HTrZ_35vodyT7GzZAAAF HTTP/1.1\" 200 -\n",
      "127.0.0.1 - - [12/Jan/2024 03:39:11] \"GET /socket.io/?EIO=4&transport=polling&t=OpyqppE&sid=HTrZ_35vodyT7GzZAAAF HTTP/1.1\" 200 -\n",
      "127.0.0.1 - - [12/Jan/2024 03:39:11] \"GET /socket.io/?EIO=4&transport=polling&t=Opyqpum&sid=HTrZ_35vodyT7GzZAAAF HTTP/1.1\" 200 -\n"
     ]
    },
    {
     "name": "stdout",
     "output_type": "stream",
     "text": [
      "Client connected\n",
      "{'nodes': [{'id': 'jokebot_teller_888044cc-1ef5-40ff-ac1e-b139bdd52995', 'label': 'jokebot_teller_888044cc-1ef5-40ff-ac1e-b139bdd52995', 'type': 'jokebot_teller', 'running': False, 'status': 'Stopped'}, {'id': 'jokebot_responder_49d9d393-58b6-4edc-9143-2ba97a1d77c2', 'label': 'jokebot_responder_49d9d393-58b6-4edc-9143-2ba97a1d77c2', 'type': 'jokebot_responder', 'running': False, 'status': 'Stopped'}, {'id': 'jokebot_responder_2642e700-eca2-4491-a1d9-d0b842d5958d', 'label': 'jokebot_responder_2642e700-eca2-4491-a1d9-d0b842d5958d', 'type': 'jokebot_responder', 'running': False, 'status': 'Stopped'}, {'id': 'User_38771e67-e7da-403b-af20-9ab2efedc084', 'label': 'User_38771e67-e7da-403b-af20-9ab2efedc084', 'type': 'User', 'running': True, 'status': 'Running'}], 'links': [{'id': 'jokebot_teller_888044cc-1ef5-40ff-ac1e-b139bdd52995_jokebot_responder_49d9d393-58b6-4edc-9143-2ba97a1d77c2', 'source': 'jokebot_teller_888044cc-1ef5-40ff-ac1e-b139bdd52995', 'target': 'jokebot_responder_49d9d393-58b6-4edc-9143-2ba97a1d77c2', 'curvature': 0.2, 'rotation': 3.141592653589793}, {'id': 'jokebot_teller_888044cc-1ef5-40ff-ac1e-b139bdd52995_User_38771e67-e7da-403b-af20-9ab2efedc084', 'source': 'jokebot_teller_888044cc-1ef5-40ff-ac1e-b139bdd52995', 'target': 'User_38771e67-e7da-403b-af20-9ab2efedc084', 'curvature': 0.2, 'rotation': 3.141592653589793}, {'id': 'jokebot_teller_888044cc-1ef5-40ff-ac1e-b139bdd52995_jokebot_responder_2642e700-eca2-4491-a1d9-d0b842d5958d', 'source': 'jokebot_teller_888044cc-1ef5-40ff-ac1e-b139bdd52995', 'target': 'jokebot_responder_2642e700-eca2-4491-a1d9-d0b842d5958d', 'curvature': 0.2, 'rotation': 3.141592653589793}, {'id': 'jokebot_responder_49d9d393-58b6-4edc-9143-2ba97a1d77c2_jokebot_teller_888044cc-1ef5-40ff-ac1e-b139bdd52995', 'source': 'jokebot_responder_49d9d393-58b6-4edc-9143-2ba97a1d77c2', 'target': 'jokebot_teller_888044cc-1ef5-40ff-ac1e-b139bdd52995', 'curvature': 0.2, 'rotation': 3.141592653589793}, {'id': 'jokebot_responder_2642e700-eca2-4491-a1d9-d0b842d5958d_jokebot_teller_888044cc-1ef5-40ff-ac1e-b139bdd52995', 'source': 'jokebot_responder_2642e700-eca2-4491-a1d9-d0b842d5958d', 'target': 'jokebot_teller_888044cc-1ef5-40ff-ac1e-b139bdd52995', 'curvature': 0.2, 'rotation': 3.141592653589793}, {'id': 'User_38771e67-e7da-403b-af20-9ab2efedc084_jokebot_teller_888044cc-1ef5-40ff-ac1e-b139bdd52995', 'source': 'User_38771e67-e7da-403b-af20-9ab2efedc084', 'target': 'jokebot_teller_888044cc-1ef5-40ff-ac1e-b139bdd52995', 'curvature': 0.2, 'rotation': 3.141592653589793}]}\n"
     ]
    },
    {
     "name": "stderr",
     "output_type": "stream",
     "text": [
      "127.0.0.1 - - [12/Jan/2024 03:39:12] \"GET /socket.io/?EIO=4&transport=polling&t=Opyqpz0&sid=HTrZ_35vodyT7GzZAAAF HTTP/1.1\" 200 -\n"
     ]
    },
    {
     "name": "stdout",
     "output_type": "stream",
     "text": [
      "{'jokebot_teller_888044cc-1ef5-40ff-ac1e-b139bdd52995': <agents.InboxAgent.InboxAgent object at 0x000001B468C36CD0>, 'jokebot_responder_49d9d393-58b6-4edc-9143-2ba97a1d77c2': <agents.InboxAgent.InboxAgent object at 0x000001B468C36C70>, 'jokebot_responder_2642e700-eca2-4491-a1d9-d0b842d5958d': <agents.InboxAgent.InboxAgent object at 0x000001B468C36A90>, 'User_38771e67-e7da-403b-af20-9ab2efedc084': <agents.UserProxyAgent.UserProxyAgent object at 0x000001B468C36B80>}\n",
      "{'jokebot_teller_888044cc-1ef5-40ff-ac1e-b139bdd52995': <agents.InboxAgent.InboxAgent object at 0x000001B468C36CD0>, 'jokebot_responder_49d9d393-58b6-4edc-9143-2ba97a1d77c2': <agents.InboxAgent.InboxAgent object at 0x000001B468C36C70>, 'jokebot_responder_2642e700-eca2-4491-a1d9-d0b842d5958d': <agents.InboxAgent.InboxAgent object at 0x000001B468C36A90>, 'User_38771e67-e7da-403b-af20-9ab2efedc084': <agents.UserProxyAgent.UserProxyAgent object at 0x000001B468C36B80>}\n",
      "{'jokebot_teller_888044cc-1ef5-40ff-ac1e-b139bdd52995': <agents.InboxAgent.InboxAgent object at 0x000001B468C36CD0>, 'jokebot_responder_49d9d393-58b6-4edc-9143-2ba97a1d77c2': <agents.InboxAgent.InboxAgent object at 0x000001B468C36C70>, 'jokebot_responder_2642e700-eca2-4491-a1d9-d0b842d5958d': <agents.InboxAgent.InboxAgent object at 0x000001B468C36A90>, 'User_38771e67-e7da-403b-af20-9ab2efedc084': <agents.UserProxyAgent.UserProxyAgent object at 0x000001B468C36B80>}\n",
      "{'jokebot_teller_888044cc-1ef5-40ff-ac1e-b139bdd52995': <agents.InboxAgent.InboxAgent object at 0x000001B468C36CD0>, 'jokebot_responder_49d9d393-58b6-4edc-9143-2ba97a1d77c2': <agents.InboxAgent.InboxAgent object at 0x000001B468C36C70>, 'jokebot_responder_2642e700-eca2-4491-a1d9-d0b842d5958d': <agents.InboxAgent.InboxAgent object at 0x000001B468C36A90>, 'User_38771e67-e7da-403b-af20-9ab2efedc084': <agents.UserProxyAgent.UserProxyAgent object at 0x000001B468C36B80>}\n",
      "{'id': 'jokebot_responder_49d9d393-58b6-4edc-9143-2ba97a1d77c2', 'agentBase': 'Inbox Agent (Default)', 'name': 'jokebot_responder_2', 'description': 'you are a helpful assistant that likes to laugh at jokes with other AI agents. you like to send jokes back via messages too!', 'prompt': '\\n        You are an AI agent assistant. You are processing messages from a broad range of users and other AI agents that are placed in your \\'inbox\\'. Users will be denoted as user_<uuid>. AI agents will be denoted as <agent-type>_<uuid>. You will be denoted as {name_uuid}.\\n        Your job is to respond to messages from users and other AI agents. \\n\\n        You can use the following tools to help you respond to messages:\\n        <tools>\\n        {tools}\\n        </tools>\\n        You DON\\'T need to use these tools, unless you find them appropriate for the task. Also don\\'t make up tools that you don\\'t have.\\n\\n\\n        For each message you process, you will determine who you should respond to (the recipient) and what that response is (the content). This may be multiple users or AI agents. You are connected to the following agents and users: \\n        <recipients>\\n        {recipients}\\n        </recipients>\\n        These are NOT functions, but rather names and descriptions of agents and users. Each recipient should be treated INDIVIDUALLY as they CANNOT see the messages you send to each of them. You DON\\'T need to send messages to all of your recipients, only the ones you feel necessary. For recipients that you are not directly replying to (they are not the sender of the input/message), state both your response and reason to reach out to them. \\n\\n\\n        These responses may be confirmations, relays of information, or a new request/task.\\n\\n\\n        Here is an additional description about yourself and who you should role-play as:\\n        <description>\\n        {description}\\n        </description>\\n\\n        Your response should ONLY be in a json format with the keys as the recipient and the values as the response. Include the curly braces too. This should ONLY be ONE JSON/dict output. For example,\\n        if you want to send recipient1 the message content1 and recipient2 the message content2, you should respond with:\\n        (\"recipient1\": \"content1\", \"recipient2\": \"content2\", ...)\\n\\n\\n        You should ONLY respond to available recipients and ONLY speak for yourself. The recipient should NEVER be yourself. You can relay information, but should NOT make up what other agents have said.\\n    '}\n",
      "{'agentBase': 'UserProxyAgent', 'name': 'User', 'description': None, 'prompt': None}\n",
      "{'agentBase': 'Inbox Agent (Default)', 'name': 'test', 'description': 'test', 'prompt': '\\n        You are an AI agent assistant. You are processing messages from a broad range of users and other AI agents that are placed in your \\'inbox\\'. Users will be denoted as user_<uuid>. AI agents will be denoted as <agent-type>_<uuid>. You will be denoted as {name_uuid}.\\n        Your job is to respond to messages from users and other AI agents. \\n\\n        You can use the following tools to help you respond to messages:\\n        <tools>\\n        {tools}\\n        </tools>\\n        You DON\\'T need to use these tools, unless you find them appropriate for the task. Also don\\'t make up tools that you don\\'t have.\\n\\n\\n        For each message you process, you will determine who you should respond to (the recipient) and what that response is (the content). This may be multiple users or AI agents. You are connected to the following agents and users: \\n        <recipients>\\n        {recipients}\\n        </recipients>\\n        These are NOT functions, but rather names and descriptions of agents and users. Each recipient should be treated INDIVIDUALLY as they CANNOT see the messages you send to each of them. You DON\\'T need to send messages to all of your recipients, only the ones you feel necessary. For recipients that you are not directly replying to (they are not the sender of the input/message), state both your response and reason to reach out to them. \\n\\n\\n        These responses may be confirmations, relays of information, or a new request/task.\\n\\n\\n        Here is an additional description about yourself and who you should role-play as:\\n        <description>\\n        {description}\\n        </description>\\n\\n        Your response should ONLY be in a json format with the keys as the recipient and the values as the response. Include the curly braces too. This should ONLY be ONE JSON/dict output. For example,\\n        if you want to send recipient1 the message content1 and recipient2 the message content2, you should respond with:\\n        (\"recipient1\": \"content1\", \"recipient2\": \"content2\", ...)\\n\\n\\n        You should ONLY respond to available recipients and ONLY speak for yourself. The recipient should NEVER be yourself. You can relay information, but should NOT make up what other agents have said.\\n    '}\n",
      "{'jokebot_teller_888044cc-1ef5-40ff-ac1e-b139bdd52995': <agents.InboxAgent.InboxAgent object at 0x000001B468C36CD0>, 'jokebot_responder_2642e700-eca2-4491-a1d9-d0b842d5958d': <agents.InboxAgent.InboxAgent object at 0x000001B468C36A90>, 'User_38771e67-e7da-403b-af20-9ab2efedc084': <agents.UserProxyAgent.UserProxyAgent object at 0x000001B468C36B80>, 'jokebot_responder_2_49d9d393-58b6-4edc-9143-2ba97a1d77c2': <agents.InboxAgent.InboxAgent object at 0x000001B468C36C70>, 'User_8255891c-fc6c-4c68-9266-ec4f7a578976': <agents.UserProxyAgent.UserProxyAgent object at 0x000001B468CC09D0>, 'test_dcc8f798-3dd2-44ac-81d6-633aa180d28d': <agents.InboxAgent.InboxAgent object at 0x000001B468CA44F0>}\n",
      "{'jokebot_teller_888044cc-1ef5-40ff-ac1e-b139bdd52995': <agents.InboxAgent.InboxAgent object at 0x000001B468C36CD0>, 'jokebot_responder_2642e700-eca2-4491-a1d9-d0b842d5958d': <agents.InboxAgent.InboxAgent object at 0x000001B468C36A90>, 'User_38771e67-e7da-403b-af20-9ab2efedc084': <agents.UserProxyAgent.UserProxyAgent object at 0x000001B468C36B80>, 'jokebot_responder_2_49d9d393-58b6-4edc-9143-2ba97a1d77c2': <agents.InboxAgent.InboxAgent object at 0x000001B468C36C70>, 'User_8255891c-fc6c-4c68-9266-ec4f7a578976': <agents.UserProxyAgent.UserProxyAgent object at 0x000001B468CC09D0>, 'test_dcc8f798-3dd2-44ac-81d6-633aa180d28d': <agents.InboxAgent.InboxAgent object at 0x000001B468CA44F0>}\n",
      "{'jokebot_teller_888044cc-1ef5-40ff-ac1e-b139bdd52995': <agents.InboxAgent.InboxAgent object at 0x000001B468C36CD0>, 'jokebot_responder_2642e700-eca2-4491-a1d9-d0b842d5958d': <agents.InboxAgent.InboxAgent object at 0x000001B468C36A90>, 'User_38771e67-e7da-403b-af20-9ab2efedc084': <agents.UserProxyAgent.UserProxyAgent object at 0x000001B468C36B80>, 'jokebot_responder_2_49d9d393-58b6-4edc-9143-2ba97a1d77c2': <agents.InboxAgent.InboxAgent object at 0x000001B468C36C70>, 'User_8255891c-fc6c-4c68-9266-ec4f7a578976': <agents.UserProxyAgent.UserProxyAgent object at 0x000001B468CC09D0>, 'test_dcc8f798-3dd2-44ac-81d6-633aa180d28d': <agents.InboxAgent.InboxAgent object at 0x000001B468CA44F0>}\n",
      "{'jokebot_teller_888044cc-1ef5-40ff-ac1e-b139bdd52995': <agents.InboxAgent.InboxAgent object at 0x000001B468C36CD0>, 'jokebot_responder_2642e700-eca2-4491-a1d9-d0b842d5958d': <agents.InboxAgent.InboxAgent object at 0x000001B468C36A90>, 'User_38771e67-e7da-403b-af20-9ab2efedc084': <agents.UserProxyAgent.UserProxyAgent object at 0x000001B468C36B80>, 'jokebot_responder_2_49d9d393-58b6-4edc-9143-2ba97a1d77c2': <agents.InboxAgent.InboxAgent object at 0x000001B468C36C70>, 'User_8255891c-fc6c-4c68-9266-ec4f7a578976': <agents.UserProxyAgent.UserProxyAgent object at 0x000001B468CC09D0>, 'test_dcc8f798-3dd2-44ac-81d6-633aa180d28d': <agents.InboxAgent.InboxAgent object at 0x000001B468CA44F0>}\n",
      "{'jokebot_teller_888044cc-1ef5-40ff-ac1e-b139bdd52995': <agents.InboxAgent.InboxAgent object at 0x000001B468C36CD0>, 'jokebot_responder_2642e700-eca2-4491-a1d9-d0b842d5958d': <agents.InboxAgent.InboxAgent object at 0x000001B468C36A90>, 'User_38771e67-e7da-403b-af20-9ab2efedc084': <agents.UserProxyAgent.UserProxyAgent object at 0x000001B468C36B80>, 'jokebot_responder_2_49d9d393-58b6-4edc-9143-2ba97a1d77c2': <agents.InboxAgent.InboxAgent object at 0x000001B468C36C70>, 'User_8255891c-fc6c-4c68-9266-ec4f7a578976': <agents.UserProxyAgent.UserProxyAgent object at 0x000001B468CC09D0>, 'test_dcc8f798-3dd2-44ac-81d6-633aa180d28d': <agents.InboxAgent.InboxAgent object at 0x000001B468CA44F0>}\n",
      "{'jokebot_teller_888044cc-1ef5-40ff-ac1e-b139bdd52995': <agents.InboxAgent.InboxAgent object at 0x000001B468C36CD0>, 'jokebot_responder_2642e700-eca2-4491-a1d9-d0b842d5958d': <agents.InboxAgent.InboxAgent object at 0x000001B468C36A90>, 'User_38771e67-e7da-403b-af20-9ab2efedc084': <agents.UserProxyAgent.UserProxyAgent object at 0x000001B468C36B80>, 'jokebot_responder_2_49d9d393-58b6-4edc-9143-2ba97a1d77c2': <agents.InboxAgent.InboxAgent object at 0x000001B468C36C70>, 'User_8255891c-fc6c-4c68-9266-ec4f7a578976': <agents.UserProxyAgent.UserProxyAgent object at 0x000001B468CC09D0>, 'test_dcc8f798-3dd2-44ac-81d6-633aa180d28d': <agents.InboxAgent.InboxAgent object at 0x000001B468CA44F0>}\n",
      "{'source': 'test_dcc8f798-3dd2-44ac-81d6-633aa180d28d', 'target': 'jokebot_responder_2642e700-eca2-4491-a1d9-d0b842d5958d'}\n",
      "{'jokebot_teller_888044cc-1ef5-40ff-ac1e-b139bdd52995': <agents.InboxAgent.InboxAgent object at 0x000001B468C36CD0>, 'jokebot_responder_2642e700-eca2-4491-a1d9-d0b842d5958d': <agents.InboxAgent.InboxAgent object at 0x000001B468C36A90>, 'User_38771e67-e7da-403b-af20-9ab2efedc084': <agents.UserProxyAgent.UserProxyAgent object at 0x000001B468C36B80>, 'jokebot_responder_2_49d9d393-58b6-4edc-9143-2ba97a1d77c2': <agents.InboxAgent.InboxAgent object at 0x000001B468C36C70>, 'User_8255891c-fc6c-4c68-9266-ec4f7a578976': <agents.UserProxyAgent.UserProxyAgent object at 0x000001B468CC09D0>, 'test_dcc8f798-3dd2-44ac-81d6-633aa180d28d': <agents.InboxAgent.InboxAgent object at 0x000001B468CA44F0>}\n",
      "{'jokebot_teller_888044cc-1ef5-40ff-ac1e-b139bdd52995': <agents.InboxAgent.InboxAgent object at 0x000001B468C36CD0>, 'jokebot_responder_2642e700-eca2-4491-a1d9-d0b842d5958d': <agents.InboxAgent.InboxAgent object at 0x000001B468C36A90>, 'User_38771e67-e7da-403b-af20-9ab2efedc084': <agents.UserProxyAgent.UserProxyAgent object at 0x000001B468C36B80>, 'jokebot_responder_2_49d9d393-58b6-4edc-9143-2ba97a1d77c2': <agents.InboxAgent.InboxAgent object at 0x000001B468C36C70>, 'User_8255891c-fc6c-4c68-9266-ec4f7a578976': <agents.UserProxyAgent.UserProxyAgent object at 0x000001B468CC09D0>, 'test_dcc8f798-3dd2-44ac-81d6-633aa180d28d': <agents.InboxAgent.InboxAgent object at 0x000001B468CA44F0>}\n",
      "{'jokebot_teller_888044cc-1ef5-40ff-ac1e-b139bdd52995': <agents.InboxAgent.InboxAgent object at 0x000001B468C36CD0>, 'jokebot_responder_2642e700-eca2-4491-a1d9-d0b842d5958d': <agents.InboxAgent.InboxAgent object at 0x000001B468C36A90>, 'User_38771e67-e7da-403b-af20-9ab2efedc084': <agents.UserProxyAgent.UserProxyAgent object at 0x000001B468C36B80>, 'jokebot_responder_2_49d9d393-58b6-4edc-9143-2ba97a1d77c2': <agents.InboxAgent.InboxAgent object at 0x000001B468C36C70>, 'User_8255891c-fc6c-4c68-9266-ec4f7a578976': <agents.UserProxyAgent.UserProxyAgent object at 0x000001B468CC09D0>, 'test_dcc8f798-3dd2-44ac-81d6-633aa180d28d': <agents.InboxAgent.InboxAgent object at 0x000001B468CA44F0>}\n",
      "{'jokebot_teller_888044cc-1ef5-40ff-ac1e-b139bdd52995': <agents.InboxAgent.InboxAgent object at 0x000001B468C36CD0>, 'jokebot_responder_2642e700-eca2-4491-a1d9-d0b842d5958d': <agents.InboxAgent.InboxAgent object at 0x000001B468C36A90>, 'User_38771e67-e7da-403b-af20-9ab2efedc084': <agents.UserProxyAgent.UserProxyAgent object at 0x000001B468C36B80>, 'jokebot_responder_2_49d9d393-58b6-4edc-9143-2ba97a1d77c2': <agents.InboxAgent.InboxAgent object at 0x000001B468C36C70>, 'User_8255891c-fc6c-4c68-9266-ec4f7a578976': <agents.UserProxyAgent.UserProxyAgent object at 0x000001B468CC09D0>, 'test_dcc8f798-3dd2-44ac-81d6-633aa180d28d': <agents.InboxAgent.InboxAgent object at 0x000001B468CA44F0>}\n",
      "{'jokebot_teller_888044cc-1ef5-40ff-ac1e-b139bdd52995': <agents.InboxAgent.InboxAgent object at 0x000001B468C36CD0>, 'jokebot_responder_2642e700-eca2-4491-a1d9-d0b842d5958d': <agents.InboxAgent.InboxAgent object at 0x000001B468C36A90>, 'User_38771e67-e7da-403b-af20-9ab2efedc084': <agents.UserProxyAgent.UserProxyAgent object at 0x000001B468C36B80>, 'jokebot_responder_2_49d9d393-58b6-4edc-9143-2ba97a1d77c2': <agents.InboxAgent.InboxAgent object at 0x000001B468C36C70>, 'User_8255891c-fc6c-4c68-9266-ec4f7a578976': <agents.UserProxyAgent.UserProxyAgent object at 0x000001B468CC09D0>, 'test_dcc8f798-3dd2-44ac-81d6-633aa180d28d': <agents.InboxAgent.InboxAgent object at 0x000001B468CA44F0>}\n",
      "{'jokebot_teller_888044cc-1ef5-40ff-ac1e-b139bdd52995': <agents.InboxAgent.InboxAgent object at 0x000001B468C36CD0>, 'jokebot_responder_2642e700-eca2-4491-a1d9-d0b842d5958d': <agents.InboxAgent.InboxAgent object at 0x000001B468C36A90>, 'User_38771e67-e7da-403b-af20-9ab2efedc084': <agents.UserProxyAgent.UserProxyAgent object at 0x000001B468C36B80>, 'jokebot_responder_2_49d9d393-58b6-4edc-9143-2ba97a1d77c2': <agents.InboxAgent.InboxAgent object at 0x000001B468C36C70>, 'User_8255891c-fc6c-4c68-9266-ec4f7a578976': <agents.UserProxyAgent.UserProxyAgent object at 0x000001B468CC09D0>, 'test_dcc8f798-3dd2-44ac-81d6-633aa180d28d': <agents.InboxAgent.InboxAgent object at 0x000001B468CA44F0>}\n",
      "{'source': 'test_dcc8f798-3dd2-44ac-81d6-633aa180d28d', 'target': 'User_8255891c-fc6c-4c68-9266-ec4f7a578976'}\n",
      "{'jokebot_teller_888044cc-1ef5-40ff-ac1e-b139bdd52995': <agents.InboxAgent.InboxAgent object at 0x000001B468C36CD0>, 'jokebot_responder_2642e700-eca2-4491-a1d9-d0b842d5958d': <agents.InboxAgent.InboxAgent object at 0x000001B468C36A90>, 'User_38771e67-e7da-403b-af20-9ab2efedc084': <agents.UserProxyAgent.UserProxyAgent object at 0x000001B468C36B80>, 'jokebot_responder_2_49d9d393-58b6-4edc-9143-2ba97a1d77c2': <agents.InboxAgent.InboxAgent object at 0x000001B468C36C70>, 'User_8255891c-fc6c-4c68-9266-ec4f7a578976': <agents.UserProxyAgent.UserProxyAgent object at 0x000001B468CC09D0>, 'test_dcc8f798-3dd2-44ac-81d6-633aa180d28d': <agents.InboxAgent.InboxAgent object at 0x000001B468CA44F0>}\n",
      "{'jokebot_teller_888044cc-1ef5-40ff-ac1e-b139bdd52995': <agents.InboxAgent.InboxAgent object at 0x000001B468C36CD0>, 'jokebot_responder_2642e700-eca2-4491-a1d9-d0b842d5958d': <agents.InboxAgent.InboxAgent object at 0x000001B468C36A90>, 'User_38771e67-e7da-403b-af20-9ab2efedc084': <agents.UserProxyAgent.UserProxyAgent object at 0x000001B468C36B80>, 'jokebot_responder_2_49d9d393-58b6-4edc-9143-2ba97a1d77c2': <agents.InboxAgent.InboxAgent object at 0x000001B468C36C70>, 'User_8255891c-fc6c-4c68-9266-ec4f7a578976': <agents.UserProxyAgent.UserProxyAgent object at 0x000001B468CC09D0>, 'test_dcc8f798-3dd2-44ac-81d6-633aa180d28d': <agents.InboxAgent.InboxAgent object at 0x000001B468CA44F0>}\n",
      "{'jokebot_teller_888044cc-1ef5-40ff-ac1e-b139bdd52995': <agents.InboxAgent.InboxAgent object at 0x000001B468C36CD0>, 'jokebot_responder_2642e700-eca2-4491-a1d9-d0b842d5958d': <agents.InboxAgent.InboxAgent object at 0x000001B468C36A90>, 'User_38771e67-e7da-403b-af20-9ab2efedc084': <agents.UserProxyAgent.UserProxyAgent object at 0x000001B468C36B80>, 'jokebot_responder_2_49d9d393-58b6-4edc-9143-2ba97a1d77c2': <agents.InboxAgent.InboxAgent object at 0x000001B468C36C70>, 'User_8255891c-fc6c-4c68-9266-ec4f7a578976': <agents.UserProxyAgent.UserProxyAgent object at 0x000001B468CC09D0>, 'test_dcc8f798-3dd2-44ac-81d6-633aa180d28d': <agents.InboxAgent.InboxAgent object at 0x000001B468CA44F0>}\n",
      "{'jokebot_teller_888044cc-1ef5-40ff-ac1e-b139bdd52995': <agents.InboxAgent.InboxAgent object at 0x000001B468C36CD0>, 'jokebot_responder_2642e700-eca2-4491-a1d9-d0b842d5958d': <agents.InboxAgent.InboxAgent object at 0x000001B468C36A90>, 'User_38771e67-e7da-403b-af20-9ab2efedc084': <agents.UserProxyAgent.UserProxyAgent object at 0x000001B468C36B80>, 'jokebot_responder_2_49d9d393-58b6-4edc-9143-2ba97a1d77c2': <agents.InboxAgent.InboxAgent object at 0x000001B468C36C70>, 'User_8255891c-fc6c-4c68-9266-ec4f7a578976': <agents.UserProxyAgent.UserProxyAgent object at 0x000001B468CC09D0>, 'test_dcc8f798-3dd2-44ac-81d6-633aa180d28d': <agents.InboxAgent.InboxAgent object at 0x000001B468CA44F0>}\n",
      "{'jokebot_teller_888044cc-1ef5-40ff-ac1e-b139bdd52995': <agents.InboxAgent.InboxAgent object at 0x000001B468C36CD0>, 'jokebot_responder_2642e700-eca2-4491-a1d9-d0b842d5958d': <agents.InboxAgent.InboxAgent object at 0x000001B468C36A90>, 'User_38771e67-e7da-403b-af20-9ab2efedc084': <agents.UserProxyAgent.UserProxyAgent object at 0x000001B468C36B80>, 'jokebot_responder_2_49d9d393-58b6-4edc-9143-2ba97a1d77c2': <agents.InboxAgent.InboxAgent object at 0x000001B468C36C70>, 'User_8255891c-fc6c-4c68-9266-ec4f7a578976': <agents.UserProxyAgent.UserProxyAgent object at 0x000001B468CC09D0>, 'test_dcc8f798-3dd2-44ac-81d6-633aa180d28d': <agents.InboxAgent.InboxAgent object at 0x000001B468CA44F0>}\n",
      "{'jokebot_teller_888044cc-1ef5-40ff-ac1e-b139bdd52995': <agents.InboxAgent.InboxAgent object at 0x000001B468C36CD0>, 'jokebot_responder_2642e700-eca2-4491-a1d9-d0b842d5958d': <agents.InboxAgent.InboxAgent object at 0x000001B468C36A90>, 'User_38771e67-e7da-403b-af20-9ab2efedc084': <agents.UserProxyAgent.UserProxyAgent object at 0x000001B468C36B80>, 'jokebot_responder_2_49d9d393-58b6-4edc-9143-2ba97a1d77c2': <agents.InboxAgent.InboxAgent object at 0x000001B468C36C70>, 'User_8255891c-fc6c-4c68-9266-ec4f7a578976': <agents.UserProxyAgent.UserProxyAgent object at 0x000001B468CC09D0>, 'test_dcc8f798-3dd2-44ac-81d6-633aa180d28d': <agents.InboxAgent.InboxAgent object at 0x000001B468CA44F0>}\n",
      "{'source': 'test_dcc8f798-3dd2-44ac-81d6-633aa180d28d', 'target': 'User_38771e67-e7da-403b-af20-9ab2efedc084'}\n",
      "toggle_node_status_all True\n",
      "{'jokebot_teller_888044cc-1ef5-40ff-ac1e-b139bdd52995': <agents.InboxAgent.InboxAgent object at 0x000001B468C36CD0>, 'jokebot_responder_2642e700-eca2-4491-a1d9-d0b842d5958d': <agents.InboxAgent.InboxAgent object at 0x000001B468C36A90>, 'User_38771e67-e7da-403b-af20-9ab2efedc084': <agents.UserProxyAgent.UserProxyAgent object at 0x000001B468C36B80>, 'jokebot_responder_2_49d9d393-58b6-4edc-9143-2ba97a1d77c2': <agents.InboxAgent.InboxAgent object at 0x000001B468C36C70>, 'User_8255891c-fc6c-4c68-9266-ec4f7a578976': <agents.UserProxyAgent.UserProxyAgent object at 0x000001B468CC09D0>, 'test_dcc8f798-3dd2-44ac-81d6-633aa180d28d': <agents.InboxAgent.InboxAgent object at 0x000001B468CA44F0>}\n",
      "{'jokebot_teller_888044cc-1ef5-40ff-ac1e-b139bdd52995': <agents.InboxAgent.InboxAgent object at 0x000001B468C36CD0>, 'jokebot_responder_2642e700-eca2-4491-a1d9-d0b842d5958d': <agents.InboxAgent.InboxAgent object at 0x000001B468C36A90>, 'User_38771e67-e7da-403b-af20-9ab2efedc084': <agents.UserProxyAgent.UserProxyAgent object at 0x000001B468C36B80>, 'jokebot_responder_2_49d9d393-58b6-4edc-9143-2ba97a1d77c2': <agents.InboxAgent.InboxAgent object at 0x000001B468C36C70>, 'User_8255891c-fc6c-4c68-9266-ec4f7a578976': <agents.UserProxyAgent.UserProxyAgent object at 0x000001B468CC09D0>, 'test_dcc8f798-3dd2-44ac-81d6-633aa180d28d': <agents.InboxAgent.InboxAgent object at 0x000001B468CA44F0>}{'jokebot_teller_888044cc-1ef5-40ff-ac1e-b139bdd52995': <agents.InboxAgent.InboxAgent object at 0x000001B468C36CD0>, 'jokebot_responder_2642e700-eca2-4491-a1d9-d0b842d5958d': <agents.InboxAgent.InboxAgent object at 0x000001B468C36A90>, 'User_38771e67-e7da-403b-af20-9ab2efedc084': <agents.UserProxyAgent.UserProxyAgent object at 0x000001B468C36B80>, 'jokebot_responder_2_49d9d393-58b6-4edc-9143-2ba97a1d77c2': <agents.InboxAgent.InboxAgent object at 0x000001B468C36C70>, 'User_8255891c-fc6c-4c68-9266-ec4f7a578976': <agents.UserProxyAgent.UserProxyAgent object at 0x000001B468CC09D0>, 'test_dcc8f798-3dd2-44ac-81d6-633aa180d28d': <agents.InboxAgent.InboxAgent object at 0x000001B468CA44F0>}\n",
      "\n",
      "{'jokebot_teller_888044cc-1ef5-40ff-ac1e-b139bdd52995': <agents.InboxAgent.InboxAgent object at 0x000001B468C36CD0>, 'jokebot_responder_2642e700-eca2-4491-a1d9-d0b842d5958d': <agents.InboxAgent.InboxAgent object at 0x000001B468C36A90>, 'User_38771e67-e7da-403b-af20-9ab2efedc084': <agents.UserProxyAgent.UserProxyAgent object at 0x000001B468C36B80>, 'jokebot_responder_2_49d9d393-58b6-4edc-9143-2ba97a1d77c2': <agents.InboxAgent.InboxAgent object at 0x000001B468C36C70>, 'User_8255891c-fc6c-4c68-9266-ec4f7a578976': <agents.UserProxyAgent.UserProxyAgent object at 0x000001B468CC09D0>, 'test_dcc8f798-3dd2-44ac-81d6-633aa180d28d': <agents.InboxAgent.InboxAgent object at 0x000001B468CA44F0>}\n",
      "{'jokebot_teller_888044cc-1ef5-40ff-ac1e-b139bdd52995': <agents.InboxAgent.InboxAgent object at 0x000001B468C36CD0>, 'jokebot_responder_2642e700-eca2-4491-a1d9-d0b842d5958d': <agents.InboxAgent.InboxAgent object at 0x000001B468C36A90>, 'User_38771e67-e7da-403b-af20-9ab2efedc084': <agents.UserProxyAgent.UserProxyAgent object at 0x000001B468C36B80>, 'jokebot_responder_2_49d9d393-58b6-4edc-9143-2ba97a1d77c2': <agents.InboxAgent.InboxAgent object at 0x000001B468C36C70>, 'User_8255891c-fc6c-4c68-9266-ec4f7a578976': <agents.UserProxyAgent.UserProxyAgent object at 0x000001B468CC09D0>, 'test_dcc8f798-3dd2-44ac-81d6-633aa180d28d': <agents.InboxAgent.InboxAgent object at 0x000001B468CA44F0>}\n",
      "{'jokebot_teller_888044cc-1ef5-40ff-ac1e-b139bdd52995': <agents.InboxAgent.InboxAgent object at 0x000001B468C36CD0>, 'jokebot_responder_2642e700-eca2-4491-a1d9-d0b842d5958d': <agents.InboxAgent.InboxAgent object at 0x000001B468C36A90>, 'User_38771e67-e7da-403b-af20-9ab2efedc084': <agents.UserProxyAgent.UserProxyAgent object at 0x000001B468C36B80>, 'jokebot_responder_2_49d9d393-58b6-4edc-9143-2ba97a1d77c2': <agents.InboxAgent.InboxAgent object at 0x000001B468C36C70>, 'User_8255891c-fc6c-4c68-9266-ec4f7a578976': <agents.UserProxyAgent.UserProxyAgent object at 0x000001B468CC09D0>, 'test_dcc8f798-3dd2-44ac-81d6-633aa180d28d': <agents.InboxAgent.InboxAgent object at 0x000001B468CA44F0>}\n",
      "{'jokebot_teller_888044cc-1ef5-40ff-ac1e-b139bdd52995': <agents.InboxAgent.InboxAgent object at 0x000001B468C36CD0>, 'jokebot_responder_2642e700-eca2-4491-a1d9-d0b842d5958d': <agents.InboxAgent.InboxAgent object at 0x000001B468C36A90>, 'User_38771e67-e7da-403b-af20-9ab2efedc084': <agents.UserProxyAgent.UserProxyAgent object at 0x000001B468C36B80>, 'jokebot_responder_2_49d9d393-58b6-4edc-9143-2ba97a1d77c2': <agents.InboxAgent.InboxAgent object at 0x000001B468C36C70>, 'User_8255891c-fc6c-4c68-9266-ec4f7a578976': <agents.UserProxyAgent.UserProxyAgent object at 0x000001B468CC09D0>, 'test_dcc8f798-3dd2-44ac-81d6-633aa180d28d': <agents.InboxAgent.InboxAgent object at 0x000001B468CA44F0>}\n",
      "{'jokebot_teller_888044cc-1ef5-40ff-ac1e-b139bdd52995': <agents.InboxAgent.InboxAgent object at 0x000001B468C36CD0>, 'jokebot_responder_2642e700-eca2-4491-a1d9-d0b842d5958d': <agents.InboxAgent.InboxAgent object at 0x000001B468C36A90>, 'User_38771e67-e7da-403b-af20-9ab2efedc084': <agents.UserProxyAgent.UserProxyAgent object at 0x000001B468C36B80>, 'jokebot_responder_2_49d9d393-58b6-4edc-9143-2ba97a1d77c2': <agents.InboxAgent.InboxAgent object at 0x000001B468C36C70>, 'User_8255891c-fc6c-4c68-9266-ec4f7a578976': <agents.UserProxyAgent.UserProxyAgent object at 0x000001B468CC09D0>, 'test_dcc8f798-3dd2-44ac-81d6-633aa180d28d': <agents.InboxAgent.InboxAgent object at 0x000001B468CA44F0>}\n",
      "{'jokebot_teller_888044cc-1ef5-40ff-ac1e-b139bdd52995': <agents.InboxAgent.InboxAgent object at 0x000001B468C36CD0>, 'jokebot_responder_2642e700-eca2-4491-a1d9-d0b842d5958d': <agents.InboxAgent.InboxAgent object at 0x000001B468C36A90>, 'User_38771e67-e7da-403b-af20-9ab2efedc084': <agents.UserProxyAgent.UserProxyAgent object at 0x000001B468C36B80>, 'jokebot_responder_2_49d9d393-58b6-4edc-9143-2ba97a1d77c2': <agents.InboxAgent.InboxAgent object at 0x000001B468C36C70>, 'User_8255891c-fc6c-4c68-9266-ec4f7a578976': <agents.UserProxyAgent.UserProxyAgent object at 0x000001B468CC09D0>, 'test_dcc8f798-3dd2-44ac-81d6-633aa180d28d': <agents.InboxAgent.InboxAgent object at 0x000001B468CA44F0>}\n",
      "{'jokebot_teller_888044cc-1ef5-40ff-ac1e-b139bdd52995': <agents.InboxAgent.InboxAgent object at 0x000001B468C36CD0>, 'jokebot_responder_2642e700-eca2-4491-a1d9-d0b842d5958d': <agents.InboxAgent.InboxAgent object at 0x000001B468C36A90>, 'User_38771e67-e7da-403b-af20-9ab2efedc084': <agents.UserProxyAgent.UserProxyAgent object at 0x000001B468C36B80>, 'jokebot_responder_2_49d9d393-58b6-4edc-9143-2ba97a1d77c2': <agents.InboxAgent.InboxAgent object at 0x000001B468C36C70>, 'User_8255891c-fc6c-4c68-9266-ec4f7a578976': <agents.UserProxyAgent.UserProxyAgent object at 0x000001B468CC09D0>, 'test_dcc8f798-3dd2-44ac-81d6-633aa180d28d': <agents.InboxAgent.InboxAgent object at 0x000001B468CA44F0>}\n",
      "toggle_node_status_all False\n",
      "{'jokebot_teller_888044cc-1ef5-40ff-ac1e-b139bdd52995': <agents.InboxAgent.InboxAgent object at 0x000001B468C36CD0>, 'jokebot_responder_2642e700-eca2-4491-a1d9-d0b842d5958d': <agents.InboxAgent.InboxAgent object at 0x000001B468C36A90>, 'User_38771e67-e7da-403b-af20-9ab2efedc084': <agents.UserProxyAgent.UserProxyAgent object at 0x000001B468C36B80>, 'jokebot_responder_2_49d9d393-58b6-4edc-9143-2ba97a1d77c2': <agents.InboxAgent.InboxAgent object at 0x000001B468C36C70>, 'User_8255891c-fc6c-4c68-9266-ec4f7a578976': <agents.UserProxyAgent.UserProxyAgent object at 0x000001B468CC09D0>, 'test_dcc8f798-3dd2-44ac-81d6-633aa180d28d': <agents.InboxAgent.InboxAgent object at 0x000001B468CA44F0>}\n",
      "{'jokebot_teller_888044cc-1ef5-40ff-ac1e-b139bdd52995': <agents.InboxAgent.InboxAgent object at 0x000001B468C36CD0>, 'jokebot_responder_2642e700-eca2-4491-a1d9-d0b842d5958d': <agents.InboxAgent.InboxAgent object at 0x000001B468C36A90>, 'User_38771e67-e7da-403b-af20-9ab2efedc084': <agents.UserProxyAgent.UserProxyAgent object at 0x000001B468C36B80>, 'jokebot_responder_2_49d9d393-58b6-4edc-9143-2ba97a1d77c2': <agents.InboxAgent.InboxAgent object at 0x000001B468C36C70>, 'User_8255891c-fc6c-4c68-9266-ec4f7a578976': <agents.UserProxyAgent.UserProxyAgent object at 0x000001B468CC09D0>, 'test_dcc8f798-3dd2-44ac-81d6-633aa180d28d': <agents.InboxAgent.InboxAgent object at 0x000001B468CA44F0>}\n",
      "{'jokebot_teller_888044cc-1ef5-40ff-ac1e-b139bdd52995': <agents.InboxAgent.InboxAgent object at 0x000001B468C36CD0>, 'jokebot_responder_2642e700-eca2-4491-a1d9-d0b842d5958d': <agents.InboxAgent.InboxAgent object at 0x000001B468C36A90>, 'User_38771e67-e7da-403b-af20-9ab2efedc084': <agents.UserProxyAgent.UserProxyAgent object at 0x000001B468C36B80>, 'jokebot_responder_2_49d9d393-58b6-4edc-9143-2ba97a1d77c2': <agents.InboxAgent.InboxAgent object at 0x000001B468C36C70>, 'User_8255891c-fc6c-4c68-9266-ec4f7a578976': <agents.UserProxyAgent.UserProxyAgent object at 0x000001B468CC09D0>, 'test_dcc8f798-3dd2-44ac-81d6-633aa180d28d': <agents.InboxAgent.InboxAgent object at 0x000001B468CA44F0>}\n",
      "{'jokebot_teller_888044cc-1ef5-40ff-ac1e-b139bdd52995': <agents.InboxAgent.InboxAgent object at 0x000001B468C36CD0>, 'jokebot_responder_2642e700-eca2-4491-a1d9-d0b842d5958d': <agents.InboxAgent.InboxAgent object at 0x000001B468C36A90>, 'User_38771e67-e7da-403b-af20-9ab2efedc084': <agents.UserProxyAgent.UserProxyAgent object at 0x000001B468C36B80>, 'jokebot_responder_2_49d9d393-58b6-4edc-9143-2ba97a1d77c2': <agents.InboxAgent.InboxAgent object at 0x000001B468C36C70>, 'User_8255891c-fc6c-4c68-9266-ec4f7a578976': <agents.UserProxyAgent.UserProxyAgent object at 0x000001B468CC09D0>, 'test_dcc8f798-3dd2-44ac-81d6-633aa180d28d': <agents.InboxAgent.InboxAgent object at 0x000001B468CA44F0>}\n",
      "{'jokebot_teller_888044cc-1ef5-40ff-ac1e-b139bdd52995': <agents.InboxAgent.InboxAgent object at 0x000001B468C36CD0>, 'jokebot_responder_2642e700-eca2-4491-a1d9-d0b842d5958d': <agents.InboxAgent.InboxAgent object at 0x000001B468C36A90>, 'User_38771e67-e7da-403b-af20-9ab2efedc084': <agents.UserProxyAgent.UserProxyAgent object at 0x000001B468C36B80>, 'jokebot_responder_2_49d9d393-58b6-4edc-9143-2ba97a1d77c2': <agents.InboxAgent.InboxAgent object at 0x000001B468C36C70>, 'User_8255891c-fc6c-4c68-9266-ec4f7a578976': <agents.UserProxyAgent.UserProxyAgent object at 0x000001B468CC09D0>, 'test_dcc8f798-3dd2-44ac-81d6-633aa180d28d': <agents.InboxAgent.InboxAgent object at 0x000001B468CA44F0>}\n",
      "{'jokebot_teller_888044cc-1ef5-40ff-ac1e-b139bdd52995': <agents.InboxAgent.InboxAgent object at 0x000001B468C36CD0>, 'jokebot_responder_2642e700-eca2-4491-a1d9-d0b842d5958d': <agents.InboxAgent.InboxAgent object at 0x000001B468C36A90>, 'User_38771e67-e7da-403b-af20-9ab2efedc084': <agents.UserProxyAgent.UserProxyAgent object at 0x000001B468C36B80>, 'jokebot_responder_2_49d9d393-58b6-4edc-9143-2ba97a1d77c2': <agents.InboxAgent.InboxAgent object at 0x000001B468C36C70>, 'User_8255891c-fc6c-4c68-9266-ec4f7a578976': <agents.UserProxyAgent.UserProxyAgent object at 0x000001B468CC09D0>, 'test_dcc8f798-3dd2-44ac-81d6-633aa180d28d': <agents.InboxAgent.InboxAgent object at 0x000001B468CA44F0>}\n"
     ]
    },
    {
     "name": "stderr",
     "output_type": "stream",
     "text": [
      "127.0.0.1 - - [12/Jan/2024 03:45:53] \"GET /socket.io/?EIO=4&transport=websocket&sid=30GK-pE5CePMtOnGAAAA HTTP/1.1\" 200 -\n"
     ]
    },
    {
     "name": "stdout",
     "output_type": "stream",
     "text": [
      "Client disconnected\n"
     ]
    },
    {
     "name": "stderr",
     "output_type": "stream",
     "text": [
      "127.0.0.1 - - [12/Jan/2024 03:45:55] \"GET /socket.io/?EIO=4&transport=polling&t=OpysMIv HTTP/1.1\" 200 -\n",
      "127.0.0.1 - - [12/Jan/2024 03:45:55] \"GET /socket.io/?EIO=4&transport=polling&t=OpysMI_ HTTP/1.1\" 200 -\n",
      "127.0.0.1 - - [12/Jan/2024 03:45:55] \"POST /socket.io/?EIO=4&transport=polling&t=OpysMO6&sid=lJN58wFxL-JoGm-gAAAI HTTP/1.1\" 200 -\n",
      "127.0.0.1 - - [12/Jan/2024 03:45:55] \"GET /socket.io/?EIO=4&transport=polling&t=OpysMO9&sid=lJN58wFxL-JoGm-gAAAI HTTP/1.1\" 200 -\n",
      "127.0.0.1 - - [12/Jan/2024 03:45:55] \"GET /socket.io/?EIO=4&transport=polling&t=OpysMTX&sid=lJN58wFxL-JoGm-gAAAI HTTP/1.1\" 200 -\n"
     ]
    },
    {
     "name": "stdout",
     "output_type": "stream",
     "text": [
      "Client connected\n",
      "{'nodes': [{'id': 'jokebot_teller_888044cc-1ef5-40ff-ac1e-b139bdd52995', 'label': 'jokebot_teller_888044cc-1ef5-40ff-ac1e-b139bdd52995', 'type': 'jokebot_teller', 'running': False, 'status': 'Stopped'}, {'id': 'jokebot_responder_2642e700-eca2-4491-a1d9-d0b842d5958d', 'label': 'jokebot_responder_2642e700-eca2-4491-a1d9-d0b842d5958d', 'type': 'jokebot_responder', 'running': False, 'status': 'Stopped'}, {'id': 'User_38771e67-e7da-403b-af20-9ab2efedc084', 'label': 'User_38771e67-e7da-403b-af20-9ab2efedc084', 'type': 'User', 'running': True, 'status': 'Running'}, {'id': 'jokebot_responder_2_49d9d393-58b6-4edc-9143-2ba97a1d77c2', 'label': 'jokebot_responder_2_49d9d393-58b6-4edc-9143-2ba97a1d77c2', 'type': 'jokebot_responder_2', 'running': False, 'status': 'Stopped'}, {'id': 'User_8255891c-fc6c-4c68-9266-ec4f7a578976', 'label': 'User_8255891c-fc6c-4c68-9266-ec4f7a578976', 'type': 'User', 'running': True, 'status': 'Running'}, {'id': 'test_dcc8f798-3dd2-44ac-81d6-633aa180d28d', 'label': 'test_dcc8f798-3dd2-44ac-81d6-633aa180d28d', 'type': 'test', 'running': False, 'status': 'Stopped'}], 'links': [{'id': 'jokebot_teller_888044cc-1ef5-40ff-ac1e-b139bdd52995_jokebot_responder_2_49d9d393-58b6-4edc-9143-2ba97a1d77c2', 'source': 'jokebot_teller_888044cc-1ef5-40ff-ac1e-b139bdd52995', 'target': 'jokebot_responder_2_49d9d393-58b6-4edc-9143-2ba97a1d77c2', 'curvature': 0.2, 'rotation': 3.141592653589793}, {'id': 'jokebot_teller_888044cc-1ef5-40ff-ac1e-b139bdd52995_User_38771e67-e7da-403b-af20-9ab2efedc084', 'source': 'jokebot_teller_888044cc-1ef5-40ff-ac1e-b139bdd52995', 'target': 'User_38771e67-e7da-403b-af20-9ab2efedc084', 'curvature': 0.2, 'rotation': 3.141592653589793}, {'id': 'jokebot_teller_888044cc-1ef5-40ff-ac1e-b139bdd52995_jokebot_responder_2642e700-eca2-4491-a1d9-d0b842d5958d', 'source': 'jokebot_teller_888044cc-1ef5-40ff-ac1e-b139bdd52995', 'target': 'jokebot_responder_2642e700-eca2-4491-a1d9-d0b842d5958d', 'curvature': 0.2, 'rotation': 3.141592653589793}, {'id': 'jokebot_responder_2642e700-eca2-4491-a1d9-d0b842d5958d_jokebot_teller_888044cc-1ef5-40ff-ac1e-b139bdd52995', 'source': 'jokebot_responder_2642e700-eca2-4491-a1d9-d0b842d5958d', 'target': 'jokebot_teller_888044cc-1ef5-40ff-ac1e-b139bdd52995', 'curvature': 0.2, 'rotation': 3.141592653589793}, {'id': 'jokebot_responder_2642e700-eca2-4491-a1d9-d0b842d5958d_test_dcc8f798-3dd2-44ac-81d6-633aa180d28d', 'source': 'jokebot_responder_2642e700-eca2-4491-a1d9-d0b842d5958d', 'target': 'test_dcc8f798-3dd2-44ac-81d6-633aa180d28d', 'curvature': 0.2, 'rotation': 3.141592653589793}, {'id': 'User_38771e67-e7da-403b-af20-9ab2efedc084_jokebot_teller_888044cc-1ef5-40ff-ac1e-b139bdd52995', 'source': 'User_38771e67-e7da-403b-af20-9ab2efedc084', 'target': 'jokebot_teller_888044cc-1ef5-40ff-ac1e-b139bdd52995', 'curvature': 0.2, 'rotation': 3.141592653589793}, {'id': 'User_38771e67-e7da-403b-af20-9ab2efedc084_test_dcc8f798-3dd2-44ac-81d6-633aa180d28d', 'source': 'User_38771e67-e7da-403b-af20-9ab2efedc084', 'target': 'test_dcc8f798-3dd2-44ac-81d6-633aa180d28d', 'curvature': 0.2, 'rotation': 3.141592653589793}, {'id': 'jokebot_responder_2_49d9d393-58b6-4edc-9143-2ba97a1d77c2_jokebot_teller_888044cc-1ef5-40ff-ac1e-b139bdd52995', 'source': 'jokebot_responder_2_49d9d393-58b6-4edc-9143-2ba97a1d77c2', 'target': 'jokebot_teller_888044cc-1ef5-40ff-ac1e-b139bdd52995', 'curvature': 0.2, 'rotation': 3.141592653589793}, {'id': 'User_8255891c-fc6c-4c68-9266-ec4f7a578976_test_dcc8f798-3dd2-44ac-81d6-633aa180d28d', 'source': 'User_8255891c-fc6c-4c68-9266-ec4f7a578976', 'target': 'test_dcc8f798-3dd2-44ac-81d6-633aa180d28d', 'curvature': 0.2, 'rotation': 3.141592653589793}, {'id': 'test_dcc8f798-3dd2-44ac-81d6-633aa180d28d_jokebot_responder_2642e700-eca2-4491-a1d9-d0b842d5958d', 'source': 'test_dcc8f798-3dd2-44ac-81d6-633aa180d28d', 'target': 'jokebot_responder_2642e700-eca2-4491-a1d9-d0b842d5958d', 'curvature': 0.2, 'rotation': 3.141592653589793}, {'id': 'test_dcc8f798-3dd2-44ac-81d6-633aa180d28d_User_8255891c-fc6c-4c68-9266-ec4f7a578976', 'source': 'test_dcc8f798-3dd2-44ac-81d6-633aa180d28d', 'target': 'User_8255891c-fc6c-4c68-9266-ec4f7a578976', 'curvature': 0.2, 'rotation': 3.141592653589793}, {'id': 'test_dcc8f798-3dd2-44ac-81d6-633aa180d28d_User_38771e67-e7da-403b-af20-9ab2efedc084', 'source': 'test_dcc8f798-3dd2-44ac-81d6-633aa180d28d', 'target': 'User_38771e67-e7da-403b-af20-9ab2efedc084', 'curvature': 0.2, 'rotation': 3.141592653589793}]}\n"
     ]
    },
    {
     "name": "stderr",
     "output_type": "stream",
     "text": [
      "127.0.0.1 - - [12/Jan/2024 03:45:55] \"GET /socket.io/?EIO=4&transport=polling&t=OpysMWF&sid=lJN58wFxL-JoGm-gAAAI HTTP/1.1\" 200 -\n",
      "127.0.0.1 - - [12/Jan/2024 03:51:35] \"GET /socket.io/?EIO=4&transport=websocket&sid=lJN58wFxL-JoGm-gAAAI HTTP/1.1\" 200 -\n"
     ]
    },
    {
     "name": "stdout",
     "output_type": "stream",
     "text": [
      "Client disconnected\n"
     ]
    },
    {
     "name": "stderr",
     "output_type": "stream",
     "text": [
      "127.0.0.1 - - [12/Jan/2024 03:51:35] \"GET /socket.io/?EIO=4&transport=polling&t=OpytfV8 HTTP/1.1\" 200 -\n",
      "127.0.0.1 - - [12/Jan/2024 03:51:36] \"POST /socket.io/?EIO=4&transport=polling&t=OpytfaI&sid=WcwwlQ2sj-n8S0wuAAAK HTTP/1.1\" 200 -\n",
      "127.0.0.1 - - [12/Jan/2024 03:51:36] \"GET /socket.io/?EIO=4&transport=polling&t=OpytfaJ&sid=WcwwlQ2sj-n8S0wuAAAK HTTP/1.1\" 200 -\n"
     ]
    },
    {
     "name": "stdout",
     "output_type": "stream",
     "text": [
      "Client connected\n",
      "{'nodes': [{'id': 'jokebot_teller_888044cc-1ef5-40ff-ac1e-b139bdd52995', 'label': 'jokebot_teller_888044cc-1ef5-40ff-ac1e-b139bdd52995', 'type': 'jokebot_teller', 'running': False, 'status': 'Stopped'}, {'id': 'jokebot_responder_2642e700-eca2-4491-a1d9-d0b842d5958d', 'label': 'jokebot_responder_2642e700-eca2-4491-a1d9-d0b842d5958d', 'type': 'jokebot_responder', 'running': False, 'status': 'Stopped'}, {'id': 'User_38771e67-e7da-403b-af20-9ab2efedc084', 'label': 'User_38771e67-e7da-403b-af20-9ab2efedc084', 'type': 'User', 'running': True, 'status': 'Running'}, {'id': 'jokebot_responder_2_49d9d393-58b6-4edc-9143-2ba97a1d77c2', 'label': 'jokebot_responder_2_49d9d393-58b6-4edc-9143-2ba97a1d77c2', 'type': 'jokebot_responder_2', 'running': False, 'status': 'Stopped'}, {'id': 'User_8255891c-fc6c-4c68-9266-ec4f7a578976', 'label': 'User_8255891c-fc6c-4c68-9266-ec4f7a578976', 'type': 'User', 'running': True, 'status': 'Running'}, {'id': 'test_dcc8f798-3dd2-44ac-81d6-633aa180d28d', 'label': 'test_dcc8f798-3dd2-44ac-81d6-633aa180d28d', 'type': 'test', 'running': False, 'status': 'Stopped'}], 'links': [{'id': 'jokebot_teller_888044cc-1ef5-40ff-ac1e-b139bdd52995_jokebot_responder_2_49d9d393-58b6-4edc-9143-2ba97a1d77c2', 'source': 'jokebot_teller_888044cc-1ef5-40ff-ac1e-b139bdd52995', 'target': 'jokebot_responder_2_49d9d393-58b6-4edc-9143-2ba97a1d77c2', 'curvature': 0.2, 'rotation': 3.141592653589793}, {'id': 'jokebot_teller_888044cc-1ef5-40ff-ac1e-b139bdd52995_User_38771e67-e7da-403b-af20-9ab2efedc084', 'source': 'jokebot_teller_888044cc-1ef5-40ff-ac1e-b139bdd52995', 'target': 'User_38771e67-e7da-403b-af20-9ab2efedc084', 'curvature': 0.2, 'rotation': 3.141592653589793}, {'id': 'jokebot_teller_888044cc-1ef5-40ff-ac1e-b139bdd52995_jokebot_responder_2642e700-eca2-4491-a1d9-d0b842d5958d', 'source': 'jokebot_teller_888044cc-1ef5-40ff-ac1e-b139bdd52995', 'target': 'jokebot_responder_2642e700-eca2-4491-a1d9-d0b842d5958d', 'curvature': 0.2, 'rotation': 3.141592653589793}, {'id': 'jokebot_responder_2642e700-eca2-4491-a1d9-d0b842d5958d_jokebot_teller_888044cc-1ef5-40ff-ac1e-b139bdd52995', 'source': 'jokebot_responder_2642e700-eca2-4491-a1d9-d0b842d5958d', 'target': 'jokebot_teller_888044cc-1ef5-40ff-ac1e-b139bdd52995', 'curvature': 0.2, 'rotation': 3.141592653589793}, {'id': 'jokebot_responder_2642e700-eca2-4491-a1d9-d0b842d5958d_test_dcc8f798-3dd2-44ac-81d6-633aa180d28d', 'source': 'jokebot_responder_2642e700-eca2-4491-a1d9-d0b842d5958d', 'target': 'test_dcc8f798-3dd2-44ac-81d6-633aa180d28d', 'curvature': 0.2, 'rotation': 3.141592653589793}, {'id': 'User_38771e67-e7da-403b-af20-9ab2efedc084_jokebot_teller_888044cc-1ef5-40ff-ac1e-b139bdd52995', 'source': 'User_38771e67-e7da-403b-af20-9ab2efedc084', 'target': 'jokebot_teller_888044cc-1ef5-40ff-ac1e-b139bdd52995', 'curvature': 0.2, 'rotation': 3.141592653589793}, {'id': 'User_38771e67-e7da-403b-af20-9ab2efedc084_test_dcc8f798-3dd2-44ac-81d6-633aa180d28d', 'source': 'User_38771e67-e7da-403b-af20-9ab2efedc084', 'target': 'test_dcc8f798-3dd2-44ac-81d6-633aa180d28d', 'curvature': 0.2, 'rotation': 3.141592653589793}, {'id': 'jokebot_responder_2_49d9d393-58b6-4edc-9143-2ba97a1d77c2_jokebot_teller_888044cc-1ef5-40ff-ac1e-b139bdd52995', 'source': 'jokebot_responder_2_49d9d393-58b6-4edc-9143-2ba97a1d77c2', 'target': 'jokebot_teller_888044cc-1ef5-40ff-ac1e-b139bdd52995', 'curvature': 0.2, 'rotation': 3.141592653589793}, {'id': 'User_8255891c-fc6c-4c68-9266-ec4f7a578976_test_dcc8f798-3dd2-44ac-81d6-633aa180d28d', 'source': 'User_8255891c-fc6c-4c68-9266-ec4f7a578976', 'target': 'test_dcc8f798-3dd2-44ac-81d6-633aa180d28d', 'curvature': 0.2, 'rotation': 3.141592653589793}, {'id': 'test_dcc8f798-3dd2-44ac-81d6-633aa180d28d_jokebot_responder_2642e700-eca2-4491-a1d9-d0b842d5958d', 'source': 'test_dcc8f798-3dd2-44ac-81d6-633aa180d28d', 'target': 'jokebot_responder_2642e700-eca2-4491-a1d9-d0b842d5958d', 'curvature': 0.2, 'rotation': 3.141592653589793}, {'id': 'test_dcc8f798-3dd2-44ac-81d6-633aa180d28d_User_8255891c-fc6c-4c68-9266-ec4f7a578976', 'source': 'test_dcc8f798-3dd2-44ac-81d6-633aa180d28d', 'target': 'User_8255891c-fc6c-4c68-9266-ec4f7a578976', 'curvature': 0.2, 'rotation': 3.141592653589793}, {'id': 'test_dcc8f798-3dd2-44ac-81d6-633aa180d28d_User_38771e67-e7da-403b-af20-9ab2efedc084', 'source': 'test_dcc8f798-3dd2-44ac-81d6-633aa180d28d', 'target': 'User_38771e67-e7da-403b-af20-9ab2efedc084', 'curvature': 0.2, 'rotation': 3.141592653589793}]}\n",
      "Client disconnected\n"
     ]
    },
    {
     "name": "stderr",
     "output_type": "stream",
     "text": [
      "127.0.0.1 - - [12/Jan/2024 03:51:36] \"GET /socket.io/?EIO=4&transport=websocket&sid=HTrZ_35vodyT7GzZAAAF HTTP/1.1\" 200 -\n",
      "127.0.0.1 - - [12/Jan/2024 03:51:36] \"GET /socket.io/?EIO=4&transport=polling&t=Opytfh5 HTTP/1.1\" 200 -\n",
      "127.0.0.1 - - [12/Jan/2024 03:51:36] \"GET /socket.io/?EIO=4&transport=polling&t=OpytfhI&sid=WcwwlQ2sj-n8S0wuAAAK HTTP/1.1\" 200 -\n",
      "127.0.0.1 - - [12/Jan/2024 03:51:36] \"POST /socket.io/?EIO=4&transport=polling&t=Opytfkg&sid=Wrrig7iU7xqblwLvAAAM HTTP/1.1\" 200 -\n",
      "127.0.0.1 - - [12/Jan/2024 03:51:36] \"GET /socket.io/?EIO=4&transport=polling&t=Opytfkh&sid=Wrrig7iU7xqblwLvAAAM HTTP/1.1\" 200 -\n"
     ]
    },
    {
     "name": "stdout",
     "output_type": "stream",
     "text": [
      "Client connected\n",
      "{'nodes': [{'id': 'jokebot_teller_888044cc-1ef5-40ff-ac1e-b139bdd52995', 'label': 'jokebot_teller_888044cc-1ef5-40ff-ac1e-b139bdd52995', 'type': 'jokebot_teller', 'running': False, 'status': 'Stopped'}, {'id': 'jokebot_responder_2642e700-eca2-4491-a1d9-d0b842d5958d', 'label': 'jokebot_responder_2642e700-eca2-4491-a1d9-d0b842d5958d', 'type': 'jokebot_responder', 'running': False, 'status': 'Stopped'}, {'id': 'User_38771e67-e7da-403b-af20-9ab2efedc084', 'label': 'User_38771e67-e7da-403b-af20-9ab2efedc084', 'type': 'User', 'running': True, 'status': 'Running'}, {'id': 'jokebot_responder_2_49d9d393-58b6-4edc-9143-2ba97a1d77c2', 'label': 'jokebot_responder_2_49d9d393-58b6-4edc-9143-2ba97a1d77c2', 'type': 'jokebot_responder_2', 'running': False, 'status': 'Stopped'}, {'id': 'User_8255891c-fc6c-4c68-9266-ec4f7a578976', 'label': 'User_8255891c-fc6c-4c68-9266-ec4f7a578976', 'type': 'User', 'running': True, 'status': 'Running'}, {'id': 'test_dcc8f798-3dd2-44ac-81d6-633aa180d28d', 'label': 'test_dcc8f798-3dd2-44ac-81d6-633aa180d28d', 'type': 'test', 'running': False, 'status': 'Stopped'}], 'links': [{'id': 'jokebot_teller_888044cc-1ef5-40ff-ac1e-b139bdd52995_jokebot_responder_2_49d9d393-58b6-4edc-9143-2ba97a1d77c2', 'source': 'jokebot_teller_888044cc-1ef5-40ff-ac1e-b139bdd52995', 'target': 'jokebot_responder_2_49d9d393-58b6-4edc-9143-2ba97a1d77c2', 'curvature': 0.2, 'rotation': 3.141592653589793}, {'id': 'jokebot_teller_888044cc-1ef5-40ff-ac1e-b139bdd52995_User_38771e67-e7da-403b-af20-9ab2efedc084', 'source': 'jokebot_teller_888044cc-1ef5-40ff-ac1e-b139bdd52995', 'target': 'User_38771e67-e7da-403b-af20-9ab2efedc084', 'curvature': 0.2, 'rotation': 3.141592653589793}, {'id': 'jokebot_teller_888044cc-1ef5-40ff-ac1e-b139bdd52995_jokebot_responder_2642e700-eca2-4491-a1d9-d0b842d5958d', 'source': 'jokebot_teller_888044cc-1ef5-40ff-ac1e-b139bdd52995', 'target': 'jokebot_responder_2642e700-eca2-4491-a1d9-d0b842d5958d', 'curvature': 0.2, 'rotation': 3.141592653589793}, {'id': 'jokebot_responder_2642e700-eca2-4491-a1d9-d0b842d5958d_jokebot_teller_888044cc-1ef5-40ff-ac1e-b139bdd52995', 'source': 'jokebot_responder_2642e700-eca2-4491-a1d9-d0b842d5958d', 'target': 'jokebot_teller_888044cc-1ef5-40ff-ac1e-b139bdd52995', 'curvature': 0.2, 'rotation': 3.141592653589793}, {'id': 'jokebot_responder_2642e700-eca2-4491-a1d9-d0b842d5958d_test_dcc8f798-3dd2-44ac-81d6-633aa180d28d', 'source': 'jokebot_responder_2642e700-eca2-4491-a1d9-d0b842d5958d', 'target': 'test_dcc8f798-3dd2-44ac-81d6-633aa180d28d', 'curvature': 0.2, 'rotation': 3.141592653589793}, {'id': 'User_38771e67-e7da-403b-af20-9ab2efedc084_jokebot_teller_888044cc-1ef5-40ff-ac1e-b139bdd52995', 'source': 'User_38771e67-e7da-403b-af20-9ab2efedc084', 'target': 'jokebot_teller_888044cc-1ef5-40ff-ac1e-b139bdd52995', 'curvature': 0.2, 'rotation': 3.141592653589793}, {'id': 'User_38771e67-e7da-403b-af20-9ab2efedc084_test_dcc8f798-3dd2-44ac-81d6-633aa180d28d', 'source': 'User_38771e67-e7da-403b-af20-9ab2efedc084', 'target': 'test_dcc8f798-3dd2-44ac-81d6-633aa180d28d', 'curvature': 0.2, 'rotation': 3.141592653589793}, {'id': 'jokebot_responder_2_49d9d393-58b6-4edc-9143-2ba97a1d77c2_jokebot_teller_888044cc-1ef5-40ff-ac1e-b139bdd52995', 'source': 'jokebot_responder_2_49d9d393-58b6-4edc-9143-2ba97a1d77c2', 'target': 'jokebot_teller_888044cc-1ef5-40ff-ac1e-b139bdd52995', 'curvature': 0.2, 'rotation': 3.141592653589793}, {'id': 'User_8255891c-fc6c-4c68-9266-ec4f7a578976_test_dcc8f798-3dd2-44ac-81d6-633aa180d28d', 'source': 'User_8255891c-fc6c-4c68-9266-ec4f7a578976', 'target': 'test_dcc8f798-3dd2-44ac-81d6-633aa180d28d', 'curvature': 0.2, 'rotation': 3.141592653589793}, {'id': 'test_dcc8f798-3dd2-44ac-81d6-633aa180d28d_jokebot_responder_2642e700-eca2-4491-a1d9-d0b842d5958d', 'source': 'test_dcc8f798-3dd2-44ac-81d6-633aa180d28d', 'target': 'jokebot_responder_2642e700-eca2-4491-a1d9-d0b842d5958d', 'curvature': 0.2, 'rotation': 3.141592653589793}, {'id': 'test_dcc8f798-3dd2-44ac-81d6-633aa180d28d_User_8255891c-fc6c-4c68-9266-ec4f7a578976', 'source': 'test_dcc8f798-3dd2-44ac-81d6-633aa180d28d', 'target': 'User_8255891c-fc6c-4c68-9266-ec4f7a578976', 'curvature': 0.2, 'rotation': 3.141592653589793}, {'id': 'test_dcc8f798-3dd2-44ac-81d6-633aa180d28d_User_38771e67-e7da-403b-af20-9ab2efedc084', 'source': 'test_dcc8f798-3dd2-44ac-81d6-633aa180d28d', 'target': 'User_38771e67-e7da-403b-af20-9ab2efedc084', 'curvature': 0.2, 'rotation': 3.141592653589793}]}\n"
     ]
    },
    {
     "name": "stderr",
     "output_type": "stream",
     "text": [
      "127.0.0.1 - - [12/Jan/2024 03:51:37] \"GET /socket.io/?EIO=4&transport=polling&t=Opytfqx&sid=Wrrig7iU7xqblwLvAAAM HTTP/1.1\" 200 -\n"
     ]
    },
    {
     "name": "stdout",
     "output_type": "stream",
     "text": [
      "{'jokebot_teller_888044cc-1ef5-40ff-ac1e-b139bdd52995': <agents.InboxAgent.InboxAgent object at 0x000001B468C36CD0>, 'jokebot_responder_2642e700-eca2-4491-a1d9-d0b842d5958d': <agents.InboxAgent.InboxAgent object at 0x000001B468C36A90>, 'User_38771e67-e7da-403b-af20-9ab2efedc084': <agents.UserProxyAgent.UserProxyAgent object at 0x000001B468C36B80>, 'jokebot_responder_2_49d9d393-58b6-4edc-9143-2ba97a1d77c2': <agents.InboxAgent.InboxAgent object at 0x000001B468C36C70>, 'User_8255891c-fc6c-4c68-9266-ec4f7a578976': <agents.UserProxyAgent.UserProxyAgent object at 0x000001B468CC09D0>, 'test_dcc8f798-3dd2-44ac-81d6-633aa180d28d': <agents.InboxAgent.InboxAgent object at 0x000001B468CA44F0>}\n",
      "{'jokebot_teller_888044cc-1ef5-40ff-ac1e-b139bdd52995': <agents.InboxAgent.InboxAgent object at 0x000001B468C36CD0>, 'jokebot_responder_2642e700-eca2-4491-a1d9-d0b842d5958d': <agents.InboxAgent.InboxAgent object at 0x000001B468C36A90>, 'User_38771e67-e7da-403b-af20-9ab2efedc084': <agents.UserProxyAgent.UserProxyAgent object at 0x000001B468C36B80>, 'jokebot_responder_2_49d9d393-58b6-4edc-9143-2ba97a1d77c2': <agents.InboxAgent.InboxAgent object at 0x000001B468C36C70>, 'User_8255891c-fc6c-4c68-9266-ec4f7a578976': <agents.UserProxyAgent.UserProxyAgent object at 0x000001B468CC09D0>, 'test_dcc8f798-3dd2-44ac-81d6-633aa180d28d': <agents.InboxAgent.InboxAgent object at 0x000001B468CA44F0>}\n",
      "{'jokebot_teller_888044cc-1ef5-40ff-ac1e-b139bdd52995': <agents.InboxAgent.InboxAgent object at 0x000001B468C36CD0>, 'jokebot_responder_2642e700-eca2-4491-a1d9-d0b842d5958d': <agents.InboxAgent.InboxAgent object at 0x000001B468C36A90>, 'User_38771e67-e7da-403b-af20-9ab2efedc084': <agents.UserProxyAgent.UserProxyAgent object at 0x000001B468C36B80>, 'jokebot_responder_2_49d9d393-58b6-4edc-9143-2ba97a1d77c2': <agents.InboxAgent.InboxAgent object at 0x000001B468C36C70>, 'User_8255891c-fc6c-4c68-9266-ec4f7a578976': <agents.UserProxyAgent.UserProxyAgent object at 0x000001B468CC09D0>, 'test_dcc8f798-3dd2-44ac-81d6-633aa180d28d': <agents.InboxAgent.InboxAgent object at 0x000001B468CA44F0>}\n",
      "{'jokebot_teller_888044cc-1ef5-40ff-ac1e-b139bdd52995': <agents.InboxAgent.InboxAgent object at 0x000001B468C36CD0>, 'jokebot_responder_2642e700-eca2-4491-a1d9-d0b842d5958d': <agents.InboxAgent.InboxAgent object at 0x000001B468C36A90>, 'User_38771e67-e7da-403b-af20-9ab2efedc084': <agents.UserProxyAgent.UserProxyAgent object at 0x000001B468C36B80>, 'jokebot_responder_2_49d9d393-58b6-4edc-9143-2ba97a1d77c2': <agents.InboxAgent.InboxAgent object at 0x000001B468C36C70>, 'User_8255891c-fc6c-4c68-9266-ec4f7a578976': <agents.UserProxyAgent.UserProxyAgent object at 0x000001B468CC09D0>, 'test_dcc8f798-3dd2-44ac-81d6-633aa180d28d': <agents.InboxAgent.InboxAgent object at 0x000001B468CA44F0>}\n",
      "{'jokebot_teller_888044cc-1ef5-40ff-ac1e-b139bdd52995': <agents.InboxAgent.InboxAgent object at 0x000001B468C36CD0>, 'jokebot_responder_2642e700-eca2-4491-a1d9-d0b842d5958d': <agents.InboxAgent.InboxAgent object at 0x000001B468C36A90>, 'User_38771e67-e7da-403b-af20-9ab2efedc084': <agents.UserProxyAgent.UserProxyAgent object at 0x000001B468C36B80>, 'jokebot_responder_2_49d9d393-58b6-4edc-9143-2ba97a1d77c2': <agents.InboxAgent.InboxAgent object at 0x000001B468C36C70>, 'User_8255891c-fc6c-4c68-9266-ec4f7a578976': <agents.UserProxyAgent.UserProxyAgent object at 0x000001B468CC09D0>, 'test_dcc8f798-3dd2-44ac-81d6-633aa180d28d': <agents.InboxAgent.InboxAgent object at 0x000001B468CA44F0>}\n",
      "{'jokebot_teller_888044cc-1ef5-40ff-ac1e-b139bdd52995': <agents.InboxAgent.InboxAgent object at 0x000001B468C36CD0>, 'jokebot_responder_2642e700-eca2-4491-a1d9-d0b842d5958d': <agents.InboxAgent.InboxAgent object at 0x000001B468C36A90>, 'User_38771e67-e7da-403b-af20-9ab2efedc084': <agents.UserProxyAgent.UserProxyAgent object at 0x000001B468C36B80>, 'jokebot_responder_2_49d9d393-58b6-4edc-9143-2ba97a1d77c2': <agents.InboxAgent.InboxAgent object at 0x000001B468C36C70>, 'User_8255891c-fc6c-4c68-9266-ec4f7a578976': <agents.UserProxyAgent.UserProxyAgent object at 0x000001B468CC09D0>, 'test_dcc8f798-3dd2-44ac-81d6-633aa180d28d': <agents.InboxAgent.InboxAgent object at 0x000001B468CA44F0>}\n",
      "{'jokebot_teller_888044cc-1ef5-40ff-ac1e-b139bdd52995': <agents.InboxAgent.InboxAgent object at 0x000001B468C36CD0>, 'jokebot_responder_2642e700-eca2-4491-a1d9-d0b842d5958d': <agents.InboxAgent.InboxAgent object at 0x000001B468C36A90>, 'User_38771e67-e7da-403b-af20-9ab2efedc084': <agents.UserProxyAgent.UserProxyAgent object at 0x000001B468C36B80>, 'jokebot_responder_2_49d9d393-58b6-4edc-9143-2ba97a1d77c2': <agents.InboxAgent.InboxAgent object at 0x000001B468C36C70>, 'User_8255891c-fc6c-4c68-9266-ec4f7a578976': <agents.UserProxyAgent.UserProxyAgent object at 0x000001B468CC09D0>, 'test_dcc8f798-3dd2-44ac-81d6-633aa180d28d': <agents.InboxAgent.InboxAgent object at 0x000001B468CA44F0>}\n",
      "{'jokebot_teller_888044cc-1ef5-40ff-ac1e-b139bdd52995': <agents.InboxAgent.InboxAgent object at 0x000001B468C36CD0>, 'jokebot_responder_2642e700-eca2-4491-a1d9-d0b842d5958d': <agents.InboxAgent.InboxAgent object at 0x000001B468C36A90>, 'User_38771e67-e7da-403b-af20-9ab2efedc084': <agents.UserProxyAgent.UserProxyAgent object at 0x000001B468C36B80>, 'jokebot_responder_2_49d9d393-58b6-4edc-9143-2ba97a1d77c2': <agents.InboxAgent.InboxAgent object at 0x000001B468C36C70>, 'User_8255891c-fc6c-4c68-9266-ec4f7a578976': <agents.UserProxyAgent.UserProxyAgent object at 0x000001B468CC09D0>, 'test_dcc8f798-3dd2-44ac-81d6-633aa180d28d': <agents.InboxAgent.InboxAgent object at 0x000001B468CA44F0>}\n",
      "{'jokebot_teller_888044cc-1ef5-40ff-ac1e-b139bdd52995': <agents.InboxAgent.InboxAgent object at 0x000001B468C36CD0>, 'jokebot_responder_2642e700-eca2-4491-a1d9-d0b842d5958d': <agents.InboxAgent.InboxAgent object at 0x000001B468C36A90>, 'User_38771e67-e7da-403b-af20-9ab2efedc084': <agents.UserProxyAgent.UserProxyAgent object at 0x000001B468C36B80>, 'jokebot_responder_2_49d9d393-58b6-4edc-9143-2ba97a1d77c2': <agents.InboxAgent.InboxAgent object at 0x000001B468C36C70>, 'User_8255891c-fc6c-4c68-9266-ec4f7a578976': <agents.UserProxyAgent.UserProxyAgent object at 0x000001B468CC09D0>, 'test_dcc8f798-3dd2-44ac-81d6-633aa180d28d': <agents.InboxAgent.InboxAgent object at 0x000001B468CA44F0>}\n",
      "{'jokebot_teller_888044cc-1ef5-40ff-ac1e-b139bdd52995': <agents.InboxAgent.InboxAgent object at 0x000001B468C36CD0>, 'jokebot_responder_2642e700-eca2-4491-a1d9-d0b842d5958d': <agents.InboxAgent.InboxAgent object at 0x000001B468C36A90>, 'User_38771e67-e7da-403b-af20-9ab2efedc084': <agents.UserProxyAgent.UserProxyAgent object at 0x000001B468C36B80>, 'jokebot_responder_2_49d9d393-58b6-4edc-9143-2ba97a1d77c2': <agents.InboxAgent.InboxAgent object at 0x000001B468C36C70>, 'User_8255891c-fc6c-4c68-9266-ec4f7a578976': <agents.UserProxyAgent.UserProxyAgent object at 0x000001B468CC09D0>, 'test_dcc8f798-3dd2-44ac-81d6-633aa180d28d': <agents.InboxAgent.InboxAgent object at 0x000001B468CA44F0>}\n",
      "{'jokebot_teller_888044cc-1ef5-40ff-ac1e-b139bdd52995': <agents.InboxAgent.InboxAgent object at 0x000001B468C36CD0>, 'jokebot_responder_2642e700-eca2-4491-a1d9-d0b842d5958d': <agents.InboxAgent.InboxAgent object at 0x000001B468C36A90>, 'User_38771e67-e7da-403b-af20-9ab2efedc084': <agents.UserProxyAgent.UserProxyAgent object at 0x000001B468C36B80>, 'jokebot_responder_2_49d9d393-58b6-4edc-9143-2ba97a1d77c2': <agents.InboxAgent.InboxAgent object at 0x000001B468C36C70>, 'User_8255891c-fc6c-4c68-9266-ec4f7a578976': <agents.UserProxyAgent.UserProxyAgent object at 0x000001B468CC09D0>, 'test_dcc8f798-3dd2-44ac-81d6-633aa180d28d': <agents.InboxAgent.InboxAgent object at 0x000001B468CA44F0>}\n",
      "{'jokebot_teller_888044cc-1ef5-40ff-ac1e-b139bdd52995': <agents.InboxAgent.InboxAgent object at 0x000001B468C36CD0>, 'jokebot_responder_2642e700-eca2-4491-a1d9-d0b842d5958d': <agents.InboxAgent.InboxAgent object at 0x000001B468C36A90>, 'User_38771e67-e7da-403b-af20-9ab2efedc084': <agents.UserProxyAgent.UserProxyAgent object at 0x000001B468C36B80>, 'jokebot_responder_2_49d9d393-58b6-4edc-9143-2ba97a1d77c2': <agents.InboxAgent.InboxAgent object at 0x000001B468C36C70>, 'User_8255891c-fc6c-4c68-9266-ec4f7a578976': <agents.UserProxyAgent.UserProxyAgent object at 0x000001B468CC09D0>, 'test_dcc8f798-3dd2-44ac-81d6-633aa180d28d': <agents.InboxAgent.InboxAgent object at 0x000001B468CA44F0>}\n"
     ]
    }
   ],
   "source": [
    "# Add agents to the network\n",
    "agent_network.add_agent(agent1)\n",
    "agent_network.add_agent(agent2)\n",
    "agent_network.add_agent(agent3)\n",
    "agent_network.add_agent(agent4)\n",
    "agent_network.add_agent(agent5)\n",
    "agent_network.add_agent(user1)\n",
    "agent_network.add_agent(user2)\n",
    "\n",
    "# Connect agents to each other\n",
    "agent_network.connect_agents(agent1, agent2)\n",
    "agent_network.connect_agents(user1, agent1)\n",
    "agent_network.connect_agents(agent1, agent3)\n",
    "agent_network.connect_agents(agent2, agent4)\n",
    "agent_network.connect_agents(agent3, agent5)\n",
    "agent_network.connect_agents(agent4, agent5)\n",
    "agent_network.connect_agents(agent5, user2)"
   ]
  },
  {
   "cell_type": "markdown",
   "metadata": {},
   "source": [
    "### Start/Stop the agents to run them asynchronously and send messages within the notebook\n",
    "\n",
    "This is also possible in the frontend GUI"
   ]
  },
  {
   "cell_type": "code",
   "execution_count": null,
   "metadata": {},
   "outputs": [
    {
     "name": "stdout",
     "output_type": "stream",
     "text": [
      "{'jokebot_teller_3e02a8c7-1c66-4053-9ddd-c5ee1404c459': <InboxAgent.InboxAgent object at 0x0000021BE317CCD0>, 'jokebot_responder_ea55748a-7dde-4e40-968d-4da5a140d44d': <InboxAgent.InboxAgent object at 0x0000021BE317CB50>, 'jokebot_responder_b0335572-94f5-4aef-be02-b823493c1c23': <InboxAgent.InboxAgent object at 0x0000021BE317CA30>, 'User_bd09e4e9-5549-40a4-b07a-2973058cea94': <UserProxyAgent.UserProxyAgent object at 0x0000021BE317CC70>}\n"
     ]
    },
    {
     "name": "stderr",
     "output_type": "stream",
     "text": [
      "127.0.0.1 - - [12/Jan/2024 02:31:56] \"GET /socket.io/?EIO=4&transport=websocket&sid=cF6u_Im8q3MRhzLqAAAC HTTP/1.1\" 200 -\n"
     ]
    },
    {
     "name": "stdout",
     "output_type": "stream",
     "text": [
      "Client disconnected\n"
     ]
    },
    {
     "name": "stderr",
     "output_type": "stream",
     "text": [
      "127.0.0.1 - - [12/Jan/2024 02:31:58] \"GET /socket.io/?EIO=4&transport=polling&t=OpybR6g HTTP/1.1\" 200 -\n",
      "127.0.0.1 - - [12/Jan/2024 02:31:58] \"GET /socket.io/?EIO=4&transport=polling&t=OpybR6n HTTP/1.1\" 200 -\n",
      "127.0.0.1 - - [12/Jan/2024 02:31:58] \"POST /socket.io/?EIO=4&transport=polling&t=OpybRBx&sid=ftX8_A6VX4VeA5dBAAAF HTTP/1.1\" 200 -\n",
      "127.0.0.1 - - [12/Jan/2024 02:31:58] \"GET /socket.io/?EIO=4&transport=polling&t=OpybRBy&sid=ftX8_A6VX4VeA5dBAAAF HTTP/1.1\" 200 -\n"
     ]
    },
    {
     "name": "stdout",
     "output_type": "stream",
     "text": [
      "Client connected\n",
      "{'nodes': [{'id': 'jokebot_teller_3e02a8c7-1c66-4053-9ddd-c5ee1404c459', 'label': 'jokebot_teller_3e02a8c7-1c66-4053-9ddd-c5ee1404c459', 'type': 'jokebot_teller', 'running': False, 'status': 'Stopped'}, {'id': 'jokebot_responder_ea55748a-7dde-4e40-968d-4da5a140d44d', 'label': 'jokebot_responder_ea55748a-7dde-4e40-968d-4da5a140d44d', 'type': 'jokebot_responder', 'running': True, 'status': 'Idle'}, {'id': 'jokebot_responder_b0335572-94f5-4aef-be02-b823493c1c23', 'label': 'jokebot_responder_b0335572-94f5-4aef-be02-b823493c1c23', 'type': 'jokebot_responder', 'running': True, 'status': 'Idle'}, {'id': 'User_bd09e4e9-5549-40a4-b07a-2973058cea94', 'label': 'User_bd09e4e9-5549-40a4-b07a-2973058cea94', 'type': 'User', 'running': True, 'status': 'Running'}], 'links': [{'id': 'jokebot_teller_3e02a8c7-1c66-4053-9ddd-c5ee1404c459_jokebot_responder_ea55748a-7dde-4e40-968d-4da5a140d44d', 'source': 'jokebot_teller_3e02a8c7-1c66-4053-9ddd-c5ee1404c459', 'target': 'jokebot_responder_ea55748a-7dde-4e40-968d-4da5a140d44d', 'curvature': 0.2, 'rotation': 3.141592653589793}, {'id': 'jokebot_teller_3e02a8c7-1c66-4053-9ddd-c5ee1404c459_User_bd09e4e9-5549-40a4-b07a-2973058cea94', 'source': 'jokebot_teller_3e02a8c7-1c66-4053-9ddd-c5ee1404c459', 'target': 'User_bd09e4e9-5549-40a4-b07a-2973058cea94', 'curvature': 0.2, 'rotation': 3.141592653589793}, {'id': 'jokebot_teller_3e02a8c7-1c66-4053-9ddd-c5ee1404c459_jokebot_responder_b0335572-94f5-4aef-be02-b823493c1c23', 'source': 'jokebot_teller_3e02a8c7-1c66-4053-9ddd-c5ee1404c459', 'target': 'jokebot_responder_b0335572-94f5-4aef-be02-b823493c1c23', 'curvature': 0.2, 'rotation': 3.141592653589793}, {'id': 'jokebot_responder_ea55748a-7dde-4e40-968d-4da5a140d44d_jokebot_teller_3e02a8c7-1c66-4053-9ddd-c5ee1404c459', 'source': 'jokebot_responder_ea55748a-7dde-4e40-968d-4da5a140d44d', 'target': 'jokebot_teller_3e02a8c7-1c66-4053-9ddd-c5ee1404c459', 'curvature': 0.2, 'rotation': 3.141592653589793}, {'id': 'jokebot_responder_b0335572-94f5-4aef-be02-b823493c1c23_jokebot_teller_3e02a8c7-1c66-4053-9ddd-c5ee1404c459', 'source': 'jokebot_responder_b0335572-94f5-4aef-be02-b823493c1c23', 'target': 'jokebot_teller_3e02a8c7-1c66-4053-9ddd-c5ee1404c459', 'curvature': 0.2, 'rotation': 3.141592653589793}, {'id': 'User_bd09e4e9-5549-40a4-b07a-2973058cea94_jokebot_teller_3e02a8c7-1c66-4053-9ddd-c5ee1404c459', 'source': 'User_bd09e4e9-5549-40a4-b07a-2973058cea94', 'target': 'jokebot_teller_3e02a8c7-1c66-4053-9ddd-c5ee1404c459', 'curvature': 0.2, 'rotation': 3.141592653589793}]}\n",
      "{'jokebot_teller_3e02a8c7-1c66-4053-9ddd-c5ee1404c459': <InboxAgent.InboxAgent object at 0x0000021BE317CCD0>, 'jokebot_responder_ea55748a-7dde-4e40-968d-4da5a140d44d': <InboxAgent.InboxAgent object at 0x0000021BE317CB50>, 'jokebot_responder_b0335572-94f5-4aef-be02-b823493c1c23': <InboxAgent.InboxAgent object at 0x0000021BE317CA30>, 'User_bd09e4e9-5549-40a4-b07a-2973058cea94': <UserProxyAgent.UserProxyAgent object at 0x0000021BE317CC70>}\n",
      "{'jokebot_teller_3e02a8c7-1c66-4053-9ddd-c5ee1404c459': <InboxAgent.InboxAgent object at 0x0000021BE317CCD0>, 'jokebot_responder_ea55748a-7dde-4e40-968d-4da5a140d44d': <InboxAgent.InboxAgent object at 0x0000021BE317CB50>, 'jokebot_responder_b0335572-94f5-4aef-be02-b823493c1c23': <InboxAgent.InboxAgent object at 0x0000021BE317CA30>, 'User_bd09e4e9-5549-40a4-b07a-2973058cea94': <UserProxyAgent.UserProxyAgent object at 0x0000021BE317CC70>}\n",
      "{'jokebot_teller_3e02a8c7-1c66-4053-9ddd-c5ee1404c459': <InboxAgent.InboxAgent object at 0x0000021BE317CCD0>, 'jokebot_responder_ea55748a-7dde-4e40-968d-4da5a140d44d': <InboxAgent.InboxAgent object at 0x0000021BE317CB50>, 'jokebot_responder_b0335572-94f5-4aef-be02-b823493c1c23': <InboxAgent.InboxAgent object at 0x0000021BE317CA30>, 'User_bd09e4e9-5549-40a4-b07a-2973058cea94': <UserProxyAgent.UserProxyAgent object at 0x0000021BE317CC70>}\n",
      "{'jokebot_teller_3e02a8c7-1c66-4053-9ddd-c5ee1404c459': <InboxAgent.InboxAgent object at 0x0000021BE317CCD0>, 'jokebot_responder_ea55748a-7dde-4e40-968d-4da5a140d44d': <InboxAgent.InboxAgent object at 0x0000021BE317CB50>, 'jokebot_responder_b0335572-94f5-4aef-be02-b823493c1c23': <InboxAgent.InboxAgent object at 0x0000021BE317CA30>, 'User_bd09e4e9-5549-40a4-b07a-2973058cea94': <UserProxyAgent.UserProxyAgent object at 0x0000021BE317CC70>}\n",
      "Idle break jokebot_responder_ea55748a-7dde-4e40-968d-4da5a140d44d\n",
      "Idle break jokebot_responder_b0335572-94f5-4aef-be02-b823493c1c23\n"
     ]
    }
   ],
   "source": [
    "agent1.start()\n",
    "agent2.start()\n",
    "agent3.start()"
   ]
  },
  {
   "cell_type": "code",
   "execution_count": null,
   "metadata": {},
   "outputs": [],
   "source": [
    "user1.send_message(\"tell me a joke\", agent1.get_description_json()['name_uuid'])"
   ]
  },
  {
   "cell_type": "code",
   "execution_count": null,
   "metadata": {},
   "outputs": [
    {
     "name": "stderr",
     "output_type": "stream",
     "text": [
      "127.0.0.1 - - [09/Jan/2024 15:49:38] \"GET /socket.io/?EIO=4&transport=websocket&sid=I5NoeTI7qslkDtm2AAAD HTTP/1.1\" 200 -\n"
     ]
    },
    {
     "name": "stdout",
     "output_type": "stream",
     "text": [
      "Client disconnected\n"
     ]
    },
    {
     "name": "stderr",
     "output_type": "stream",
     "text": [
      "127.0.0.1 - - [09/Jan/2024 15:49:39] \"GET /socket.io/?EIO=4&transport=polling&t=Opl_Eby HTTP/1.1\" 200 -\n",
      "127.0.0.1 - - [09/Jan/2024 15:49:39] \"POST /socket.io/?EIO=4&transport=polling&t=Opl_Eh2&sid=qLi9Zr06UouvBposAAAF HTTP/1.1\" 200 -\n",
      "127.0.0.1 - - [09/Jan/2024 15:49:39] \"GET /socket.io/?EIO=4&transport=polling&t=Opl_Eh3&sid=qLi9Zr06UouvBposAAAF HTTP/1.1\" 200 -\n"
     ]
    },
    {
     "name": "stdout",
     "output_type": "stream",
     "text": [
      "Client connected\n",
      "{'nodes': [{'id': 'jokebot_teller_7c7aab7f-d4c1-46df-b318-1d64459b5360', 'label': 'jokebot_teller_7c7aab7f-d4c1-46df-b318-1d64459b5360', 'type': 'jokebot_teller', 'status': False}, {'id': 'jokebot_responder_10969fc8-e693-4384-a685-fe1711734594', 'label': 'jokebot_responder_10969fc8-e693-4384-a685-fe1711734594', 'type': 'jokebot_responder', 'status': False}, {'id': 'jokebot_responder_9e763d18-baa9-4309-91e5-c32bca6d82bf', 'label': 'jokebot_responder_9e763d18-baa9-4309-91e5-c32bca6d82bf', 'type': 'jokebot_responder', 'status': False}, {'id': 'user_da6ae2ea-ced2-4008-975b-93fa4a386269', 'label': 'user_da6ae2ea-ced2-4008-975b-93fa4a386269', 'type': 'user', 'status': True}], 'links': [{'id': 'jokebot_teller_7c7aab7f-d4c1-46df-b318-1d64459b5360_jokebot_responder_10969fc8-e693-4384-a685-fe1711734594', 'source': 'jokebot_teller_7c7aab7f-d4c1-46df-b318-1d64459b5360', 'target': 'jokebot_responder_10969fc8-e693-4384-a685-fe1711734594', 'curvature': 0.2, 'rotation': 3.141592653589793}, {'id': 'jokebot_teller_7c7aab7f-d4c1-46df-b318-1d64459b5360_user_da6ae2ea-ced2-4008-975b-93fa4a386269', 'source': 'jokebot_teller_7c7aab7f-d4c1-46df-b318-1d64459b5360', 'target': 'user_da6ae2ea-ced2-4008-975b-93fa4a386269', 'curvature': 0.2, 'rotation': 3.141592653589793}, {'id': 'jokebot_teller_7c7aab7f-d4c1-46df-b318-1d64459b5360_jokebot_responder_9e763d18-baa9-4309-91e5-c32bca6d82bf', 'source': 'jokebot_teller_7c7aab7f-d4c1-46df-b318-1d64459b5360', 'target': 'jokebot_responder_9e763d18-baa9-4309-91e5-c32bca6d82bf', 'curvature': 0.2, 'rotation': 3.141592653589793}, {'id': 'jokebot_responder_10969fc8-e693-4384-a685-fe1711734594_jokebot_teller_7c7aab7f-d4c1-46df-b318-1d64459b5360', 'source': 'jokebot_responder_10969fc8-e693-4384-a685-fe1711734594', 'target': 'jokebot_teller_7c7aab7f-d4c1-46df-b318-1d64459b5360', 'curvature': 0.2, 'rotation': 3.141592653589793}, {'id': 'jokebot_responder_9e763d18-baa9-4309-91e5-c32bca6d82bf_jokebot_teller_7c7aab7f-d4c1-46df-b318-1d64459b5360', 'source': 'jokebot_responder_9e763d18-baa9-4309-91e5-c32bca6d82bf', 'target': 'jokebot_teller_7c7aab7f-d4c1-46df-b318-1d64459b5360', 'curvature': 0.2, 'rotation': 3.141592653589793}, {'id': 'user_da6ae2ea-ced2-4008-975b-93fa4a386269_jokebot_teller_7c7aab7f-d4c1-46df-b318-1d64459b5360', 'source': 'user_da6ae2ea-ced2-4008-975b-93fa4a386269', 'target': 'jokebot_teller_7c7aab7f-d4c1-46df-b318-1d64459b5360', 'curvature': 0.2, 'rotation': 3.141592653589793}]}\n"
     ]
    },
    {
     "name": "stderr",
     "output_type": "stream",
     "text": [
      "127.0.0.1 - - [09/Jan/2024 15:50:06] \"GET /socket.io/?EIO=4&transport=websocket&sid=qLi9Zr06UouvBposAAAF HTTP/1.1\" 200 -\n",
      "127.0.0.1 - - [09/Jan/2024 15:50:06] \"GET /socket.io/?EIO=4&transport=polling&t=Opl_LW3 HTTP/1.1\" 200 -\n"
     ]
    },
    {
     "name": "stdout",
     "output_type": "stream",
     "text": [
      "Client disconnected\n"
     ]
    },
    {
     "name": "stderr",
     "output_type": "stream",
     "text": [
      "127.0.0.1 - - [09/Jan/2024 15:50:07] \"POST /socket.io/?EIO=4&transport=polling&t=Opl_LWV&sid=MaVVubId23w0bpzqAAAH HTTP/1.1\" 200 -\n",
      "127.0.0.1 - - [09/Jan/2024 15:50:07] \"GET /socket.io/?EIO=4&transport=polling&t=Opl_LWY&sid=MaVVubId23w0bpzqAAAH HTTP/1.1\" 200 -\n"
     ]
    },
    {
     "name": "stdout",
     "output_type": "stream",
     "text": [
      "Client connected\n",
      "{'nodes': [{'id': 'jokebot_teller_7c7aab7f-d4c1-46df-b318-1d64459b5360', 'label': 'jokebot_teller_7c7aab7f-d4c1-46df-b318-1d64459b5360', 'type': 'jokebot_teller', 'status': False}, {'id': 'jokebot_responder_10969fc8-e693-4384-a685-fe1711734594', 'label': 'jokebot_responder_10969fc8-e693-4384-a685-fe1711734594', 'type': 'jokebot_responder', 'status': False}, {'id': 'jokebot_responder_9e763d18-baa9-4309-91e5-c32bca6d82bf', 'label': 'jokebot_responder_9e763d18-baa9-4309-91e5-c32bca6d82bf', 'type': 'jokebot_responder', 'status': False}, {'id': 'user_da6ae2ea-ced2-4008-975b-93fa4a386269', 'label': 'user_da6ae2ea-ced2-4008-975b-93fa4a386269', 'type': 'user', 'status': True}], 'links': [{'id': 'jokebot_teller_7c7aab7f-d4c1-46df-b318-1d64459b5360_jokebot_responder_10969fc8-e693-4384-a685-fe1711734594', 'source': 'jokebot_teller_7c7aab7f-d4c1-46df-b318-1d64459b5360', 'target': 'jokebot_responder_10969fc8-e693-4384-a685-fe1711734594', 'curvature': 0.2, 'rotation': 3.141592653589793}, {'id': 'jokebot_teller_7c7aab7f-d4c1-46df-b318-1d64459b5360_user_da6ae2ea-ced2-4008-975b-93fa4a386269', 'source': 'jokebot_teller_7c7aab7f-d4c1-46df-b318-1d64459b5360', 'target': 'user_da6ae2ea-ced2-4008-975b-93fa4a386269', 'curvature': 0.2, 'rotation': 3.141592653589793}, {'id': 'jokebot_teller_7c7aab7f-d4c1-46df-b318-1d64459b5360_jokebot_responder_9e763d18-baa9-4309-91e5-c32bca6d82bf', 'source': 'jokebot_teller_7c7aab7f-d4c1-46df-b318-1d64459b5360', 'target': 'jokebot_responder_9e763d18-baa9-4309-91e5-c32bca6d82bf', 'curvature': 0.2, 'rotation': 3.141592653589793}, {'id': 'jokebot_responder_10969fc8-e693-4384-a685-fe1711734594_jokebot_teller_7c7aab7f-d4c1-46df-b318-1d64459b5360', 'source': 'jokebot_responder_10969fc8-e693-4384-a685-fe1711734594', 'target': 'jokebot_teller_7c7aab7f-d4c1-46df-b318-1d64459b5360', 'curvature': 0.2, 'rotation': 3.141592653589793}, {'id': 'jokebot_responder_9e763d18-baa9-4309-91e5-c32bca6d82bf_jokebot_teller_7c7aab7f-d4c1-46df-b318-1d64459b5360', 'source': 'jokebot_responder_9e763d18-baa9-4309-91e5-c32bca6d82bf', 'target': 'jokebot_teller_7c7aab7f-d4c1-46df-b318-1d64459b5360', 'curvature': 0.2, 'rotation': 3.141592653589793}, {'id': 'user_da6ae2ea-ced2-4008-975b-93fa4a386269_jokebot_teller_7c7aab7f-d4c1-46df-b318-1d64459b5360', 'source': 'user_da6ae2ea-ced2-4008-975b-93fa4a386269', 'target': 'jokebot_teller_7c7aab7f-d4c1-46df-b318-1d64459b5360', 'curvature': 0.2, 'rotation': 3.141592653589793}]}\n",
      "{'jokebot_teller_7c7aab7f-d4c1-46df-b318-1d64459b5360': <InboxAgent.InboxAgent object at 0x000001E29B65ABB0>, 'jokebot_responder_10969fc8-e693-4384-a685-fe1711734594': <InboxAgent.InboxAgent object at 0x000001E29B65AB50>, 'jokebot_responder_9e763d18-baa9-4309-91e5-c32bca6d82bf': <InboxAgent.InboxAgent object at 0x000001E29B65ABE0>, 'user_da6ae2ea-ced2-4008-975b-93fa4a386269': <UserProxyAgent.UserProxyAgent object at 0x000001E29B65AC40>}{'jokebot_teller_7c7aab7f-d4c1-46df-b318-1d64459b5360': <InboxAgent.InboxAgent object at 0x000001E29B65ABB0>, 'jokebot_responder_10969fc8-e693-4384-a685-fe1711734594': <InboxAgent.InboxAgent object at 0x000001E29B65AB50>, 'jokebot_responder_9e763d18-baa9-4309-91e5-c32bca6d82bf': <InboxAgent.InboxAgent object at 0x000001E29B65ABE0>, 'user_da6ae2ea-ced2-4008-975b-93fa4a386269': <UserProxyAgent.UserProxyAgent object at 0x000001E29B65AC40>}\n",
      "\n",
      "{'jokebot_teller_7c7aab7f-d4c1-46df-b318-1d64459b5360': <InboxAgent.InboxAgent object at 0x000001E29B65ABB0>, 'jokebot_responder_10969fc8-e693-4384-a685-fe1711734594': <InboxAgent.InboxAgent object at 0x000001E29B65AB50>, 'jokebot_responder_9e763d18-baa9-4309-91e5-c32bca6d82bf': <InboxAgent.InboxAgent object at 0x000001E29B65ABE0>, 'user_da6ae2ea-ced2-4008-975b-93fa4a386269': <UserProxyAgent.UserProxyAgent object at 0x000001E29B65AC40>}\n"
     ]
    }
   ],
   "source": [
    "agent1.stop()\n",
    "agent2.stop()\n",
    "agent3.stop()"
   ]
  }
 ],
 "metadata": {
  "kernelspec": {
   "display_name": "solo",
   "language": "python",
   "name": "python3"
  },
  "language_info": {
   "codemirror_mode": {
    "name": "ipython",
    "version": 3
   },
   "file_extension": ".py",
   "mimetype": "text/x-python",
   "name": "python",
   "nbconvert_exporter": "python",
   "pygments_lexer": "ipython3",
   "version": "3.8.16"
  }
 },
 "nbformat": 4,
 "nbformat_minor": 2
}
