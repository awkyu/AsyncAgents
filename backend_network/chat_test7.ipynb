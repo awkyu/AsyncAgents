{
 "cells": [
  {
   "cell_type": "code",
   "execution_count": 1,
   "metadata": {},
   "outputs": [],
   "source": [
    "from dotenv import load_dotenv\n",
    "import asyncio\n",
    "import json\n",
    "import os\n",
    "import requests\n",
    "from googleapiclient.discovery import build\n",
    "import pprint\n",
    "from bs4 import BeautifulSoup\n",
    "from langchain.text_splitter import RecursiveCharacterTextSplitter\n",
    "from langchain import PromptTemplate\n",
    "from langchain.chains.summarize import load_summarize_chain\n",
    "from langchain.chat_models import ChatOpenAI\n",
    "from autogen import config_list_from_json\n",
    "from autogen.agentchat.contrib.gpt_assistant_agent import GPTAssistantAgent\n",
    "from autogen.agentchat.agent import Agent\n",
    "from autogen import UserProxyAgent\n",
    "from openai import OpenAI\n",
    "import autogen\n",
    "import time\n",
    "\n",
    "from collections import defaultdict\n",
    "from queue import Queue\n",
    "\n",
    "from langchain.agents import AgentExecutor\n",
    "from langchain.chat_models import ChatOpenAI\n",
    "from langchain.prompts import ChatPromptTemplate, MessagesPlaceholder\n",
    "from langchain.tools.render import format_tool_to_openai_function\n",
    "from langchain.tools import Tool, StructuredTool\n",
    "from langchain.agents.output_parsers import OpenAIFunctionsAgentOutputParser\n",
    "from langchain.agents.format_scratchpad import format_to_openai_function_messages\n",
    "from langchain.memory import ConversationBufferMemory\n",
    "from langchain.agents import Agent\n",
    "from typing import List, Literal\n",
    "from langchain.schema.messages import (\n",
    "    AIMessage,\n",
    "    AnyMessage,\n",
    "    BaseMessage,\n",
    "    ChatMessage,\n",
    "    HumanMessage,\n",
    "    SystemMessage,\n",
    "    get_buffer_string,\n",
    ")\n",
    "from InboxAgent import InboxAgent\n",
    "from UserProxyAgent import UserProxyAgent\n",
    "from AgentNetwork import AgentNetwork\n",
    "\n",
    "\n",
    "from InteractionVisualizer import InteractionVisualizer\n",
    "from NetworkServer import NetworkServer\n",
    "from flask import Flask\n",
    "\n",
    "from threading import Thread\n",
    "from NetworkRoutes import create_network_blueprint\n",
    "\n",
    "\n",
    "from langchain_core.pydantic_v1 import BaseModel, Field\n"
   ]
  },
  {
   "cell_type": "code",
   "execution_count": 2,
   "metadata": {},
   "outputs": [],
   "source": [
    "load_dotenv()  # take environment variables from .env.\n",
    "\n",
    "google_search_api_key = os.getenv('GOOGLE_SEARCH_API_KEY')\n",
    "google_search_cse_id = os.getenv('GOOGLE_SEARCH_CSE_ID')\n",
    "browserless_api_key = os.getenv('BROWSERLESS_API_KEY')\n",
    "config_list_gpt35 = config_list_from_json(\"OAI_CONFIG_LIST_35\")\n",
    "config_list_gpt4 = config_list_from_json(\"OAI_CONFIG_LIST_4\")\n",
    "\n",
    "client = OpenAI()"
   ]
  },
  {
   "cell_type": "code",
   "execution_count": 3,
   "metadata": {},
   "outputs": [],
   "source": [
    "agent_network = AgentNetwork(available_agent_instantiations=[InboxAgent, UserProxyAgent])\n",
    "\n",
    "# class GetConnectionsByNameUUID(BaseModel):\n",
    "#     agent_name_uuid: str = Field(\n",
    "#         description=\"The name_uuid of the agent you want to get connections for. If you want your own connections, use your own name_uuid.\"\n",
    "#     )\n",
    "\n",
    "# class SendMessageByNameUUID(BaseModel):\n",
    "#     message: str = Field(\n",
    "#         description=\"The message you want to send to the recipient\"\n",
    "#     )\n",
    "#     agent_name_uuid_sender: str = Field(\n",
    "#         description=\"The name_uuid of the agent sending the message. It's usually your own name_uuid.\"\n",
    "#     )\n",
    "#     agent_name_uuid_recipient: str = Field(\n",
    "#         description=\"The name_uuid of the agent receiving the message\"\n",
    "#     )\n",
    "\n",
    "class GetWordLength(BaseModel):\n",
    "    word: str = Field(\n",
    "        description=\"The word you want to get the length of\"\n",
    "    )\n"
   ]
  },
  {
   "cell_type": "code",
   "execution_count": 4,
   "metadata": {},
   "outputs": [],
   "source": [
    "# Step 1: Initialize the language model\n",
    "# llm = ChatOpenAI(model=\"gpt-3.5-turbo\", temperature=0)\n",
    "llm = ChatOpenAI(model=\"gpt-4-1106-preview\", temperature=0)\n",
    "\n",
    "# Step 2: Define the tools (functions) that the assistant can use\n",
    "def get_word_length(word: str) -> int:\n",
    "    \"\"\"Returns the length of a word.\"\"\"\n",
    "    return len(word)\n",
    "\n",
    "# def send_message_by_name_uuid(message: str, agent_name_uuid_sender: str, agent_name_uuid_recipient: str):\n",
    "#     \"\"\"Send a message to a specific agent.\"\"\"\n",
    "#     agent_network.send_message_by_name_uuid(message, agent_name_uuid_sender, agent_name_uuid_recipient)\n",
    "\n",
    "# # adding additional tools\n",
    "# get_connections_by_name_uuid = StructuredTool.from_function(\n",
    "#     agent_network.get_connections_by_name_uuid,\n",
    "#     name=\"get_connections_by_name_uuid\",\n",
    "#     description=\"Look at your current connections to see who you can talk to/send messages to. You should input YOUR OWN name_uuid to see who you can talk to.\",\n",
    "#     args_schema=GetConnectionsByNameUUID,\n",
    "#     return_direct=True,\n",
    "# )\n",
    "\n",
    "# send_message_by_name_uuid = StructuredTool.from_function(\n",
    "#     send_message_by_name_uuid,\n",
    "#     name=\"send_message_by_name_uuid\",\n",
    "#     description=\"Send a message to a specific agent.\",\n",
    "#     args_schema=SendMessageByNameUUID,\n",
    "#     return_direct=True,\n",
    "# )\n",
    "\n",
    "\n",
    "tools = [\n",
    "    StructuredTool.from_function(\n",
    "        get_word_length,\n",
    "        name=\"get_word_length\",\n",
    "        description=\"Returns the length of a word.\",\n",
    "        args_schema=GetWordLength,\n",
    "    ),\n",
    "    # get_connections_by_name_uuid,\n",
    "    # send_message_by_name_uuid,\n",
    "]"
   ]
  },
  {
   "cell_type": "code",
   "execution_count": 5,
   "metadata": {},
   "outputs": [],
   "source": [
    "agent1 = InboxAgent(\n",
    "    name=\"jokebot_teller\",\n",
    "    llm=llm,\n",
    "    tools=tools,\n",
    "    description=\"you are a helpful assistant that likes to tell jokes with other AI agents by sending messages.\",\n",
    "    oai=True,\n",
    ")\n",
    "\n",
    "agent2 = InboxAgent(\n",
    "    name=\"jokebot_responder\",\n",
    "    llm=llm,\n",
    "    tools=tools,\n",
    "    description=\"you are a helpful assistant that likes to laugh at jokes with other AI agents. you like to send jokes back via messages too!\",\n",
    "    oai=True,\n",
    ")\n",
    "\n",
    "agent3 = InboxAgent(\n",
    "    name=\"jokebot_responder\",\n",
    "    llm=llm,\n",
    "    tools=tools,\n",
    "    description=\"you are a helpful assistant that likes to laugh at jokes with other AI agents. you like to send jokes back via messages too!\",\n",
    "    oai=True,\n",
    ")\n",
    "\n",
    "user1 = UserProxyAgent(\n",
    ")\n",
    "\n",
    "agent_network.add_agent(agent1)\n",
    "agent_network.add_agent(agent2)\n",
    "agent_network.add_agent(agent3)\n",
    "agent_network.add_agent(user1)\n",
    "\n",
    "agent_network.connect_agents(agent1, agent2)\n",
    "agent_network.connect_agents(user1, agent1)\n",
    "agent_network.connect_agents(agent1, agent3)\n"
   ]
  },
  {
   "cell_type": "code",
   "execution_count": null,
   "metadata": {},
   "outputs": [
    {
     "name": "stderr",
     "output_type": "stream",
     "text": [
      "Werkzeug appears to be used in a production deployment. Consider switching to a production web server instead.\n"
     ]
    },
    {
     "name": "stdout",
     "output_type": "stream",
     "text": [
      " * Serving Flask app 'AgentNetworkSocket'\n"
     ]
    },
    {
     "name": "stdout",
     "output_type": "stream",
     "text": [
      " * Debug mode: on\n"
     ]
    },
    {
     "name": "stderr",
     "output_type": "stream",
     "text": [
      "WARNING: This is a development server. Do not use it in a production deployment. Use a production WSGI server instead.\n",
      " * Running on http://127.0.0.1:5000\n",
      "Press CTRL+C to quit\n",
      "127.0.0.1 - - [10/Jan/2024 15:26:10] \"GET /socket.io/?EIO=4&transport=polling&t=Opr3ST_ HTTP/1.1\" 200 -\n",
      "127.0.0.1 - - [10/Jan/2024 15:26:10] \"POST /socket.io/?EIO=4&transport=polling&t=Opr3SUh&sid=ERwJ23_CJ5VYniY5AAAA HTTP/1.1\" 200 -\n",
      "127.0.0.1 - - [10/Jan/2024 15:26:10] \"GET /socket.io/?EIO=4&transport=polling&t=Opr3SUj&sid=ERwJ23_CJ5VYniY5AAAA HTTP/1.1\" 200 -\n"
     ]
    },
    {
     "name": "stdout",
     "output_type": "stream",
     "text": [
      "Client connected\n",
      "{'nodes': [{'id': 'jokebot_teller_0fe1ae35-c65c-4446-8d45-77915d603a21', 'label': 'jokebot_teller_0fe1ae35-c65c-4446-8d45-77915d603a21', 'type': 'jokebot_teller', 'running': False, 'status': 'Stopped'}, {'id': 'jokebot_responder_5344c93e-b2b0-4802-ae17-dc89e72722ac', 'label': 'jokebot_responder_5344c93e-b2b0-4802-ae17-dc89e72722ac', 'type': 'jokebot_responder', 'running': False, 'status': 'Stopped'}, {'id': 'jokebot_responder_871c6da6-09e6-424c-9441-115b568af3bd', 'label': 'jokebot_responder_871c6da6-09e6-424c-9441-115b568af3bd', 'type': 'jokebot_responder', 'running': False, 'status': 'Stopped'}, {'id': 'user_093c217e-202e-4635-af9b-c2c7c7b5ec4a', 'label': 'user_093c217e-202e-4635-af9b-c2c7c7b5ec4a', 'type': 'user', 'running': True, 'status': 'Running'}], 'links': [{'id': 'jokebot_teller_0fe1ae35-c65c-4446-8d45-77915d603a21_jokebot_responder_5344c93e-b2b0-4802-ae17-dc89e72722ac', 'source': 'jokebot_teller_0fe1ae35-c65c-4446-8d45-77915d603a21', 'target': 'jokebot_responder_5344c93e-b2b0-4802-ae17-dc89e72722ac', 'curvature': 0.2, 'rotation': 3.141592653589793}, {'id': 'jokebot_teller_0fe1ae35-c65c-4446-8d45-77915d603a21_user_093c217e-202e-4635-af9b-c2c7c7b5ec4a', 'source': 'jokebot_teller_0fe1ae35-c65c-4446-8d45-77915d603a21', 'target': 'user_093c217e-202e-4635-af9b-c2c7c7b5ec4a', 'curvature': 0.2, 'rotation': 3.141592653589793}, {'id': 'jokebot_teller_0fe1ae35-c65c-4446-8d45-77915d603a21_jokebot_responder_871c6da6-09e6-424c-9441-115b568af3bd', 'source': 'jokebot_teller_0fe1ae35-c65c-4446-8d45-77915d603a21', 'target': 'jokebot_responder_871c6da6-09e6-424c-9441-115b568af3bd', 'curvature': 0.2, 'rotation': 3.141592653589793}, {'id': 'jokebot_responder_5344c93e-b2b0-4802-ae17-dc89e72722ac_jokebot_teller_0fe1ae35-c65c-4446-8d45-77915d603a21', 'source': 'jokebot_responder_5344c93e-b2b0-4802-ae17-dc89e72722ac', 'target': 'jokebot_teller_0fe1ae35-c65c-4446-8d45-77915d603a21', 'curvature': 0.2, 'rotation': 3.141592653589793}, {'id': 'jokebot_responder_871c6da6-09e6-424c-9441-115b568af3bd_jokebot_teller_0fe1ae35-c65c-4446-8d45-77915d603a21', 'source': 'jokebot_responder_871c6da6-09e6-424c-9441-115b568af3bd', 'target': 'jokebot_teller_0fe1ae35-c65c-4446-8d45-77915d603a21', 'curvature': 0.2, 'rotation': 3.141592653589793}, {'id': 'user_093c217e-202e-4635-af9b-c2c7c7b5ec4a_jokebot_teller_0fe1ae35-c65c-4446-8d45-77915d603a21', 'source': 'user_093c217e-202e-4635-af9b-c2c7c7b5ec4a', 'target': 'jokebot_teller_0fe1ae35-c65c-4446-8d45-77915d603a21', 'curvature': 0.2, 'rotation': 3.141592653589793}]}\n"
     ]
    },
    {
     "name": "stderr",
     "output_type": "stream",
     "text": [
      "127.0.0.1 - - [10/Jan/2024 18:21:45] \"GET /socket.io/?EIO=4&transport=websocket&sid=ERwJ23_CJ5VYniY5AAAA HTTP/1.1\" 200 -\n"
     ]
    },
    {
     "name": "stdout",
     "output_type": "stream",
     "text": [
      "Client disconnected\n"
     ]
    },
    {
     "name": "stderr",
     "output_type": "stream",
     "text": [
      "127.0.0.1 - - [10/Jan/2024 18:21:45] \"GET /socket.io/?EIO=4&transport=polling&t=OprheZz HTTP/1.1\" 200 -\n",
      "127.0.0.1 - - [10/Jan/2024 18:21:45] \"GET /socket.io/?EIO=4&transport=polling&t=Oprhea2 HTTP/1.1\" 200 -\n",
      "127.0.0.1 - - [10/Jan/2024 18:21:46] \"POST /socket.io/?EIO=4&transport=polling&t=Oprhef9&sid=qkGptdMULrdFCue3AAAD HTTP/1.1\" 200 -\n",
      "127.0.0.1 - - [10/Jan/2024 18:21:46] \"GET /socket.io/?EIO=4&transport=polling&t=OprhefA&sid=qkGptdMULrdFCue3AAAD HTTP/1.1\" 200 -\n"
     ]
    },
    {
     "name": "stdout",
     "output_type": "stream",
     "text": [
      "Client connected\n",
      "{'nodes': [{'id': 'jokebot_teller_0fe1ae35-c65c-4446-8d45-77915d603a21', 'label': 'jokebot_teller_0fe1ae35-c65c-4446-8d45-77915d603a21', 'type': 'jokebot_teller', 'running': False, 'status': 'Stopped'}, {'id': 'jokebot_responder_5344c93e-b2b0-4802-ae17-dc89e72722ac', 'label': 'jokebot_responder_5344c93e-b2b0-4802-ae17-dc89e72722ac', 'type': 'jokebot_responder', 'running': False, 'status': 'Stopped'}, {'id': 'jokebot_responder_871c6da6-09e6-424c-9441-115b568af3bd', 'label': 'jokebot_responder_871c6da6-09e6-424c-9441-115b568af3bd', 'type': 'jokebot_responder', 'running': False, 'status': 'Stopped'}, {'id': 'user_093c217e-202e-4635-af9b-c2c7c7b5ec4a', 'label': 'user_093c217e-202e-4635-af9b-c2c7c7b5ec4a', 'type': 'user', 'running': True, 'status': 'Running'}], 'links': [{'id': 'jokebot_teller_0fe1ae35-c65c-4446-8d45-77915d603a21_jokebot_responder_5344c93e-b2b0-4802-ae17-dc89e72722ac', 'source': 'jokebot_teller_0fe1ae35-c65c-4446-8d45-77915d603a21', 'target': 'jokebot_responder_5344c93e-b2b0-4802-ae17-dc89e72722ac', 'curvature': 0.2, 'rotation': 3.141592653589793}, {'id': 'jokebot_teller_0fe1ae35-c65c-4446-8d45-77915d603a21_user_093c217e-202e-4635-af9b-c2c7c7b5ec4a', 'source': 'jokebot_teller_0fe1ae35-c65c-4446-8d45-77915d603a21', 'target': 'user_093c217e-202e-4635-af9b-c2c7c7b5ec4a', 'curvature': 0.2, 'rotation': 3.141592653589793}, {'id': 'jokebot_teller_0fe1ae35-c65c-4446-8d45-77915d603a21_jokebot_responder_871c6da6-09e6-424c-9441-115b568af3bd', 'source': 'jokebot_teller_0fe1ae35-c65c-4446-8d45-77915d603a21', 'target': 'jokebot_responder_871c6da6-09e6-424c-9441-115b568af3bd', 'curvature': 0.2, 'rotation': 3.141592653589793}, {'id': 'jokebot_responder_5344c93e-b2b0-4802-ae17-dc89e72722ac_jokebot_teller_0fe1ae35-c65c-4446-8d45-77915d603a21', 'source': 'jokebot_responder_5344c93e-b2b0-4802-ae17-dc89e72722ac', 'target': 'jokebot_teller_0fe1ae35-c65c-4446-8d45-77915d603a21', 'curvature': 0.2, 'rotation': 3.141592653589793}, {'id': 'jokebot_responder_871c6da6-09e6-424c-9441-115b568af3bd_jokebot_teller_0fe1ae35-c65c-4446-8d45-77915d603a21', 'source': 'jokebot_responder_871c6da6-09e6-424c-9441-115b568af3bd', 'target': 'jokebot_teller_0fe1ae35-c65c-4446-8d45-77915d603a21', 'curvature': 0.2, 'rotation': 3.141592653589793}, {'id': 'user_093c217e-202e-4635-af9b-c2c7c7b5ec4a_jokebot_teller_0fe1ae35-c65c-4446-8d45-77915d603a21', 'source': 'user_093c217e-202e-4635-af9b-c2c7c7b5ec4a', 'target': 'jokebot_teller_0fe1ae35-c65c-4446-8d45-77915d603a21', 'curvature': 0.2, 'rotation': 3.141592653589793}]}\n"
     ]
    },
    {
     "name": "stderr",
     "output_type": "stream",
     "text": [
      "127.0.0.1 - - [10/Jan/2024 18:21:56] \"GET /socket.io/?EIO=4&transport=websocket&sid=qkGptdMULrdFCue3AAAD HTTP/1.1\" 200 -\n",
      "127.0.0.1 - - [10/Jan/2024 18:21:56] \"GET /socket.io/?EIO=4&transport=polling&t=OprhhB_ HTTP/1.1\" 200 -\n"
     ]
    },
    {
     "name": "stdout",
     "output_type": "stream",
     "text": [
      "Client disconnected\n"
     ]
    },
    {
     "name": "stderr",
     "output_type": "stream",
     "text": [
      "127.0.0.1 - - [10/Jan/2024 18:21:56] \"POST /socket.io/?EIO=4&transport=polling&t=OprhhDK&sid=19npxkFb8KrKujHsAAAF HTTP/1.1\" 200 -\n",
      "127.0.0.1 - - [10/Jan/2024 18:21:56] \"GET /socket.io/?EIO=4&transport=polling&t=OprhhDK.0&sid=19npxkFb8KrKujHsAAAF HTTP/1.1\" 200 -\n"
     ]
    },
    {
     "name": "stdout",
     "output_type": "stream",
     "text": [
      "Client connected\n",
      "{'nodes': [{'id': 'jokebot_teller_0fe1ae35-c65c-4446-8d45-77915d603a21', 'label': 'jokebot_teller_0fe1ae35-c65c-4446-8d45-77915d603a21', 'type': 'jokebot_teller', 'running': False, 'status': 'Stopped'}, {'id': 'jokebot_responder_5344c93e-b2b0-4802-ae17-dc89e72722ac', 'label': 'jokebot_responder_5344c93e-b2b0-4802-ae17-dc89e72722ac', 'type': 'jokebot_responder', 'running': False, 'status': 'Stopped'}, {'id': 'jokebot_responder_871c6da6-09e6-424c-9441-115b568af3bd', 'label': 'jokebot_responder_871c6da6-09e6-424c-9441-115b568af3bd', 'type': 'jokebot_responder', 'running': False, 'status': 'Stopped'}, {'id': 'user_093c217e-202e-4635-af9b-c2c7c7b5ec4a', 'label': 'user_093c217e-202e-4635-af9b-c2c7c7b5ec4a', 'type': 'user', 'running': True, 'status': 'Running'}], 'links': [{'id': 'jokebot_teller_0fe1ae35-c65c-4446-8d45-77915d603a21_jokebot_responder_5344c93e-b2b0-4802-ae17-dc89e72722ac', 'source': 'jokebot_teller_0fe1ae35-c65c-4446-8d45-77915d603a21', 'target': 'jokebot_responder_5344c93e-b2b0-4802-ae17-dc89e72722ac', 'curvature': 0.2, 'rotation': 3.141592653589793}, {'id': 'jokebot_teller_0fe1ae35-c65c-4446-8d45-77915d603a21_user_093c217e-202e-4635-af9b-c2c7c7b5ec4a', 'source': 'jokebot_teller_0fe1ae35-c65c-4446-8d45-77915d603a21', 'target': 'user_093c217e-202e-4635-af9b-c2c7c7b5ec4a', 'curvature': 0.2, 'rotation': 3.141592653589793}, {'id': 'jokebot_teller_0fe1ae35-c65c-4446-8d45-77915d603a21_jokebot_responder_871c6da6-09e6-424c-9441-115b568af3bd', 'source': 'jokebot_teller_0fe1ae35-c65c-4446-8d45-77915d603a21', 'target': 'jokebot_responder_871c6da6-09e6-424c-9441-115b568af3bd', 'curvature': 0.2, 'rotation': 3.141592653589793}, {'id': 'jokebot_responder_5344c93e-b2b0-4802-ae17-dc89e72722ac_jokebot_teller_0fe1ae35-c65c-4446-8d45-77915d603a21', 'source': 'jokebot_responder_5344c93e-b2b0-4802-ae17-dc89e72722ac', 'target': 'jokebot_teller_0fe1ae35-c65c-4446-8d45-77915d603a21', 'curvature': 0.2, 'rotation': 3.141592653589793}, {'id': 'jokebot_responder_871c6da6-09e6-424c-9441-115b568af3bd_jokebot_teller_0fe1ae35-c65c-4446-8d45-77915d603a21', 'source': 'jokebot_responder_871c6da6-09e6-424c-9441-115b568af3bd', 'target': 'jokebot_teller_0fe1ae35-c65c-4446-8d45-77915d603a21', 'curvature': 0.2, 'rotation': 3.141592653589793}, {'id': 'user_093c217e-202e-4635-af9b-c2c7c7b5ec4a_jokebot_teller_0fe1ae35-c65c-4446-8d45-77915d603a21', 'source': 'user_093c217e-202e-4635-af9b-c2c7c7b5ec4a', 'target': 'jokebot_teller_0fe1ae35-c65c-4446-8d45-77915d603a21', 'curvature': 0.2, 'rotation': 3.141592653589793}]}\n"
     ]
    },
    {
     "name": "stderr",
     "output_type": "stream",
     "text": [
      "127.0.0.1 - - [10/Jan/2024 18:25:39] \"GET /socket.io/?EIO=4&transport=websocket&sid=19npxkFb8KrKujHsAAAF HTTP/1.1\" 200 -\n"
     ]
    },
    {
     "name": "stdout",
     "output_type": "stream",
     "text": [
      "Client disconnected\n"
     ]
    },
    {
     "name": "stderr",
     "output_type": "stream",
     "text": [
      "127.0.0.1 - - [10/Jan/2024 18:25:39] \"GET /socket.io/?EIO=4&transport=polling&t=OpriXe5 HTTP/1.1\" 200 -\n",
      "127.0.0.1 - - [10/Jan/2024 18:25:39] \"POST /socket.io/?EIO=4&transport=polling&t=OpriXjA&sid=BFtTN9yiYwnANhp0AAAH HTTP/1.1\" 200 -\n",
      "127.0.0.1 - - [10/Jan/2024 18:25:39] \"GET /socket.io/?EIO=4&transport=polling&t=OpriXjB&sid=BFtTN9yiYwnANhp0AAAH HTTP/1.1\" 200 -\n"
     ]
    },
    {
     "name": "stdout",
     "output_type": "stream",
     "text": [
      "Client connected\n",
      "{'nodes': [{'id': 'jokebot_teller_0fe1ae35-c65c-4446-8d45-77915d603a21', 'label': 'jokebot_teller_0fe1ae35-c65c-4446-8d45-77915d603a21', 'type': 'jokebot_teller', 'running': False, 'status': 'Stopped'}, {'id': 'jokebot_responder_5344c93e-b2b0-4802-ae17-dc89e72722ac', 'label': 'jokebot_responder_5344c93e-b2b0-4802-ae17-dc89e72722ac', 'type': 'jokebot_responder', 'running': False, 'status': 'Stopped'}, {'id': 'jokebot_responder_871c6da6-09e6-424c-9441-115b568af3bd', 'label': 'jokebot_responder_871c6da6-09e6-424c-9441-115b568af3bd', 'type': 'jokebot_responder', 'running': False, 'status': 'Stopped'}, {'id': 'user_093c217e-202e-4635-af9b-c2c7c7b5ec4a', 'label': 'user_093c217e-202e-4635-af9b-c2c7c7b5ec4a', 'type': 'user', 'running': True, 'status': 'Running'}], 'links': [{'id': 'jokebot_teller_0fe1ae35-c65c-4446-8d45-77915d603a21_jokebot_responder_5344c93e-b2b0-4802-ae17-dc89e72722ac', 'source': 'jokebot_teller_0fe1ae35-c65c-4446-8d45-77915d603a21', 'target': 'jokebot_responder_5344c93e-b2b0-4802-ae17-dc89e72722ac', 'curvature': 0.2, 'rotation': 3.141592653589793}, {'id': 'jokebot_teller_0fe1ae35-c65c-4446-8d45-77915d603a21_user_093c217e-202e-4635-af9b-c2c7c7b5ec4a', 'source': 'jokebot_teller_0fe1ae35-c65c-4446-8d45-77915d603a21', 'target': 'user_093c217e-202e-4635-af9b-c2c7c7b5ec4a', 'curvature': 0.2, 'rotation': 3.141592653589793}, {'id': 'jokebot_teller_0fe1ae35-c65c-4446-8d45-77915d603a21_jokebot_responder_871c6da6-09e6-424c-9441-115b568af3bd', 'source': 'jokebot_teller_0fe1ae35-c65c-4446-8d45-77915d603a21', 'target': 'jokebot_responder_871c6da6-09e6-424c-9441-115b568af3bd', 'curvature': 0.2, 'rotation': 3.141592653589793}, {'id': 'jokebot_responder_5344c93e-b2b0-4802-ae17-dc89e72722ac_jokebot_teller_0fe1ae35-c65c-4446-8d45-77915d603a21', 'source': 'jokebot_responder_5344c93e-b2b0-4802-ae17-dc89e72722ac', 'target': 'jokebot_teller_0fe1ae35-c65c-4446-8d45-77915d603a21', 'curvature': 0.2, 'rotation': 3.141592653589793}, {'id': 'jokebot_responder_871c6da6-09e6-424c-9441-115b568af3bd_jokebot_teller_0fe1ae35-c65c-4446-8d45-77915d603a21', 'source': 'jokebot_responder_871c6da6-09e6-424c-9441-115b568af3bd', 'target': 'jokebot_teller_0fe1ae35-c65c-4446-8d45-77915d603a21', 'curvature': 0.2, 'rotation': 3.141592653589793}, {'id': 'user_093c217e-202e-4635-af9b-c2c7c7b5ec4a_jokebot_teller_0fe1ae35-c65c-4446-8d45-77915d603a21', 'source': 'user_093c217e-202e-4635-af9b-c2c7c7b5ec4a', 'target': 'jokebot_teller_0fe1ae35-c65c-4446-8d45-77915d603a21', 'curvature': 0.2, 'rotation': 3.141592653589793}]}\n"
     ]
    },
    {
     "name": "stderr",
     "output_type": "stream",
     "text": [
      "127.0.0.1 - - [10/Jan/2024 18:25:46] \"GET /socket.io/?EIO=4&transport=websocket&sid=BFtTN9yiYwnANhp0AAAH HTTP/1.1\" 200 -\n",
      "127.0.0.1 - - [10/Jan/2024 18:25:46] \"GET /socket.io/?EIO=4&transport=polling&t=OpriZLe HTTP/1.1\" 200 -\n"
     ]
    },
    {
     "name": "stdout",
     "output_type": "stream",
     "text": [
      "Client disconnected\n"
     ]
    },
    {
     "name": "stderr",
     "output_type": "stream",
     "text": [
      "127.0.0.1 - - [10/Jan/2024 18:25:46] \"POST /socket.io/?EIO=4&transport=polling&t=OpriZMF&sid=JhhiSvKaiNtv0CyMAAAJ HTTP/1.1\" 200 -\n",
      "127.0.0.1 - - [10/Jan/2024 18:25:46] \"GET /socket.io/?EIO=4&transport=polling&t=OpriZMG&sid=JhhiSvKaiNtv0CyMAAAJ HTTP/1.1\" 200 -\n"
     ]
    },
    {
     "name": "stdout",
     "output_type": "stream",
     "text": [
      "Client connected\n",
      "{'nodes': [{'id': 'jokebot_teller_0fe1ae35-c65c-4446-8d45-77915d603a21', 'label': 'jokebot_teller_0fe1ae35-c65c-4446-8d45-77915d603a21', 'type': 'jokebot_teller', 'running': False, 'status': 'Stopped'}, {'id': 'jokebot_responder_5344c93e-b2b0-4802-ae17-dc89e72722ac', 'label': 'jokebot_responder_5344c93e-b2b0-4802-ae17-dc89e72722ac', 'type': 'jokebot_responder', 'running': False, 'status': 'Stopped'}, {'id': 'jokebot_responder_871c6da6-09e6-424c-9441-115b568af3bd', 'label': 'jokebot_responder_871c6da6-09e6-424c-9441-115b568af3bd', 'type': 'jokebot_responder', 'running': False, 'status': 'Stopped'}, {'id': 'user_093c217e-202e-4635-af9b-c2c7c7b5ec4a', 'label': 'user_093c217e-202e-4635-af9b-c2c7c7b5ec4a', 'type': 'user', 'running': True, 'status': 'Running'}], 'links': [{'id': 'jokebot_teller_0fe1ae35-c65c-4446-8d45-77915d603a21_jokebot_responder_5344c93e-b2b0-4802-ae17-dc89e72722ac', 'source': 'jokebot_teller_0fe1ae35-c65c-4446-8d45-77915d603a21', 'target': 'jokebot_responder_5344c93e-b2b0-4802-ae17-dc89e72722ac', 'curvature': 0.2, 'rotation': 3.141592653589793}, {'id': 'jokebot_teller_0fe1ae35-c65c-4446-8d45-77915d603a21_user_093c217e-202e-4635-af9b-c2c7c7b5ec4a', 'source': 'jokebot_teller_0fe1ae35-c65c-4446-8d45-77915d603a21', 'target': 'user_093c217e-202e-4635-af9b-c2c7c7b5ec4a', 'curvature': 0.2, 'rotation': 3.141592653589793}, {'id': 'jokebot_teller_0fe1ae35-c65c-4446-8d45-77915d603a21_jokebot_responder_871c6da6-09e6-424c-9441-115b568af3bd', 'source': 'jokebot_teller_0fe1ae35-c65c-4446-8d45-77915d603a21', 'target': 'jokebot_responder_871c6da6-09e6-424c-9441-115b568af3bd', 'curvature': 0.2, 'rotation': 3.141592653589793}, {'id': 'jokebot_responder_5344c93e-b2b0-4802-ae17-dc89e72722ac_jokebot_teller_0fe1ae35-c65c-4446-8d45-77915d603a21', 'source': 'jokebot_responder_5344c93e-b2b0-4802-ae17-dc89e72722ac', 'target': 'jokebot_teller_0fe1ae35-c65c-4446-8d45-77915d603a21', 'curvature': 0.2, 'rotation': 3.141592653589793}, {'id': 'jokebot_responder_871c6da6-09e6-424c-9441-115b568af3bd_jokebot_teller_0fe1ae35-c65c-4446-8d45-77915d603a21', 'source': 'jokebot_responder_871c6da6-09e6-424c-9441-115b568af3bd', 'target': 'jokebot_teller_0fe1ae35-c65c-4446-8d45-77915d603a21', 'curvature': 0.2, 'rotation': 3.141592653589793}, {'id': 'user_093c217e-202e-4635-af9b-c2c7c7b5ec4a_jokebot_teller_0fe1ae35-c65c-4446-8d45-77915d603a21', 'source': 'user_093c217e-202e-4635-af9b-c2c7c7b5ec4a', 'target': 'jokebot_teller_0fe1ae35-c65c-4446-8d45-77915d603a21', 'curvature': 0.2, 'rotation': 3.141592653589793}]}\n"
     ]
    },
    {
     "name": "stderr",
     "output_type": "stream",
     "text": [
      "127.0.0.1 - - [10/Jan/2024 18:26:08] \"GET /socket.io/?EIO=4&transport=websocket&sid=JhhiSvKaiNtv0CyMAAAJ HTTP/1.1\" 200 -\n",
      "127.0.0.1 - - [10/Jan/2024 18:26:08] \"GET /socket.io/?EIO=4&transport=polling&t=Opriejq HTTP/1.1\" 200 -\n"
     ]
    },
    {
     "name": "stdout",
     "output_type": "stream",
     "text": [
      "Client disconnected\n"
     ]
    },
    {
     "name": "stderr",
     "output_type": "stream",
     "text": [
      "127.0.0.1 - - [10/Jan/2024 18:26:08] \"POST /socket.io/?EIO=4&transport=polling&t=Opriekb&sid=Y3dR8SblfPMmhrHdAAAL HTTP/1.1\" 200 -\n",
      "127.0.0.1 - - [10/Jan/2024 18:26:08] \"GET /socket.io/?EIO=4&transport=polling&t=Opriekc&sid=Y3dR8SblfPMmhrHdAAAL HTTP/1.1\" 200 -\n"
     ]
    },
    {
     "name": "stdout",
     "output_type": "stream",
     "text": [
      "Client connected\n",
      "{'nodes': [{'id': 'jokebot_teller_0fe1ae35-c65c-4446-8d45-77915d603a21', 'label': 'jokebot_teller_0fe1ae35-c65c-4446-8d45-77915d603a21', 'type': 'jokebot_teller', 'running': False, 'status': 'Stopped'}, {'id': 'jokebot_responder_5344c93e-b2b0-4802-ae17-dc89e72722ac', 'label': 'jokebot_responder_5344c93e-b2b0-4802-ae17-dc89e72722ac', 'type': 'jokebot_responder', 'running': False, 'status': 'Stopped'}, {'id': 'jokebot_responder_871c6da6-09e6-424c-9441-115b568af3bd', 'label': 'jokebot_responder_871c6da6-09e6-424c-9441-115b568af3bd', 'type': 'jokebot_responder', 'running': False, 'status': 'Stopped'}, {'id': 'user_093c217e-202e-4635-af9b-c2c7c7b5ec4a', 'label': 'user_093c217e-202e-4635-af9b-c2c7c7b5ec4a', 'type': 'user', 'running': True, 'status': 'Running'}], 'links': [{'id': 'jokebot_teller_0fe1ae35-c65c-4446-8d45-77915d603a21_jokebot_responder_5344c93e-b2b0-4802-ae17-dc89e72722ac', 'source': 'jokebot_teller_0fe1ae35-c65c-4446-8d45-77915d603a21', 'target': 'jokebot_responder_5344c93e-b2b0-4802-ae17-dc89e72722ac', 'curvature': 0.2, 'rotation': 3.141592653589793}, {'id': 'jokebot_teller_0fe1ae35-c65c-4446-8d45-77915d603a21_user_093c217e-202e-4635-af9b-c2c7c7b5ec4a', 'source': 'jokebot_teller_0fe1ae35-c65c-4446-8d45-77915d603a21', 'target': 'user_093c217e-202e-4635-af9b-c2c7c7b5ec4a', 'curvature': 0.2, 'rotation': 3.141592653589793}, {'id': 'jokebot_teller_0fe1ae35-c65c-4446-8d45-77915d603a21_jokebot_responder_871c6da6-09e6-424c-9441-115b568af3bd', 'source': 'jokebot_teller_0fe1ae35-c65c-4446-8d45-77915d603a21', 'target': 'jokebot_responder_871c6da6-09e6-424c-9441-115b568af3bd', 'curvature': 0.2, 'rotation': 3.141592653589793}, {'id': 'jokebot_responder_5344c93e-b2b0-4802-ae17-dc89e72722ac_jokebot_teller_0fe1ae35-c65c-4446-8d45-77915d603a21', 'source': 'jokebot_responder_5344c93e-b2b0-4802-ae17-dc89e72722ac', 'target': 'jokebot_teller_0fe1ae35-c65c-4446-8d45-77915d603a21', 'curvature': 0.2, 'rotation': 3.141592653589793}, {'id': 'jokebot_responder_871c6da6-09e6-424c-9441-115b568af3bd_jokebot_teller_0fe1ae35-c65c-4446-8d45-77915d603a21', 'source': 'jokebot_responder_871c6da6-09e6-424c-9441-115b568af3bd', 'target': 'jokebot_teller_0fe1ae35-c65c-4446-8d45-77915d603a21', 'curvature': 0.2, 'rotation': 3.141592653589793}, {'id': 'user_093c217e-202e-4635-af9b-c2c7c7b5ec4a_jokebot_teller_0fe1ae35-c65c-4446-8d45-77915d603a21', 'source': 'user_093c217e-202e-4635-af9b-c2c7c7b5ec4a', 'target': 'jokebot_teller_0fe1ae35-c65c-4446-8d45-77915d603a21', 'curvature': 0.2, 'rotation': 3.141592653589793}]}\n",
      "{'jokebot_teller_0fe1ae35-c65c-4446-8d45-77915d603a21': <InboxAgent.InboxAgent object at 0x0000012F9F26A190>, 'jokebot_responder_5344c93e-b2b0-4802-ae17-dc89e72722ac': <InboxAgent.InboxAgent object at 0x0000012F9F26A130>, 'jokebot_responder_871c6da6-09e6-424c-9441-115b568af3bd': <InboxAgent.InboxAgent object at 0x0000012F9F26A1C0>, 'user_093c217e-202e-4635-af9b-c2c7c7b5ec4a': <UserProxyAgent.UserProxyAgent object at 0x0000012F9F26A220>}\n",
      "{'jokebot_teller_0fe1ae35-c65c-4446-8d45-77915d603a21': <InboxAgent.InboxAgent object at 0x0000012F9F26A190>, 'jokebot_responder_5344c93e-b2b0-4802-ae17-dc89e72722ac': <InboxAgent.InboxAgent object at 0x0000012F9F26A130>, 'jokebot_responder_871c6da6-09e6-424c-9441-115b568af3bd': <InboxAgent.InboxAgent object at 0x0000012F9F26A1C0>, 'user_093c217e-202e-4635-af9b-c2c7c7b5ec4a': <UserProxyAgent.UserProxyAgent object at 0x0000012F9F26A220>}\n",
      "{'jokebot_teller_0fe1ae35-c65c-4446-8d45-77915d603a21': <InboxAgent.InboxAgent object at 0x0000012F9F26A190>, 'jokebot_responder_5344c93e-b2b0-4802-ae17-dc89e72722ac': <InboxAgent.InboxAgent object at 0x0000012F9F26A130>, 'jokebot_responder_871c6da6-09e6-424c-9441-115b568af3bd': <InboxAgent.InboxAgent object at 0x0000012F9F26A1C0>, 'user_093c217e-202e-4635-af9b-c2c7c7b5ec4a': <UserProxyAgent.UserProxyAgent object at 0x0000012F9F26A220>}\n",
      "{'jokebot_teller_0fe1ae35-c65c-4446-8d45-77915d603a21': <InboxAgent.InboxAgent object at 0x0000012F9F26A190>, 'jokebot_responder_5344c93e-b2b0-4802-ae17-dc89e72722ac': <InboxAgent.InboxAgent object at 0x0000012F9F26A130>, 'jokebot_responder_871c6da6-09e6-424c-9441-115b568af3bd': <InboxAgent.InboxAgent object at 0x0000012F9F26A1C0>, 'user_093c217e-202e-4635-af9b-c2c7c7b5ec4a': <UserProxyAgent.UserProxyAgent object at 0x0000012F9F26A220>}\n",
      "{'jokebot_teller_0fe1ae35-c65c-4446-8d45-77915d603a21': <InboxAgent.InboxAgent object at 0x0000012F9F26A190>, 'jokebot_responder_5344c93e-b2b0-4802-ae17-dc89e72722ac': <InboxAgent.InboxAgent object at 0x0000012F9F26A130>, 'jokebot_responder_871c6da6-09e6-424c-9441-115b568af3bd': <InboxAgent.InboxAgent object at 0x0000012F9F26A1C0>, 'user_093c217e-202e-4635-af9b-c2c7c7b5ec4a': <UserProxyAgent.UserProxyAgent object at 0x0000012F9F26A220>}\n",
      "{'jokebot_teller_0fe1ae35-c65c-4446-8d45-77915d603a21': <InboxAgent.InboxAgent object at 0x0000012F9F26A190>, 'jokebot_responder_5344c93e-b2b0-4802-ae17-dc89e72722ac': <InboxAgent.InboxAgent object at 0x0000012F9F26A130>, 'jokebot_responder_871c6da6-09e6-424c-9441-115b568af3bd': <InboxAgent.InboxAgent object at 0x0000012F9F26A1C0>, 'user_093c217e-202e-4635-af9b-c2c7c7b5ec4a': <UserProxyAgent.UserProxyAgent object at 0x0000012F9F26A220>}\n",
      "{'source': 'user_093c217e-202e-4635-af9b-c2c7c7b5ec4a', 'target': 'jokebot_responder_871c6da6-09e6-424c-9441-115b568af3bd'}\n",
      "{'jokebot_teller_0fe1ae35-c65c-4446-8d45-77915d603a21': <InboxAgent.InboxAgent object at 0x0000012F9F26A190>, 'jokebot_responder_5344c93e-b2b0-4802-ae17-dc89e72722ac': <InboxAgent.InboxAgent object at 0x0000012F9F26A130>, 'jokebot_responder_871c6da6-09e6-424c-9441-115b568af3bd': <InboxAgent.InboxAgent object at 0x0000012F9F26A1C0>, 'user_093c217e-202e-4635-af9b-c2c7c7b5ec4a': <UserProxyAgent.UserProxyAgent object at 0x0000012F9F26A220>}\n",
      "{'jokebot_teller_0fe1ae35-c65c-4446-8d45-77915d603a21': <InboxAgent.InboxAgent object at 0x0000012F9F26A190>, 'jokebot_responder_5344c93e-b2b0-4802-ae17-dc89e72722ac': <InboxAgent.InboxAgent object at 0x0000012F9F26A130>, 'jokebot_responder_871c6da6-09e6-424c-9441-115b568af3bd': <InboxAgent.InboxAgent object at 0x0000012F9F26A1C0>, 'user_093c217e-202e-4635-af9b-c2c7c7b5ec4a': <UserProxyAgent.UserProxyAgent object at 0x0000012F9F26A220>}\n",
      "{'jokebot_teller_0fe1ae35-c65c-4446-8d45-77915d603a21': <InboxAgent.InboxAgent object at 0x0000012F9F26A190>, 'jokebot_responder_5344c93e-b2b0-4802-ae17-dc89e72722ac': <InboxAgent.InboxAgent object at 0x0000012F9F26A130>, 'jokebot_responder_871c6da6-09e6-424c-9441-115b568af3bd': <InboxAgent.InboxAgent object at 0x0000012F9F26A1C0>, 'user_093c217e-202e-4635-af9b-c2c7c7b5ec4a': <UserProxyAgent.UserProxyAgent object at 0x0000012F9F26A220>}\n",
      "{'jokebot_teller_0fe1ae35-c65c-4446-8d45-77915d603a21': <InboxAgent.InboxAgent object at 0x0000012F9F26A190>, 'jokebot_responder_5344c93e-b2b0-4802-ae17-dc89e72722ac': <InboxAgent.InboxAgent object at 0x0000012F9F26A130>, 'jokebot_responder_871c6da6-09e6-424c-9441-115b568af3bd': <InboxAgent.InboxAgent object at 0x0000012F9F26A1C0>, 'user_093c217e-202e-4635-af9b-c2c7c7b5ec4a': <UserProxyAgent.UserProxyAgent object at 0x0000012F9F26A220>}\n",
      "['jokebot_responder_5344c93e-b2b0-4802-ae17-dc89e72722ac', 'user_093c217e-202e-4635-af9b-c2c7c7b5ec4a', 'jokebot_responder_871c6da6-09e6-424c-9441-115b568af3bd']\n"
     ]
    },
    {
     "name": "stderr",
     "output_type": "stream",
     "text": [
      "127.0.0.1 - - [10/Jan/2024 18:37:27] \"GET /socket.io/?EIO=4&transport=websocket&sid=Y3dR8SblfPMmhrHdAAAL HTTP/1.1\" 200 -\n"
     ]
    },
    {
     "name": "stdout",
     "output_type": "stream",
     "text": [
      "Client disconnected\n"
     ]
    },
    {
     "name": "stderr",
     "output_type": "stream",
     "text": [
      "127.0.0.1 - - [10/Jan/2024 18:37:28] \"GET /socket.io/?EIO=4&transport=polling&t=OprlEfm HTTP/1.1\" 200 -\n",
      "127.0.0.1 - - [10/Jan/2024 18:37:28] \"POST /socket.io/?EIO=4&transport=polling&t=OprlElI&sid=L8EYu8yyoSsRU3bqAAAN HTTP/1.1\" 200 -\n",
      "127.0.0.1 - - [10/Jan/2024 18:37:28] \"GET /socket.io/?EIO=4&transport=polling&t=OprlElK&sid=L8EYu8yyoSsRU3bqAAAN HTTP/1.1\" 200 -\n",
      "127.0.0.1 - - [10/Jan/2024 18:37:28] \"GET /socket.io/?EIO=4&transport=polling&t=OprlEqi&sid=L8EYu8yyoSsRU3bqAAAN HTTP/1.1\" 200 -\n"
     ]
    },
    {
     "name": "stdout",
     "output_type": "stream",
     "text": [
      "Client connected\n",
      "{'nodes': [{'id': 'jokebot_responder_5344c93e-b2b0-4802-ae17-dc89e72722ac', 'label': 'jokebot_responder_5344c93e-b2b0-4802-ae17-dc89e72722ac', 'type': 'jokebot_responder', 'running': False, 'status': 'Stopped'}, {'id': 'jokebot_responder_871c6da6-09e6-424c-9441-115b568af3bd', 'label': 'jokebot_responder_871c6da6-09e6-424c-9441-115b568af3bd', 'type': 'jokebot_responder', 'running': False, 'status': 'Stopped'}, {'id': 'user_093c217e-202e-4635-af9b-c2c7c7b5ec4a', 'label': 'user_093c217e-202e-4635-af9b-c2c7c7b5ec4a', 'type': 'user', 'running': True, 'status': 'Running'}], 'links': []}\n"
     ]
    },
    {
     "name": "stderr",
     "output_type": "stream",
     "text": [
      "127.0.0.1 - - [10/Jan/2024 18:37:29] \"GET /socket.io/?EIO=4&transport=polling&t=OprlEtQ&sid=L8EYu8yyoSsRU3bqAAAN HTTP/1.1\" 200 -\n"
     ]
    },
    {
     "name": "stdout",
     "output_type": "stream",
     "text": [
      "{'jokebot_responder_5344c93e-b2b0-4802-ae17-dc89e72722ac': <InboxAgent.InboxAgent object at 0x0000012F9F26A130>, 'jokebot_responder_871c6da6-09e6-424c-9441-115b568af3bd': <InboxAgent.InboxAgent object at 0x0000012F9F26A1C0>, 'user_093c217e-202e-4635-af9b-c2c7c7b5ec4a': <UserProxyAgent.UserProxyAgent object at 0x0000012F9F26A220>}\n",
      "{'jokebot_responder_5344c93e-b2b0-4802-ae17-dc89e72722ac': <InboxAgent.InboxAgent object at 0x0000012F9F26A130>, 'jokebot_responder_871c6da6-09e6-424c-9441-115b568af3bd': <InboxAgent.InboxAgent object at 0x0000012F9F26A1C0>, 'user_093c217e-202e-4635-af9b-c2c7c7b5ec4a': <UserProxyAgent.UserProxyAgent object at 0x0000012F9F26A220>}\n",
      "{'jokebot_responder_5344c93e-b2b0-4802-ae17-dc89e72722ac': <InboxAgent.InboxAgent object at 0x0000012F9F26A130>, 'jokebot_responder_871c6da6-09e6-424c-9441-115b568af3bd': <InboxAgent.InboxAgent object at 0x0000012F9F26A1C0>, 'user_093c217e-202e-4635-af9b-c2c7c7b5ec4a': <UserProxyAgent.UserProxyAgent object at 0x0000012F9F26A220>}\n",
      "{'jokebot_responder_5344c93e-b2b0-4802-ae17-dc89e72722ac': <InboxAgent.InboxAgent object at 0x0000012F9F26A130>, 'jokebot_responder_871c6da6-09e6-424c-9441-115b568af3bd': <InboxAgent.InboxAgent object at 0x0000012F9F26A1C0>, 'user_093c217e-202e-4635-af9b-c2c7c7b5ec4a': <UserProxyAgent.UserProxyAgent object at 0x0000012F9F26A220>}\n",
      "{'jokebot_responder_5344c93e-b2b0-4802-ae17-dc89e72722ac': <InboxAgent.InboxAgent object at 0x0000012F9F26A130>, 'jokebot_responder_871c6da6-09e6-424c-9441-115b568af3bd': <InboxAgent.InboxAgent object at 0x0000012F9F26A1C0>, 'user_093c217e-202e-4635-af9b-c2c7c7b5ec4a': <UserProxyAgent.UserProxyAgent object at 0x0000012F9F26A220>}\n",
      "{'jokebot_responder_5344c93e-b2b0-4802-ae17-dc89e72722ac': <InboxAgent.InboxAgent object at 0x0000012F9F26A130>, 'jokebot_responder_871c6da6-09e6-424c-9441-115b568af3bd': <InboxAgent.InboxAgent object at 0x0000012F9F26A1C0>, 'user_093c217e-202e-4635-af9b-c2c7c7b5ec4a': <UserProxyAgent.UserProxyAgent object at 0x0000012F9F26A220>}\n",
      "{'jokebot_responder_5344c93e-b2b0-4802-ae17-dc89e72722ac': <InboxAgent.InboxAgent object at 0x0000012F9F26A130>, 'jokebot_responder_871c6da6-09e6-424c-9441-115b568af3bd': <InboxAgent.InboxAgent object at 0x0000012F9F26A1C0>, 'user_093c217e-202e-4635-af9b-c2c7c7b5ec4a': <UserProxyAgent.UserProxyAgent object at 0x0000012F9F26A220>}{'jokebot_responder_5344c93e-b2b0-4802-ae17-dc89e72722ac': <InboxAgent.InboxAgent object at 0x0000012F9F26A130>, 'jokebot_responder_871c6da6-09e6-424c-9441-115b568af3bd': <InboxAgent.InboxAgent object at 0x0000012F9F26A1C0>, 'user_093c217e-202e-4635-af9b-c2c7c7b5ec4a': <UserProxyAgent.UserProxyAgent object at 0x0000012F9F26A220>}\n",
      "\n",
      "{'jokebot_responder_5344c93e-b2b0-4802-ae17-dc89e72722ac': <InboxAgent.InboxAgent object at 0x0000012F9F26A130>, 'jokebot_responder_871c6da6-09e6-424c-9441-115b568af3bd': <InboxAgent.InboxAgent object at 0x0000012F9F26A1C0>, 'user_093c217e-202e-4635-af9b-c2c7c7b5ec4a': <UserProxyAgent.UserProxyAgent object at 0x0000012F9F26A220>}\n",
      "{'jokebot_responder_5344c93e-b2b0-4802-ae17-dc89e72722ac': <InboxAgent.InboxAgent object at 0x0000012F9F26A130>, 'jokebot_responder_871c6da6-09e6-424c-9441-115b568af3bd': <InboxAgent.InboxAgent object at 0x0000012F9F26A1C0>, 'user_093c217e-202e-4635-af9b-c2c7c7b5ec4a': <UserProxyAgent.UserProxyAgent object at 0x0000012F9F26A220>}{'jokebot_responder_5344c93e-b2b0-4802-ae17-dc89e72722ac': <InboxAgent.InboxAgent object at 0x0000012F9F26A130>, 'jokebot_responder_871c6da6-09e6-424c-9441-115b568af3bd': <InboxAgent.InboxAgent object at 0x0000012F9F26A1C0>, 'user_093c217e-202e-4635-af9b-c2c7c7b5ec4a': <UserProxyAgent.UserProxyAgent object at 0x0000012F9F26A220>}\n",
      "\n",
      "{'jokebot_responder_5344c93e-b2b0-4802-ae17-dc89e72722ac': <InboxAgent.InboxAgent object at 0x0000012F9F26A130>, 'jokebot_responder_871c6da6-09e6-424c-9441-115b568af3bd': <InboxAgent.InboxAgent object at 0x0000012F9F26A1C0>, 'user_093c217e-202e-4635-af9b-c2c7c7b5ec4a': <UserProxyAgent.UserProxyAgent object at 0x0000012F9F26A220>}\n",
      "{'jokebot_responder_5344c93e-b2b0-4802-ae17-dc89e72722ac': <InboxAgent.InboxAgent object at 0x0000012F9F26A130>, 'jokebot_responder_871c6da6-09e6-424c-9441-115b568af3bd': <InboxAgent.InboxAgent object at 0x0000012F9F26A1C0>, 'user_093c217e-202e-4635-af9b-c2c7c7b5ec4a': <UserProxyAgent.UserProxyAgent object at 0x0000012F9F26A220>}{'jokebot_responder_5344c93e-b2b0-4802-ae17-dc89e72722ac': <InboxAgent.InboxAgent object at 0x0000012F9F26A130>, 'jokebot_responder_871c6da6-09e6-424c-9441-115b568af3bd': <InboxAgent.InboxAgent object at 0x0000012F9F26A1C0>, 'user_093c217e-202e-4635-af9b-c2c7c7b5ec4a': <UserProxyAgent.UserProxyAgent object at 0x0000012F9F26A220>}\n",
      "\n",
      "{'jokebot_responder_5344c93e-b2b0-4802-ae17-dc89e72722ac': <InboxAgent.InboxAgent object at 0x0000012F9F26A130>, 'jokebot_responder_871c6da6-09e6-424c-9441-115b568af3bd': <InboxAgent.InboxAgent object at 0x0000012F9F26A1C0>, 'user_093c217e-202e-4635-af9b-c2c7c7b5ec4a': <UserProxyAgent.UserProxyAgent object at 0x0000012F9F26A220>}\n",
      "{'source': 'jokebot_responder_871c6da6-09e6-424c-9441-115b568af3bd', 'target': 'user_093c217e-202e-4635-af9b-c2c7c7b5ec4a'}\n",
      "{'jokebot_responder_5344c93e-b2b0-4802-ae17-dc89e72722ac': <InboxAgent.InboxAgent object at 0x0000012F9F26A130>, 'jokebot_responder_871c6da6-09e6-424c-9441-115b568af3bd': <InboxAgent.InboxAgent object at 0x0000012F9F26A1C0>, 'user_093c217e-202e-4635-af9b-c2c7c7b5ec4a': <UserProxyAgent.UserProxyAgent object at 0x0000012F9F26A220>}\n",
      "{'jokebot_responder_5344c93e-b2b0-4802-ae17-dc89e72722ac': <InboxAgent.InboxAgent object at 0x0000012F9F26A130>, 'jokebot_responder_871c6da6-09e6-424c-9441-115b568af3bd': <InboxAgent.InboxAgent object at 0x0000012F9F26A1C0>, 'user_093c217e-202e-4635-af9b-c2c7c7b5ec4a': <UserProxyAgent.UserProxyAgent object at 0x0000012F9F26A220>}\n",
      "{'jokebot_responder_5344c93e-b2b0-4802-ae17-dc89e72722ac': <InboxAgent.InboxAgent object at 0x0000012F9F26A130>, 'jokebot_responder_871c6da6-09e6-424c-9441-115b568af3bd': <InboxAgent.InboxAgent object at 0x0000012F9F26A1C0>, 'user_093c217e-202e-4635-af9b-c2c7c7b5ec4a': <UserProxyAgent.UserProxyAgent object at 0x0000012F9F26A220>}\n",
      "{'jokebot_responder_5344c93e-b2b0-4802-ae17-dc89e72722ac': <InboxAgent.InboxAgent object at 0x0000012F9F26A130>, 'jokebot_responder_871c6da6-09e6-424c-9441-115b568af3bd': <InboxAgent.InboxAgent object at 0x0000012F9F26A1C0>, 'user_093c217e-202e-4635-af9b-c2c7c7b5ec4a': <UserProxyAgent.UserProxyAgent object at 0x0000012F9F26A220>}{'jokebot_responder_5344c93e-b2b0-4802-ae17-dc89e72722ac': <InboxAgent.InboxAgent object at 0x0000012F9F26A130>, 'jokebot_responder_871c6da6-09e6-424c-9441-115b568af3bd': <InboxAgent.InboxAgent object at 0x0000012F9F26A1C0>, 'user_093c217e-202e-4635-af9b-c2c7c7b5ec4a': <UserProxyAgent.UserProxyAgent object at 0x0000012F9F26A220>}\n",
      "{'jokebot_responder_5344c93e-b2b0-4802-ae17-dc89e72722ac': <InboxAgent.InboxAgent object at 0x0000012F9F26A130>, 'jokebot_responder_871c6da6-09e6-424c-9441-115b568af3bd': <InboxAgent.InboxAgent object at 0x0000012F9F26A1C0>, 'user_093c217e-202e-4635-af9b-c2c7c7b5ec4a': <UserProxyAgent.UserProxyAgent object at 0x0000012F9F26A220>}\n",
      "{'source': 'jokebot_responder_871c6da6-09e6-424c-9441-115b568af3bd', 'target': 'jokebot_responder_5344c93e-b2b0-4802-ae17-dc89e72722ac'}\n",
      "\n"
     ]
    },
    {
     "name": "stderr",
     "output_type": "stream",
     "text": [
      "127.0.0.1 - - [10/Jan/2024 19:28:20] \"GET /socket.io/?EIO=4&transport=websocket&sid=L8EYu8yyoSsRU3bqAAAN HTTP/1.1\" 200 -\n"
     ]
    },
    {
     "name": "stdout",
     "output_type": "stream",
     "text": [
      "Client disconnected\n"
     ]
    },
    {
     "name": "stderr",
     "output_type": "stream",
     "text": [
      "127.0.0.1 - - [10/Jan/2024 19:28:20] \"GET /socket.io/?EIO=4&transport=polling&t=Oprwtyo HTTP/1.1\" 200 -\n",
      "127.0.0.1 - - [10/Jan/2024 19:28:20] \"GET /socket.io/?EIO=4&transport=polling&t=Oprwtyx HTTP/1.1\" 200 -\n",
      "127.0.0.1 - - [10/Jan/2024 19:28:21] \"POST /socket.io/?EIO=4&transport=polling&t=Oprwu2X&sid=nLqCz9xSUvVW2ASOAAAQ HTTP/1.1\" 200 -\n",
      "127.0.0.1 - - [10/Jan/2024 19:28:21] \"GET /socket.io/?EIO=4&transport=polling&t=Oprwu2Z&sid=nLqCz9xSUvVW2ASOAAAQ HTTP/1.1\" 200 -\n"
     ]
    },
    {
     "name": "stdout",
     "output_type": "stream",
     "text": [
      "Client connected\n",
      "{'nodes': [{'id': 'jokebot_responder_5344c93e-b2b0-4802-ae17-dc89e72722ac', 'label': 'jokebot_responder_5344c93e-b2b0-4802-ae17-dc89e72722ac', 'type': 'jokebot_responder', 'running': False, 'status': 'Stopped'}, {'id': 'jokebot_responder_871c6da6-09e6-424c-9441-115b568af3bd', 'label': 'jokebot_responder_871c6da6-09e6-424c-9441-115b568af3bd', 'type': 'jokebot_responder', 'running': False, 'status': 'Stopped'}, {'id': 'user_093c217e-202e-4635-af9b-c2c7c7b5ec4a', 'label': 'user_093c217e-202e-4635-af9b-c2c7c7b5ec4a', 'type': 'user', 'running': True, 'status': 'Running'}], 'links': [{'id': 'jokebot_responder_5344c93e-b2b0-4802-ae17-dc89e72722ac_jokebot_responder_871c6da6-09e6-424c-9441-115b568af3bd', 'source': 'jokebot_responder_5344c93e-b2b0-4802-ae17-dc89e72722ac', 'target': 'jokebot_responder_871c6da6-09e6-424c-9441-115b568af3bd', 'curvature': 0.2, 'rotation': 3.141592653589793}, {'id': 'jokebot_responder_871c6da6-09e6-424c-9441-115b568af3bd_user_093c217e-202e-4635-af9b-c2c7c7b5ec4a', 'source': 'jokebot_responder_871c6da6-09e6-424c-9441-115b568af3bd', 'target': 'user_093c217e-202e-4635-af9b-c2c7c7b5ec4a', 'curvature': 0.2, 'rotation': 3.141592653589793}, {'id': 'jokebot_responder_871c6da6-09e6-424c-9441-115b568af3bd_jokebot_responder_5344c93e-b2b0-4802-ae17-dc89e72722ac', 'source': 'jokebot_responder_871c6da6-09e6-424c-9441-115b568af3bd', 'target': 'jokebot_responder_5344c93e-b2b0-4802-ae17-dc89e72722ac', 'curvature': 0.2, 'rotation': 3.141592653589793}, {'id': 'user_093c217e-202e-4635-af9b-c2c7c7b5ec4a_jokebot_responder_871c6da6-09e6-424c-9441-115b568af3bd', 'source': 'user_093c217e-202e-4635-af9b-c2c7c7b5ec4a', 'target': 'jokebot_responder_871c6da6-09e6-424c-9441-115b568af3bd', 'curvature': 0.2, 'rotation': 3.141592653589793}]}\n"
     ]
    },
    {
     "name": "stderr",
     "output_type": "stream",
     "text": [
      "127.0.0.1 - - [10/Jan/2024 19:31:29] \"GET /socket.io/?EIO=4&transport=websocket&sid=nLqCz9xSUvVW2ASOAAAQ HTTP/1.1\" 200 -\n"
     ]
    },
    {
     "name": "stdout",
     "output_type": "stream",
     "text": [
      "Client disconnected\n"
     ]
    },
    {
     "name": "stderr",
     "output_type": "stream",
     "text": [
      "127.0.0.1 - - [10/Jan/2024 19:31:30] \"GET /socket.io/?EIO=4&transport=polling&t=OprxcC4 HTTP/1.1\" 200 -\n",
      "127.0.0.1 - - [10/Jan/2024 19:31:30] \"GET /socket.io/?EIO=4&transport=polling&t=OprxcCD HTTP/1.1\" 200 -\n",
      "127.0.0.1 - - [10/Jan/2024 19:31:30] \"POST /socket.io/?EIO=4&transport=polling&t=OprxcHy&sid=ZiuZtvozV0t3lHvoAAAT HTTP/1.1\" 200 -\n",
      "127.0.0.1 - - [10/Jan/2024 19:31:30] \"GET /socket.io/?EIO=4&transport=polling&t=OprxcH_&sid=ZiuZtvozV0t3lHvoAAAT HTTP/1.1\" 200 -\n"
     ]
    },
    {
     "name": "stdout",
     "output_type": "stream",
     "text": [
      "Client connected\n",
      "{'nodes': [{'id': 'jokebot_responder_5344c93e-b2b0-4802-ae17-dc89e72722ac', 'label': 'jokebot_responder_5344c93e-b2b0-4802-ae17-dc89e72722ac', 'type': 'jokebot_responder', 'running': False, 'status': 'Stopped'}, {'id': 'jokebot_responder_871c6da6-09e6-424c-9441-115b568af3bd', 'label': 'jokebot_responder_871c6da6-09e6-424c-9441-115b568af3bd', 'type': 'jokebot_responder', 'running': False, 'status': 'Stopped'}, {'id': 'user_093c217e-202e-4635-af9b-c2c7c7b5ec4a', 'label': 'user_093c217e-202e-4635-af9b-c2c7c7b5ec4a', 'type': 'user', 'running': True, 'status': 'Running'}], 'links': [{'id': 'jokebot_responder_5344c93e-b2b0-4802-ae17-dc89e72722ac_jokebot_responder_871c6da6-09e6-424c-9441-115b568af3bd', 'source': 'jokebot_responder_5344c93e-b2b0-4802-ae17-dc89e72722ac', 'target': 'jokebot_responder_871c6da6-09e6-424c-9441-115b568af3bd', 'curvature': 0.2, 'rotation': 3.141592653589793}, {'id': 'jokebot_responder_871c6da6-09e6-424c-9441-115b568af3bd_user_093c217e-202e-4635-af9b-c2c7c7b5ec4a', 'source': 'jokebot_responder_871c6da6-09e6-424c-9441-115b568af3bd', 'target': 'user_093c217e-202e-4635-af9b-c2c7c7b5ec4a', 'curvature': 0.2, 'rotation': 3.141592653589793}, {'id': 'jokebot_responder_871c6da6-09e6-424c-9441-115b568af3bd_jokebot_responder_5344c93e-b2b0-4802-ae17-dc89e72722ac', 'source': 'jokebot_responder_871c6da6-09e6-424c-9441-115b568af3bd', 'target': 'jokebot_responder_5344c93e-b2b0-4802-ae17-dc89e72722ac', 'curvature': 0.2, 'rotation': 3.141592653589793}, {'id': 'user_093c217e-202e-4635-af9b-c2c7c7b5ec4a_jokebot_responder_871c6da6-09e6-424c-9441-115b568af3bd', 'source': 'user_093c217e-202e-4635-af9b-c2c7c7b5ec4a', 'target': 'jokebot_responder_871c6da6-09e6-424c-9441-115b568af3bd', 'curvature': 0.2, 'rotation': 3.141592653589793}]}\n"
     ]
    },
    {
     "name": "stderr",
     "output_type": "stream",
     "text": [
      "127.0.0.1 - - [10/Jan/2024 19:31:31] \"GET /socket.io/?EIO=4&transport=polling&t=OprxcNy&sid=ZiuZtvozV0t3lHvoAAAT HTTP/1.1\" 200 -\n",
      "127.0.0.1 - - [10/Jan/2024 19:33:04] \"GET /socket.io/?EIO=4&transport=websocket&sid=ZiuZtvozV0t3lHvoAAAT HTTP/1.1\" 200 -\n"
     ]
    },
    {
     "name": "stdout",
     "output_type": "stream",
     "text": [
      "Client disconnected\n"
     ]
    },
    {
     "name": "stderr",
     "output_type": "stream",
     "text": [
      "127.0.0.1 - - [10/Jan/2024 19:33:07] \"GET /socket.io/?EIO=4&transport=polling&t=Oprxzue HTTP/1.1\" 200 -\n",
      "127.0.0.1 - - [10/Jan/2024 19:33:07] \"GET /socket.io/?EIO=4&transport=polling&t=Oprxzum HTTP/1.1\" 200 -\n",
      "127.0.0.1 - - [10/Jan/2024 19:33:07] \"POST /socket.io/?EIO=4&transport=polling&t=Oprxzzt&sid=OJa6BgFget6VwRc5AAAW HTTP/1.1\" 200 -\n",
      "127.0.0.1 - - [10/Jan/2024 19:33:07] \"GET /socket.io/?EIO=4&transport=polling&t=Oprxzzv&sid=OJa6BgFget6VwRc5AAAW HTTP/1.1\" 200 -\n"
     ]
    },
    {
     "name": "stdout",
     "output_type": "stream",
     "text": [
      "Client connected\n",
      "{'nodes': [{'id': 'jokebot_responder_5344c93e-b2b0-4802-ae17-dc89e72722ac', 'label': 'jokebot_responder_5344c93e-b2b0-4802-ae17-dc89e72722ac', 'type': 'jokebot_responder', 'running': False, 'status': 'Stopped'}, {'id': 'jokebot_responder_871c6da6-09e6-424c-9441-115b568af3bd', 'label': 'jokebot_responder_871c6da6-09e6-424c-9441-115b568af3bd', 'type': 'jokebot_responder', 'running': False, 'status': 'Stopped'}, {'id': 'user_093c217e-202e-4635-af9b-c2c7c7b5ec4a', 'label': 'user_093c217e-202e-4635-af9b-c2c7c7b5ec4a', 'type': 'user', 'running': True, 'status': 'Running'}], 'links': [{'id': 'jokebot_responder_5344c93e-b2b0-4802-ae17-dc89e72722ac_jokebot_responder_871c6da6-09e6-424c-9441-115b568af3bd', 'source': 'jokebot_responder_5344c93e-b2b0-4802-ae17-dc89e72722ac', 'target': 'jokebot_responder_871c6da6-09e6-424c-9441-115b568af3bd', 'curvature': 0.2, 'rotation': 3.141592653589793}, {'id': 'jokebot_responder_871c6da6-09e6-424c-9441-115b568af3bd_user_093c217e-202e-4635-af9b-c2c7c7b5ec4a', 'source': 'jokebot_responder_871c6da6-09e6-424c-9441-115b568af3bd', 'target': 'user_093c217e-202e-4635-af9b-c2c7c7b5ec4a', 'curvature': 0.2, 'rotation': 3.141592653589793}, {'id': 'jokebot_responder_871c6da6-09e6-424c-9441-115b568af3bd_jokebot_responder_5344c93e-b2b0-4802-ae17-dc89e72722ac', 'source': 'jokebot_responder_871c6da6-09e6-424c-9441-115b568af3bd', 'target': 'jokebot_responder_5344c93e-b2b0-4802-ae17-dc89e72722ac', 'curvature': 0.2, 'rotation': 3.141592653589793}, {'id': 'user_093c217e-202e-4635-af9b-c2c7c7b5ec4a_jokebot_responder_871c6da6-09e6-424c-9441-115b568af3bd', 'source': 'user_093c217e-202e-4635-af9b-c2c7c7b5ec4a', 'target': 'jokebot_responder_871c6da6-09e6-424c-9441-115b568af3bd', 'curvature': 0.2, 'rotation': 3.141592653589793}]}\n"
     ]
    },
    {
     "name": "stderr",
     "output_type": "stream",
     "text": [
      "127.0.0.1 - - [10/Jan/2024 19:36:27] \"GET /socket.io/?EIO=4&transport=websocket&sid=OJa6BgFget6VwRc5AAAW HTTP/1.1\" 200 -\n"
     ]
    },
    {
     "name": "stdout",
     "output_type": "stream",
     "text": [
      "Client disconnected\n"
     ]
    },
    {
     "name": "stderr",
     "output_type": "stream",
     "text": [
      "127.0.0.1 - - [10/Jan/2024 19:36:29] \"GET /socket.io/?EIO=4&transport=polling&t=OprylHk HTTP/1.1\" 200 -\n",
      "127.0.0.1 - - [10/Jan/2024 19:36:29] \"GET /socket.io/?EIO=4&transport=polling&t=OprylI0 HTTP/1.1\" 200 -\n",
      "127.0.0.1 - - [10/Jan/2024 19:36:29] \"POST /socket.io/?EIO=4&transport=polling&t=OprylM-&sid=EfhqeRoR5hOjkbtjAAAZ HTTP/1.1\" 200 -\n",
      "127.0.0.1 - - [10/Jan/2024 19:36:30] \"GET /socket.io/?EIO=4&transport=polling&t=OprylN1&sid=EfhqeRoR5hOjkbtjAAAZ HTTP/1.1\" 200 -\n"
     ]
    },
    {
     "name": "stdout",
     "output_type": "stream",
     "text": [
      "Client connected\n",
      "{'nodes': [{'id': 'jokebot_responder_5344c93e-b2b0-4802-ae17-dc89e72722ac', 'label': 'jokebot_responder_5344c93e-b2b0-4802-ae17-dc89e72722ac', 'type': 'jokebot_responder', 'running': False, 'status': 'Stopped'}, {'id': 'jokebot_responder_871c6da6-09e6-424c-9441-115b568af3bd', 'label': 'jokebot_responder_871c6da6-09e6-424c-9441-115b568af3bd', 'type': 'jokebot_responder', 'running': False, 'status': 'Stopped'}, {'id': 'user_093c217e-202e-4635-af9b-c2c7c7b5ec4a', 'label': 'user_093c217e-202e-4635-af9b-c2c7c7b5ec4a', 'type': 'user', 'running': True, 'status': 'Running'}], 'links': [{'id': 'jokebot_responder_5344c93e-b2b0-4802-ae17-dc89e72722ac_jokebot_responder_871c6da6-09e6-424c-9441-115b568af3bd', 'source': 'jokebot_responder_5344c93e-b2b0-4802-ae17-dc89e72722ac', 'target': 'jokebot_responder_871c6da6-09e6-424c-9441-115b568af3bd', 'curvature': 0.2, 'rotation': 3.141592653589793}, {'id': 'jokebot_responder_871c6da6-09e6-424c-9441-115b568af3bd_user_093c217e-202e-4635-af9b-c2c7c7b5ec4a', 'source': 'jokebot_responder_871c6da6-09e6-424c-9441-115b568af3bd', 'target': 'user_093c217e-202e-4635-af9b-c2c7c7b5ec4a', 'curvature': 0.2, 'rotation': 3.141592653589793}, {'id': 'jokebot_responder_871c6da6-09e6-424c-9441-115b568af3bd_jokebot_responder_5344c93e-b2b0-4802-ae17-dc89e72722ac', 'source': 'jokebot_responder_871c6da6-09e6-424c-9441-115b568af3bd', 'target': 'jokebot_responder_5344c93e-b2b0-4802-ae17-dc89e72722ac', 'curvature': 0.2, 'rotation': 3.141592653589793}, {'id': 'user_093c217e-202e-4635-af9b-c2c7c7b5ec4a_jokebot_responder_871c6da6-09e6-424c-9441-115b568af3bd', 'source': 'user_093c217e-202e-4635-af9b-c2c7c7b5ec4a', 'target': 'jokebot_responder_871c6da6-09e6-424c-9441-115b568af3bd', 'curvature': 0.2, 'rotation': 3.141592653589793}]}\n"
     ]
    },
    {
     "name": "stderr",
     "output_type": "stream",
     "text": [
      "127.0.0.1 - - [10/Jan/2024 19:38:17] \"GET /socket.io/?EIO=4&transport=websocket&sid=EfhqeRoR5hOjkbtjAAAZ HTTP/1.1\" 200 -\n"
     ]
    },
    {
     "name": "stdout",
     "output_type": "stream",
     "text": [
      "Client disconnected\n"
     ]
    },
    {
     "name": "stderr",
     "output_type": "stream",
     "text": [
      "127.0.0.1 - - [10/Jan/2024 19:38:17] \"GET /socket.io/?EIO=4&transport=polling&t=Oprz9aS HTTP/1.1\" 200 -\n",
      "127.0.0.1 - - [10/Jan/2024 19:38:17] \"GET /socket.io/?EIO=4&transport=polling&t=Oprz9aW HTTP/1.1\" 200 -\n",
      "127.0.0.1 - - [10/Jan/2024 19:38:17] \"POST /socket.io/?EIO=4&transport=polling&t=Oprz9fh&sid=tenZ6aG8TPDfYLBvAAAc HTTP/1.1\" 200 -\n",
      "127.0.0.1 - - [10/Jan/2024 19:38:17] \"GET /socket.io/?EIO=4&transport=polling&t=Oprz9fk&sid=tenZ6aG8TPDfYLBvAAAc HTTP/1.1\" 200 -\n",
      "127.0.0.1 - - [10/Jan/2024 19:38:17] \"GET /socket.io/?EIO=4&transport=polling&t=Oprz9kh&sid=tenZ6aG8TPDfYLBvAAAc HTTP/1.1\" 200 -\n"
     ]
    },
    {
     "name": "stdout",
     "output_type": "stream",
     "text": [
      "Client connected\n",
      "{'nodes': [{'id': 'jokebot_responder_5344c93e-b2b0-4802-ae17-dc89e72722ac', 'label': 'jokebot_responder_5344c93e-b2b0-4802-ae17-dc89e72722ac', 'type': 'jokebot_responder', 'running': False, 'status': 'Stopped'}, {'id': 'jokebot_responder_871c6da6-09e6-424c-9441-115b568af3bd', 'label': 'jokebot_responder_871c6da6-09e6-424c-9441-115b568af3bd', 'type': 'jokebot_responder', 'running': False, 'status': 'Stopped'}, {'id': 'user_093c217e-202e-4635-af9b-c2c7c7b5ec4a', 'label': 'user_093c217e-202e-4635-af9b-c2c7c7b5ec4a', 'type': 'user', 'running': True, 'status': 'Running'}], 'links': [{'id': 'jokebot_responder_5344c93e-b2b0-4802-ae17-dc89e72722ac_jokebot_responder_871c6da6-09e6-424c-9441-115b568af3bd', 'source': 'jokebot_responder_5344c93e-b2b0-4802-ae17-dc89e72722ac', 'target': 'jokebot_responder_871c6da6-09e6-424c-9441-115b568af3bd', 'curvature': 0.2, 'rotation': 3.141592653589793}, {'id': 'jokebot_responder_871c6da6-09e6-424c-9441-115b568af3bd_user_093c217e-202e-4635-af9b-c2c7c7b5ec4a', 'source': 'jokebot_responder_871c6da6-09e6-424c-9441-115b568af3bd', 'target': 'user_093c217e-202e-4635-af9b-c2c7c7b5ec4a', 'curvature': 0.2, 'rotation': 3.141592653589793}, {'id': 'jokebot_responder_871c6da6-09e6-424c-9441-115b568af3bd_jokebot_responder_5344c93e-b2b0-4802-ae17-dc89e72722ac', 'source': 'jokebot_responder_871c6da6-09e6-424c-9441-115b568af3bd', 'target': 'jokebot_responder_5344c93e-b2b0-4802-ae17-dc89e72722ac', 'curvature': 0.2, 'rotation': 3.141592653589793}, {'id': 'user_093c217e-202e-4635-af9b-c2c7c7b5ec4a_jokebot_responder_871c6da6-09e6-424c-9441-115b568af3bd', 'source': 'user_093c217e-202e-4635-af9b-c2c7c7b5ec4a', 'target': 'jokebot_responder_871c6da6-09e6-424c-9441-115b568af3bd', 'curvature': 0.2, 'rotation': 3.141592653589793}]}\n"
     ]
    },
    {
     "name": "stderr",
     "output_type": "stream",
     "text": [
      "127.0.0.1 - - [10/Jan/2024 19:43:12] \"GET /socket.io/?EIO=4&transport=websocket&sid=tenZ6aG8TPDfYLBvAAAc HTTP/1.1\" 200 -\n"
     ]
    },
    {
     "name": "stdout",
     "output_type": "stream",
     "text": [
      "Client disconnected\n"
     ]
    },
    {
     "name": "stderr",
     "output_type": "stream",
     "text": [
      "127.0.0.1 - - [10/Jan/2024 19:43:14] \"GET /socket.io/?EIO=4&transport=polling&t=Opr-ICw HTTP/1.1\" 200 -\n",
      "127.0.0.1 - - [10/Jan/2024 19:43:14] \"GET /socket.io/?EIO=4&transport=polling&t=Opr-ID1 HTTP/1.1\" 200 -\n",
      "127.0.0.1 - - [10/Jan/2024 19:43:15] \"POST /socket.io/?EIO=4&transport=polling&t=Opr-II7&sid=H_ITtBUnh6JIR50cAAAf HTTP/1.1\" 200 -\n",
      "127.0.0.1 - - [10/Jan/2024 19:43:15] \"GET /socket.io/?EIO=4&transport=polling&t=Opr-IIA&sid=H_ITtBUnh6JIR50cAAAf HTTP/1.1\" 200 -\n"
     ]
    },
    {
     "name": "stdout",
     "output_type": "stream",
     "text": [
      "Client connected\n",
      "{'nodes': [{'id': 'jokebot_responder_5344c93e-b2b0-4802-ae17-dc89e72722ac', 'label': 'jokebot_responder_5344c93e-b2b0-4802-ae17-dc89e72722ac', 'type': 'jokebot_responder', 'running': False, 'status': 'Stopped'}, {'id': 'jokebot_responder_871c6da6-09e6-424c-9441-115b568af3bd', 'label': 'jokebot_responder_871c6da6-09e6-424c-9441-115b568af3bd', 'type': 'jokebot_responder', 'running': False, 'status': 'Stopped'}, {'id': 'user_093c217e-202e-4635-af9b-c2c7c7b5ec4a', 'label': 'user_093c217e-202e-4635-af9b-c2c7c7b5ec4a', 'type': 'user', 'running': True, 'status': 'Running'}], 'links': [{'id': 'jokebot_responder_5344c93e-b2b0-4802-ae17-dc89e72722ac_jokebot_responder_871c6da6-09e6-424c-9441-115b568af3bd', 'source': 'jokebot_responder_5344c93e-b2b0-4802-ae17-dc89e72722ac', 'target': 'jokebot_responder_871c6da6-09e6-424c-9441-115b568af3bd', 'curvature': 0.2, 'rotation': 3.141592653589793}, {'id': 'jokebot_responder_871c6da6-09e6-424c-9441-115b568af3bd_user_093c217e-202e-4635-af9b-c2c7c7b5ec4a', 'source': 'jokebot_responder_871c6da6-09e6-424c-9441-115b568af3bd', 'target': 'user_093c217e-202e-4635-af9b-c2c7c7b5ec4a', 'curvature': 0.2, 'rotation': 3.141592653589793}, {'id': 'jokebot_responder_871c6da6-09e6-424c-9441-115b568af3bd_jokebot_responder_5344c93e-b2b0-4802-ae17-dc89e72722ac', 'source': 'jokebot_responder_871c6da6-09e6-424c-9441-115b568af3bd', 'target': 'jokebot_responder_5344c93e-b2b0-4802-ae17-dc89e72722ac', 'curvature': 0.2, 'rotation': 3.141592653589793}, {'id': 'user_093c217e-202e-4635-af9b-c2c7c7b5ec4a_jokebot_responder_871c6da6-09e6-424c-9441-115b568af3bd', 'source': 'user_093c217e-202e-4635-af9b-c2c7c7b5ec4a', 'target': 'jokebot_responder_871c6da6-09e6-424c-9441-115b568af3bd', 'curvature': 0.2, 'rotation': 3.141592653589793}]}\n"
     ]
    },
    {
     "name": "stderr",
     "output_type": "stream",
     "text": [
      "127.0.0.1 - - [10/Jan/2024 21:44:14] \"GET /socket.io/?EIO=4&transport=websocket&sid=H_ITtBUnh6JIR50cAAAf HTTP/1.1\" 200 -\n"
     ]
    },
    {
     "name": "stdout",
     "output_type": "stream",
     "text": [
      "Client disconnected\n"
     ]
    },
    {
     "name": "stderr",
     "output_type": "stream",
     "text": [
      "127.0.0.1 - - [10/Jan/2024 21:44:16] \"GET /socket.io/?EIO=4&transport=polling&t=OpsP_10 HTTP/1.1\" 200 -\n",
      "127.0.0.1 - - [10/Jan/2024 21:44:16] \"GET /socket.io/?EIO=4&transport=polling&t=OpsP_15 HTTP/1.1\" 200 -\n",
      "127.0.0.1 - - [10/Jan/2024 21:44:16] \"POST /socket.io/?EIO=4&transport=polling&t=OpsP_6A&sid=ehKilaoEaglR8nf3AAAi HTTP/1.1\" 200 -\n",
      "127.0.0.1 - - [10/Jan/2024 21:44:16] \"GET /socket.io/?EIO=4&transport=polling&t=OpsP_6C&sid=ehKilaoEaglR8nf3AAAi HTTP/1.1\" 200 -\n"
     ]
    },
    {
     "name": "stdout",
     "output_type": "stream",
     "text": [
      "Client connected\n",
      "{'nodes': [{'id': 'jokebot_responder_5344c93e-b2b0-4802-ae17-dc89e72722ac', 'label': 'jokebot_responder_5344c93e-b2b0-4802-ae17-dc89e72722ac', 'type': 'jokebot_responder', 'running': False, 'status': 'Stopped'}, {'id': 'jokebot_responder_871c6da6-09e6-424c-9441-115b568af3bd', 'label': 'jokebot_responder_871c6da6-09e6-424c-9441-115b568af3bd', 'type': 'jokebot_responder', 'running': False, 'status': 'Stopped'}, {'id': 'user_093c217e-202e-4635-af9b-c2c7c7b5ec4a', 'label': 'user_093c217e-202e-4635-af9b-c2c7c7b5ec4a', 'type': 'user', 'running': True, 'status': 'Running'}], 'links': [{'id': 'jokebot_responder_5344c93e-b2b0-4802-ae17-dc89e72722ac_jokebot_responder_871c6da6-09e6-424c-9441-115b568af3bd', 'source': 'jokebot_responder_5344c93e-b2b0-4802-ae17-dc89e72722ac', 'target': 'jokebot_responder_871c6da6-09e6-424c-9441-115b568af3bd', 'curvature': 0.2, 'rotation': 3.141592653589793}, {'id': 'jokebot_responder_871c6da6-09e6-424c-9441-115b568af3bd_user_093c217e-202e-4635-af9b-c2c7c7b5ec4a', 'source': 'jokebot_responder_871c6da6-09e6-424c-9441-115b568af3bd', 'target': 'user_093c217e-202e-4635-af9b-c2c7c7b5ec4a', 'curvature': 0.2, 'rotation': 3.141592653589793}, {'id': 'jokebot_responder_871c6da6-09e6-424c-9441-115b568af3bd_jokebot_responder_5344c93e-b2b0-4802-ae17-dc89e72722ac', 'source': 'jokebot_responder_871c6da6-09e6-424c-9441-115b568af3bd', 'target': 'jokebot_responder_5344c93e-b2b0-4802-ae17-dc89e72722ac', 'curvature': 0.2, 'rotation': 3.141592653589793}, {'id': 'user_093c217e-202e-4635-af9b-c2c7c7b5ec4a_jokebot_responder_871c6da6-09e6-424c-9441-115b568af3bd', 'source': 'user_093c217e-202e-4635-af9b-c2c7c7b5ec4a', 'target': 'jokebot_responder_871c6da6-09e6-424c-9441-115b568af3bd', 'curvature': 0.2, 'rotation': 3.141592653589793}]}\n",
      "{'jokebot_responder_5344c93e-b2b0-4802-ae17-dc89e72722ac': <InboxAgent.InboxAgent object at 0x0000012F9F26A130>, 'jokebot_responder_871c6da6-09e6-424c-9441-115b568af3bd': <InboxAgent.InboxAgent object at 0x0000012F9F26A1C0>, 'user_093c217e-202e-4635-af9b-c2c7c7b5ec4a': <UserProxyAgent.UserProxyAgent object at 0x0000012F9F26A220>}\n",
      "{'jokebot_responder_5344c93e-b2b0-4802-ae17-dc89e72722ac': <InboxAgent.InboxAgent object at 0x0000012F9F26A130>, 'jokebot_responder_871c6da6-09e6-424c-9441-115b568af3bd': <InboxAgent.InboxAgent object at 0x0000012F9F26A1C0>, 'user_093c217e-202e-4635-af9b-c2c7c7b5ec4a': <UserProxyAgent.UserProxyAgent object at 0x0000012F9F26A220>}\n",
      "{'jokebot_responder_5344c93e-b2b0-4802-ae17-dc89e72722ac': <InboxAgent.InboxAgent object at 0x0000012F9F26A130>, 'jokebot_responder_871c6da6-09e6-424c-9441-115b568af3bd': <InboxAgent.InboxAgent object at 0x0000012F9F26A1C0>, 'user_093c217e-202e-4635-af9b-c2c7c7b5ec4a': <UserProxyAgent.UserProxyAgent object at 0x0000012F9F26A220>}\n",
      "{'jokebot_responder_5344c93e-b2b0-4802-ae17-dc89e72722ac': <InboxAgent.InboxAgent object at 0x0000012F9F26A130>, 'jokebot_responder_871c6da6-09e6-424c-9441-115b568af3bd': <InboxAgent.InboxAgent object at 0x0000012F9F26A1C0>, 'user_093c217e-202e-4635-af9b-c2c7c7b5ec4a': <UserProxyAgent.UserProxyAgent object at 0x0000012F9F26A220>}\n",
      "{'jokebot_responder_5344c93e-b2b0-4802-ae17-dc89e72722ac': <InboxAgent.InboxAgent object at 0x0000012F9F26A130>, 'jokebot_responder_871c6da6-09e6-424c-9441-115b568af3bd': <InboxAgent.InboxAgent object at 0x0000012F9F26A1C0>, 'user_093c217e-202e-4635-af9b-c2c7c7b5ec4a': <UserProxyAgent.UserProxyAgent object at 0x0000012F9F26A220>}\n",
      "{'jokebot_responder_5344c93e-b2b0-4802-ae17-dc89e72722ac': <InboxAgent.InboxAgent object at 0x0000012F9F26A130>, 'jokebot_responder_871c6da6-09e6-424c-9441-115b568af3bd': <InboxAgent.InboxAgent object at 0x0000012F9F26A1C0>, 'user_093c217e-202e-4635-af9b-c2c7c7b5ec4a': <UserProxyAgent.UserProxyAgent object at 0x0000012F9F26A220>}\n",
      "{'jokebot_responder_5344c93e-b2b0-4802-ae17-dc89e72722ac': <InboxAgent.InboxAgent object at 0x0000012F9F26A130>, 'jokebot_responder_871c6da6-09e6-424c-9441-115b568af3bd': <InboxAgent.InboxAgent object at 0x0000012F9F26A1C0>, 'user_093c217e-202e-4635-af9b-c2c7c7b5ec4a': <UserProxyAgent.UserProxyAgent object at 0x0000012F9F26A220>}\n",
      "{'jokebot_responder_5344c93e-b2b0-4802-ae17-dc89e72722ac': <InboxAgent.InboxAgent object at 0x0000012F9F26A130>, 'jokebot_responder_871c6da6-09e6-424c-9441-115b568af3bd': <InboxAgent.InboxAgent object at 0x0000012F9F26A1C0>, 'user_093c217e-202e-4635-af9b-c2c7c7b5ec4a': <UserProxyAgent.UserProxyAgent object at 0x0000012F9F26A220>}\n",
      "{'jokebot_responder_5344c93e-b2b0-4802-ae17-dc89e72722ac': <InboxAgent.InboxAgent object at 0x0000012F9F26A130>, 'jokebot_responder_871c6da6-09e6-424c-9441-115b568af3bd': <InboxAgent.InboxAgent object at 0x0000012F9F26A1C0>, 'user_093c217e-202e-4635-af9b-c2c7c7b5ec4a': <UserProxyAgent.UserProxyAgent object at 0x0000012F9F26A220>}\n",
      "{'jokebot_responder_5344c93e-b2b0-4802-ae17-dc89e72722ac': <InboxAgent.InboxAgent object at 0x0000012F9F26A130>, 'jokebot_responder_871c6da6-09e6-424c-9441-115b568af3bd': <InboxAgent.InboxAgent object at 0x0000012F9F26A1C0>, 'user_093c217e-202e-4635-af9b-c2c7c7b5ec4a': <UserProxyAgent.UserProxyAgent object at 0x0000012F9F26A220>}\n",
      "{'jokebot_responder_5344c93e-b2b0-4802-ae17-dc89e72722ac': <InboxAgent.InboxAgent object at 0x0000012F9F26A130>, 'jokebot_responder_871c6da6-09e6-424c-9441-115b568af3bd': <InboxAgent.InboxAgent object at 0x0000012F9F26A1C0>, 'user_093c217e-202e-4635-af9b-c2c7c7b5ec4a': <UserProxyAgent.UserProxyAgent object at 0x0000012F9F26A220>}\n",
      "{'jokebot_responder_5344c93e-b2b0-4802-ae17-dc89e72722ac': <InboxAgent.InboxAgent object at 0x0000012F9F26A130>, 'jokebot_responder_871c6da6-09e6-424c-9441-115b568af3bd': <InboxAgent.InboxAgent object at 0x0000012F9F26A1C0>, 'user_093c217e-202e-4635-af9b-c2c7c7b5ec4a': <UserProxyAgent.UserProxyAgent object at 0x0000012F9F26A220>}\n",
      "{'jokebot_responder_5344c93e-b2b0-4802-ae17-dc89e72722ac': <InboxAgent.InboxAgent object at 0x0000012F9F26A130>, 'jokebot_responder_871c6da6-09e6-424c-9441-115b568af3bd': <InboxAgent.InboxAgent object at 0x0000012F9F26A1C0>, 'user_093c217e-202e-4635-af9b-c2c7c7b5ec4a': <UserProxyAgent.UserProxyAgent object at 0x0000012F9F26A220>}\n",
      "{'jokebot_responder_5344c93e-b2b0-4802-ae17-dc89e72722ac': <InboxAgent.InboxAgent object at 0x0000012F9F26A130>, 'jokebot_responder_871c6da6-09e6-424c-9441-115b568af3bd': <InboxAgent.InboxAgent object at 0x0000012F9F26A1C0>, 'user_093c217e-202e-4635-af9b-c2c7c7b5ec4a': <UserProxyAgent.UserProxyAgent object at 0x0000012F9F26A220>}\n",
      "{'jokebot_responder_5344c93e-b2b0-4802-ae17-dc89e72722ac': <InboxAgent.InboxAgent object at 0x0000012F9F26A130>, 'jokebot_responder_871c6da6-09e6-424c-9441-115b568af3bd': <InboxAgent.InboxAgent object at 0x0000012F9F26A1C0>, 'user_093c217e-202e-4635-af9b-c2c7c7b5ec4a': <UserProxyAgent.UserProxyAgent object at 0x0000012F9F26A220>}\n",
      "{'jokebot_responder_5344c93e-b2b0-4802-ae17-dc89e72722ac': <InboxAgent.InboxAgent object at 0x0000012F9F26A130>, 'jokebot_responder_871c6da6-09e6-424c-9441-115b568af3bd': <InboxAgent.InboxAgent object at 0x0000012F9F26A1C0>, 'user_093c217e-202e-4635-af9b-c2c7c7b5ec4a': <UserProxyAgent.UserProxyAgent object at 0x0000012F9F26A220>}\n",
      "{'jokebot_responder_5344c93e-b2b0-4802-ae17-dc89e72722ac': <InboxAgent.InboxAgent object at 0x0000012F9F26A130>, 'jokebot_responder_871c6da6-09e6-424c-9441-115b568af3bd': <InboxAgent.InboxAgent object at 0x0000012F9F26A1C0>, 'user_093c217e-202e-4635-af9b-c2c7c7b5ec4a': <UserProxyAgent.UserProxyAgent object at 0x0000012F9F26A220>}\n",
      "{'source': 'jokebot_responder_5344c93e-b2b0-4802-ae17-dc89e72722ac', 'target': 'user_093c217e-202e-4635-af9b-c2c7c7b5ec4a'}\n",
      "{'jokebot_responder_5344c93e-b2b0-4802-ae17-dc89e72722ac': <InboxAgent.InboxAgent object at 0x0000012F9F26A130>, 'jokebot_responder_871c6da6-09e6-424c-9441-115b568af3bd': <InboxAgent.InboxAgent object at 0x0000012F9F26A1C0>, 'user_093c217e-202e-4635-af9b-c2c7c7b5ec4a': <UserProxyAgent.UserProxyAgent object at 0x0000012F9F26A220>}\n",
      "{'jokebot_responder_5344c93e-b2b0-4802-ae17-dc89e72722ac': <InboxAgent.InboxAgent object at 0x0000012F9F26A130>, 'jokebot_responder_871c6da6-09e6-424c-9441-115b568af3bd': <InboxAgent.InboxAgent object at 0x0000012F9F26A1C0>, 'user_093c217e-202e-4635-af9b-c2c7c7b5ec4a': <UserProxyAgent.UserProxyAgent object at 0x0000012F9F26A220>}\n",
      "{'jokebot_responder_5344c93e-b2b0-4802-ae17-dc89e72722ac': <InboxAgent.InboxAgent object at 0x0000012F9F26A130>, 'jokebot_responder_871c6da6-09e6-424c-9441-115b568af3bd': <InboxAgent.InboxAgent object at 0x0000012F9F26A1C0>, 'user_093c217e-202e-4635-af9b-c2c7c7b5ec4a': <UserProxyAgent.UserProxyAgent object at 0x0000012F9F26A220>}\n"
     ]
    },
    {
     "name": "stderr",
     "output_type": "stream",
     "text": [
      "127.0.0.1 - - [10/Jan/2024 21:54:32] \"GET /socket.io/?EIO=4&transport=websocket&sid=ehKilaoEaglR8nf3AAAi HTTP/1.1\" 200 -\n"
     ]
    },
    {
     "name": "stdout",
     "output_type": "stream",
     "text": [
      "Client disconnected\n"
     ]
    },
    {
     "name": "stderr",
     "output_type": "stream",
     "text": [
      "127.0.0.1 - - [10/Jan/2024 21:54:32] \"GET /socket.io/?EIO=4&transport=polling&t=OpsSLSM HTTP/1.1\" 200 -\n",
      "127.0.0.1 - - [10/Jan/2024 21:54:32] \"GET /socket.io/?EIO=4&transport=polling&t=OpsSLSX HTTP/1.1\" 200 -\n",
      "127.0.0.1 - - [10/Jan/2024 21:54:32] \"POST /socket.io/?EIO=4&transport=polling&t=OpsSLXb&sid=TkZpEgUHjCdL0C8lAAAl HTTP/1.1\" 200 -\n",
      "127.0.0.1 - - [10/Jan/2024 21:54:32] \"GET /socket.io/?EIO=4&transport=polling&t=OpsSLXe&sid=TkZpEgUHjCdL0C8lAAAl HTTP/1.1\" 200 -\n"
     ]
    },
    {
     "name": "stdout",
     "output_type": "stream",
     "text": [
      "Client connected\n",
      "{'nodes': [{'id': 'jokebot_responder_5344c93e-b2b0-4802-ae17-dc89e72722ac', 'label': 'jokebot_responder_5344c93e-b2b0-4802-ae17-dc89e72722ac', 'type': 'jokebot_responder', 'running': False, 'status': 'Stopped'}, {'id': 'jokebot_responder_871c6da6-09e6-424c-9441-115b568af3bd', 'label': 'jokebot_responder_871c6da6-09e6-424c-9441-115b568af3bd', 'type': 'jokebot_responder', 'running': False, 'status': 'Stopped'}, {'id': 'user_093c217e-202e-4635-af9b-c2c7c7b5ec4a', 'label': 'user_093c217e-202e-4635-af9b-c2c7c7b5ec4a', 'type': 'user', 'running': True, 'status': 'Running'}], 'links': [{'id': 'jokebot_responder_5344c93e-b2b0-4802-ae17-dc89e72722ac_jokebot_responder_871c6da6-09e6-424c-9441-115b568af3bd', 'source': 'jokebot_responder_5344c93e-b2b0-4802-ae17-dc89e72722ac', 'target': 'jokebot_responder_871c6da6-09e6-424c-9441-115b568af3bd', 'curvature': 0.2, 'rotation': 3.141592653589793}, {'id': 'jokebot_responder_871c6da6-09e6-424c-9441-115b568af3bd_user_093c217e-202e-4635-af9b-c2c7c7b5ec4a', 'source': 'jokebot_responder_871c6da6-09e6-424c-9441-115b568af3bd', 'target': 'user_093c217e-202e-4635-af9b-c2c7c7b5ec4a', 'curvature': 0.2, 'rotation': 3.141592653589793}, {'id': 'jokebot_responder_871c6da6-09e6-424c-9441-115b568af3bd_jokebot_responder_5344c93e-b2b0-4802-ae17-dc89e72722ac', 'source': 'jokebot_responder_871c6da6-09e6-424c-9441-115b568af3bd', 'target': 'jokebot_responder_5344c93e-b2b0-4802-ae17-dc89e72722ac', 'curvature': 0.2, 'rotation': 3.141592653589793}, {'id': 'user_093c217e-202e-4635-af9b-c2c7c7b5ec4a_jokebot_responder_871c6da6-09e6-424c-9441-115b568af3bd', 'source': 'user_093c217e-202e-4635-af9b-c2c7c7b5ec4a', 'target': 'jokebot_responder_871c6da6-09e6-424c-9441-115b568af3bd', 'curvature': 0.2, 'rotation': 3.141592653589793}]}\n"
     ]
    },
    {
     "name": "stderr",
     "output_type": "stream",
     "text": [
      "127.0.0.1 - - [10/Jan/2024 22:00:29] \"GET /socket.io/?EIO=4&transport=websocket&sid=TkZpEgUHjCdL0C8lAAAl HTTP/1.1\" 200 -\n"
     ]
    },
    {
     "name": "stdout",
     "output_type": "stream",
     "text": [
      "Client disconnected\n"
     ]
    },
    {
     "name": "stderr",
     "output_type": "stream",
     "text": [
      "127.0.0.1 - - [10/Jan/2024 22:00:29] \"GET /socket.io/?EIO=4&transport=polling&t=OpsTiiR HTTP/1.1\" 200 -\n",
      "127.0.0.1 - - [10/Jan/2024 22:00:30] \"POST /socket.io/?EIO=4&transport=polling&t=OpsTinZ&sid=eENoP2tfGzD3B8vkAAAn HTTP/1.1\" 200 -\n",
      "127.0.0.1 - - [10/Jan/2024 22:00:30] \"GET /socket.io/?EIO=4&transport=polling&t=OpsTina&sid=eENoP2tfGzD3B8vkAAAn HTTP/1.1\" 200 -\n"
     ]
    },
    {
     "name": "stdout",
     "output_type": "stream",
     "text": [
      "Client connected\n",
      "{'nodes': [{'id': 'jokebot_responder_5344c93e-b2b0-4802-ae17-dc89e72722ac', 'label': 'jokebot_responder_5344c93e-b2b0-4802-ae17-dc89e72722ac', 'type': 'jokebot_responder', 'running': False, 'status': 'Stopped'}, {'id': 'jokebot_responder_871c6da6-09e6-424c-9441-115b568af3bd', 'label': 'jokebot_responder_871c6da6-09e6-424c-9441-115b568af3bd', 'type': 'jokebot_responder', 'running': False, 'status': 'Stopped'}, {'id': 'user_093c217e-202e-4635-af9b-c2c7c7b5ec4a', 'label': 'user_093c217e-202e-4635-af9b-c2c7c7b5ec4a', 'type': 'user', 'running': True, 'status': 'Running'}], 'links': [{'id': 'jokebot_responder_5344c93e-b2b0-4802-ae17-dc89e72722ac_jokebot_responder_871c6da6-09e6-424c-9441-115b568af3bd', 'source': 'jokebot_responder_5344c93e-b2b0-4802-ae17-dc89e72722ac', 'target': 'jokebot_responder_871c6da6-09e6-424c-9441-115b568af3bd', 'curvature': 0.2, 'rotation': 3.141592653589793}, {'id': 'jokebot_responder_871c6da6-09e6-424c-9441-115b568af3bd_user_093c217e-202e-4635-af9b-c2c7c7b5ec4a', 'source': 'jokebot_responder_871c6da6-09e6-424c-9441-115b568af3bd', 'target': 'user_093c217e-202e-4635-af9b-c2c7c7b5ec4a', 'curvature': 0.2, 'rotation': 3.141592653589793}, {'id': 'jokebot_responder_871c6da6-09e6-424c-9441-115b568af3bd_jokebot_responder_5344c93e-b2b0-4802-ae17-dc89e72722ac', 'source': 'jokebot_responder_871c6da6-09e6-424c-9441-115b568af3bd', 'target': 'jokebot_responder_5344c93e-b2b0-4802-ae17-dc89e72722ac', 'curvature': 0.2, 'rotation': 3.141592653589793}, {'id': 'user_093c217e-202e-4635-af9b-c2c7c7b5ec4a_jokebot_responder_871c6da6-09e6-424c-9441-115b568af3bd', 'source': 'user_093c217e-202e-4635-af9b-c2c7c7b5ec4a', 'target': 'jokebot_responder_871c6da6-09e6-424c-9441-115b568af3bd', 'curvature': 0.2, 'rotation': 3.141592653589793}]}\n"
     ]
    }
   ],
   "source": [
    "# network_server = NetworkServer(agent_network)\n",
    "# network_server.run(use_reloader=False)\n",
    "\n",
    "loop = asyncio.get_event_loop()\n",
    "network_server = NetworkServer(agent_network, event_loop=loop)\n",
    "flask_thread = Thread(target=network_server.run, kwargs={'use_reloader': False, 'allow_unsafe_werkzeug': True})\n",
    "flask_thread.start()\n"
   ]
  },
  {
   "cell_type": "code",
   "execution_count": 17,
   "metadata": {},
   "outputs": [],
   "source": [
    "# loop = asyncio.get_event_loop()\n",
    "# loop.run_until_complete(agent.run())\n",
    "\n",
    "# agent1_run = asyncio.create_task(agent1.run())\n",
    "# agent2_run = asyncio.create_task(agent2.run())\n",
    "# agent3_run = asyncio.create_task(agent3.run())\n",
    "\n",
    "agent1.start()\n",
    "agent2.start()\n",
    "agent3.start()"
   ]
  },
  {
   "cell_type": "code",
   "execution_count": null,
   "metadata": {},
   "outputs": [
    {
     "name": "stderr",
     "output_type": "stream",
     "text": [
      "127.0.0.1 - - [09/Jan/2024 15:49:38] \"GET /socket.io/?EIO=4&transport=websocket&sid=I5NoeTI7qslkDtm2AAAD HTTP/1.1\" 200 -\n"
     ]
    },
    {
     "name": "stdout",
     "output_type": "stream",
     "text": [
      "Client disconnected\n"
     ]
    },
    {
     "name": "stderr",
     "output_type": "stream",
     "text": [
      "127.0.0.1 - - [09/Jan/2024 15:49:39] \"GET /socket.io/?EIO=4&transport=polling&t=Opl_Eby HTTP/1.1\" 200 -\n",
      "127.0.0.1 - - [09/Jan/2024 15:49:39] \"POST /socket.io/?EIO=4&transport=polling&t=Opl_Eh2&sid=qLi9Zr06UouvBposAAAF HTTP/1.1\" 200 -\n",
      "127.0.0.1 - - [09/Jan/2024 15:49:39] \"GET /socket.io/?EIO=4&transport=polling&t=Opl_Eh3&sid=qLi9Zr06UouvBposAAAF HTTP/1.1\" 200 -\n"
     ]
    },
    {
     "name": "stdout",
     "output_type": "stream",
     "text": [
      "Client connected\n",
      "{'nodes': [{'id': 'jokebot_teller_7c7aab7f-d4c1-46df-b318-1d64459b5360', 'label': 'jokebot_teller_7c7aab7f-d4c1-46df-b318-1d64459b5360', 'type': 'jokebot_teller', 'status': False}, {'id': 'jokebot_responder_10969fc8-e693-4384-a685-fe1711734594', 'label': 'jokebot_responder_10969fc8-e693-4384-a685-fe1711734594', 'type': 'jokebot_responder', 'status': False}, {'id': 'jokebot_responder_9e763d18-baa9-4309-91e5-c32bca6d82bf', 'label': 'jokebot_responder_9e763d18-baa9-4309-91e5-c32bca6d82bf', 'type': 'jokebot_responder', 'status': False}, {'id': 'user_da6ae2ea-ced2-4008-975b-93fa4a386269', 'label': 'user_da6ae2ea-ced2-4008-975b-93fa4a386269', 'type': 'user', 'status': True}], 'links': [{'id': 'jokebot_teller_7c7aab7f-d4c1-46df-b318-1d64459b5360_jokebot_responder_10969fc8-e693-4384-a685-fe1711734594', 'source': 'jokebot_teller_7c7aab7f-d4c1-46df-b318-1d64459b5360', 'target': 'jokebot_responder_10969fc8-e693-4384-a685-fe1711734594', 'curvature': 0.2, 'rotation': 3.141592653589793}, {'id': 'jokebot_teller_7c7aab7f-d4c1-46df-b318-1d64459b5360_user_da6ae2ea-ced2-4008-975b-93fa4a386269', 'source': 'jokebot_teller_7c7aab7f-d4c1-46df-b318-1d64459b5360', 'target': 'user_da6ae2ea-ced2-4008-975b-93fa4a386269', 'curvature': 0.2, 'rotation': 3.141592653589793}, {'id': 'jokebot_teller_7c7aab7f-d4c1-46df-b318-1d64459b5360_jokebot_responder_9e763d18-baa9-4309-91e5-c32bca6d82bf', 'source': 'jokebot_teller_7c7aab7f-d4c1-46df-b318-1d64459b5360', 'target': 'jokebot_responder_9e763d18-baa9-4309-91e5-c32bca6d82bf', 'curvature': 0.2, 'rotation': 3.141592653589793}, {'id': 'jokebot_responder_10969fc8-e693-4384-a685-fe1711734594_jokebot_teller_7c7aab7f-d4c1-46df-b318-1d64459b5360', 'source': 'jokebot_responder_10969fc8-e693-4384-a685-fe1711734594', 'target': 'jokebot_teller_7c7aab7f-d4c1-46df-b318-1d64459b5360', 'curvature': 0.2, 'rotation': 3.141592653589793}, {'id': 'jokebot_responder_9e763d18-baa9-4309-91e5-c32bca6d82bf_jokebot_teller_7c7aab7f-d4c1-46df-b318-1d64459b5360', 'source': 'jokebot_responder_9e763d18-baa9-4309-91e5-c32bca6d82bf', 'target': 'jokebot_teller_7c7aab7f-d4c1-46df-b318-1d64459b5360', 'curvature': 0.2, 'rotation': 3.141592653589793}, {'id': 'user_da6ae2ea-ced2-4008-975b-93fa4a386269_jokebot_teller_7c7aab7f-d4c1-46df-b318-1d64459b5360', 'source': 'user_da6ae2ea-ced2-4008-975b-93fa4a386269', 'target': 'jokebot_teller_7c7aab7f-d4c1-46df-b318-1d64459b5360', 'curvature': 0.2, 'rotation': 3.141592653589793}]}\n"
     ]
    },
    {
     "name": "stderr",
     "output_type": "stream",
     "text": [
      "127.0.0.1 - - [09/Jan/2024 15:50:06] \"GET /socket.io/?EIO=4&transport=websocket&sid=qLi9Zr06UouvBposAAAF HTTP/1.1\" 200 -\n",
      "127.0.0.1 - - [09/Jan/2024 15:50:06] \"GET /socket.io/?EIO=4&transport=polling&t=Opl_LW3 HTTP/1.1\" 200 -\n"
     ]
    },
    {
     "name": "stdout",
     "output_type": "stream",
     "text": [
      "Client disconnected\n"
     ]
    },
    {
     "name": "stderr",
     "output_type": "stream",
     "text": [
      "127.0.0.1 - - [09/Jan/2024 15:50:07] \"POST /socket.io/?EIO=4&transport=polling&t=Opl_LWV&sid=MaVVubId23w0bpzqAAAH HTTP/1.1\" 200 -\n",
      "127.0.0.1 - - [09/Jan/2024 15:50:07] \"GET /socket.io/?EIO=4&transport=polling&t=Opl_LWY&sid=MaVVubId23w0bpzqAAAH HTTP/1.1\" 200 -\n"
     ]
    },
    {
     "name": "stdout",
     "output_type": "stream",
     "text": [
      "Client connected\n",
      "{'nodes': [{'id': 'jokebot_teller_7c7aab7f-d4c1-46df-b318-1d64459b5360', 'label': 'jokebot_teller_7c7aab7f-d4c1-46df-b318-1d64459b5360', 'type': 'jokebot_teller', 'status': False}, {'id': 'jokebot_responder_10969fc8-e693-4384-a685-fe1711734594', 'label': 'jokebot_responder_10969fc8-e693-4384-a685-fe1711734594', 'type': 'jokebot_responder', 'status': False}, {'id': 'jokebot_responder_9e763d18-baa9-4309-91e5-c32bca6d82bf', 'label': 'jokebot_responder_9e763d18-baa9-4309-91e5-c32bca6d82bf', 'type': 'jokebot_responder', 'status': False}, {'id': 'user_da6ae2ea-ced2-4008-975b-93fa4a386269', 'label': 'user_da6ae2ea-ced2-4008-975b-93fa4a386269', 'type': 'user', 'status': True}], 'links': [{'id': 'jokebot_teller_7c7aab7f-d4c1-46df-b318-1d64459b5360_jokebot_responder_10969fc8-e693-4384-a685-fe1711734594', 'source': 'jokebot_teller_7c7aab7f-d4c1-46df-b318-1d64459b5360', 'target': 'jokebot_responder_10969fc8-e693-4384-a685-fe1711734594', 'curvature': 0.2, 'rotation': 3.141592653589793}, {'id': 'jokebot_teller_7c7aab7f-d4c1-46df-b318-1d64459b5360_user_da6ae2ea-ced2-4008-975b-93fa4a386269', 'source': 'jokebot_teller_7c7aab7f-d4c1-46df-b318-1d64459b5360', 'target': 'user_da6ae2ea-ced2-4008-975b-93fa4a386269', 'curvature': 0.2, 'rotation': 3.141592653589793}, {'id': 'jokebot_teller_7c7aab7f-d4c1-46df-b318-1d64459b5360_jokebot_responder_9e763d18-baa9-4309-91e5-c32bca6d82bf', 'source': 'jokebot_teller_7c7aab7f-d4c1-46df-b318-1d64459b5360', 'target': 'jokebot_responder_9e763d18-baa9-4309-91e5-c32bca6d82bf', 'curvature': 0.2, 'rotation': 3.141592653589793}, {'id': 'jokebot_responder_10969fc8-e693-4384-a685-fe1711734594_jokebot_teller_7c7aab7f-d4c1-46df-b318-1d64459b5360', 'source': 'jokebot_responder_10969fc8-e693-4384-a685-fe1711734594', 'target': 'jokebot_teller_7c7aab7f-d4c1-46df-b318-1d64459b5360', 'curvature': 0.2, 'rotation': 3.141592653589793}, {'id': 'jokebot_responder_9e763d18-baa9-4309-91e5-c32bca6d82bf_jokebot_teller_7c7aab7f-d4c1-46df-b318-1d64459b5360', 'source': 'jokebot_responder_9e763d18-baa9-4309-91e5-c32bca6d82bf', 'target': 'jokebot_teller_7c7aab7f-d4c1-46df-b318-1d64459b5360', 'curvature': 0.2, 'rotation': 3.141592653589793}, {'id': 'user_da6ae2ea-ced2-4008-975b-93fa4a386269_jokebot_teller_7c7aab7f-d4c1-46df-b318-1d64459b5360', 'source': 'user_da6ae2ea-ced2-4008-975b-93fa4a386269', 'target': 'jokebot_teller_7c7aab7f-d4c1-46df-b318-1d64459b5360', 'curvature': 0.2, 'rotation': 3.141592653589793}]}\n",
      "{'jokebot_teller_7c7aab7f-d4c1-46df-b318-1d64459b5360': <InboxAgent.InboxAgent object at 0x000001E29B65ABB0>, 'jokebot_responder_10969fc8-e693-4384-a685-fe1711734594': <InboxAgent.InboxAgent object at 0x000001E29B65AB50>, 'jokebot_responder_9e763d18-baa9-4309-91e5-c32bca6d82bf': <InboxAgent.InboxAgent object at 0x000001E29B65ABE0>, 'user_da6ae2ea-ced2-4008-975b-93fa4a386269': <UserProxyAgent.UserProxyAgent object at 0x000001E29B65AC40>}{'jokebot_teller_7c7aab7f-d4c1-46df-b318-1d64459b5360': <InboxAgent.InboxAgent object at 0x000001E29B65ABB0>, 'jokebot_responder_10969fc8-e693-4384-a685-fe1711734594': <InboxAgent.InboxAgent object at 0x000001E29B65AB50>, 'jokebot_responder_9e763d18-baa9-4309-91e5-c32bca6d82bf': <InboxAgent.InboxAgent object at 0x000001E29B65ABE0>, 'user_da6ae2ea-ced2-4008-975b-93fa4a386269': <UserProxyAgent.UserProxyAgent object at 0x000001E29B65AC40>}\n",
      "\n",
      "{'jokebot_teller_7c7aab7f-d4c1-46df-b318-1d64459b5360': <InboxAgent.InboxAgent object at 0x000001E29B65ABB0>, 'jokebot_responder_10969fc8-e693-4384-a685-fe1711734594': <InboxAgent.InboxAgent object at 0x000001E29B65AB50>, 'jokebot_responder_9e763d18-baa9-4309-91e5-c32bca6d82bf': <InboxAgent.InboxAgent object at 0x000001E29B65ABE0>, 'user_da6ae2ea-ced2-4008-975b-93fa4a386269': <UserProxyAgent.UserProxyAgent object at 0x000001E29B65AC40>}\n"
     ]
    }
   ],
   "source": [
    "agent1.stop()\n",
    "agent2.stop()\n",
    "agent3.stop()"
   ]
  },
  {
   "cell_type": "code",
   "execution_count": 9,
   "metadata": {},
   "outputs": [
    {
     "name": "stdout",
     "output_type": "stream",
     "text": [
      "{'jokebot_teller_7c7aab7f-d4c1-46df-b318-1d64459b5360': <InboxAgent.InboxAgent object at 0x000001E29B65ABB0>, 'jokebot_responder_10969fc8-e693-4384-a685-fe1711734594': <InboxAgent.InboxAgent object at 0x000001E29B65AB50>, 'jokebot_responder_9e763d18-baa9-4309-91e5-c32bca6d82bf': <InboxAgent.InboxAgent object at 0x000001E29B65ABE0>, 'user_da6ae2ea-ced2-4008-975b-93fa4a386269': <UserProxyAgent.UserProxyAgent object at 0x000001E29B65AC40>}\n",
      "{'jokebot_teller_7c7aab7f-d4c1-46df-b318-1d64459b5360': <InboxAgent.InboxAgent object at 0x000001E29B65ABB0>, 'jokebot_responder_10969fc8-e693-4384-a685-fe1711734594': <InboxAgent.InboxAgent object at 0x000001E29B65AB50>, 'jokebot_responder_9e763d18-baa9-4309-91e5-c32bca6d82bf': <InboxAgent.InboxAgent object at 0x000001E29B65ABE0>, 'user_da6ae2ea-ced2-4008-975b-93fa4a386269': <UserProxyAgent.UserProxyAgent object at 0x000001E29B65AC40>}\n",
      "{'jokebot_teller_7c7aab7f-d4c1-46df-b318-1d64459b5360': <InboxAgent.InboxAgent object at 0x000001E29B65ABB0>, 'jokebot_responder_10969fc8-e693-4384-a685-fe1711734594': <InboxAgent.InboxAgent object at 0x000001E29B65AB50>, 'jokebot_responder_9e763d18-baa9-4309-91e5-c32bca6d82bf': <InboxAgent.InboxAgent object at 0x000001E29B65ABE0>, 'user_da6ae2ea-ced2-4008-975b-93fa4a386269': <UserProxyAgent.UserProxyAgent object at 0x000001E29B65AC40>}\n"
     ]
    }
   ],
   "source": [
    "agent1.add_error(\"test error1\")"
   ]
  },
  {
   "cell_type": "code",
   "execution_count": 7,
   "metadata": {},
   "outputs": [],
   "source": [
    "agent2.add_message(\"tell all of your connections a joke!\", user1.get_description_json()['name_uuid'])\n",
    "agent3.add_message(\"tell all of your connections a joke!\", user1.get_description_json()['name_uuid'])\n",
    "\n",
    "\n",
    "# user1.send_message(\"tell all of your connections (including me) a joke! tell a max of 2 jokes to each person\", agent1.get_description_json()['name_uuid'])"
   ]
  },
  {
   "cell_type": "code",
   "execution_count": null,
   "metadata": {},
   "outputs": [
    {
     "name": "stderr",
     "output_type": "stream",
     "text": [
      "127.0.0.1 - - [09/Jan/2024 13:19:00] \"GET /socket.io/?EIO=4&transport=websocket&sid=5v-qN2K43UuYZzTHAAAu HTTP/1.1\" 200 -\n"
     ]
    },
    {
     "name": "stdout",
     "output_type": "stream",
     "text": [
      "Client disconnected\n"
     ]
    },
    {
     "name": "stderr",
     "output_type": "stream",
     "text": [
      "127.0.0.1 - - [09/Jan/2024 13:19:00] \"GET /socket.io/?EIO=4&transport=polling&t=OplSlud HTTP/1.1\" 200 -\n",
      "127.0.0.1 - - [09/Jan/2024 13:19:00] \"POST /socket.io/?EIO=4&transport=polling&t=OplSlzq&sid=051MvmG8XGNkAVzwAAAw HTTP/1.1\" 200 -\n",
      "127.0.0.1 - - [09/Jan/2024 13:19:00] \"GET /socket.io/?EIO=4&transport=polling&t=OplSlzs&sid=051MvmG8XGNkAVzwAAAw HTTP/1.1\" 200 -\n"
     ]
    },
    {
     "name": "stdout",
     "output_type": "stream",
     "text": [
      "Client connected\n",
      "{'nodes': [{'id': 'jokebot_teller_70a5b109-e3d5-41d4-a6b6-543cbe0dfed4', 'label': 'jokebot_teller_70a5b109-e3d5-41d4-a6b6-543cbe0dfed4', 'type': 'jokebot_teller', 'status': False}, {'id': 'jokebot_responder_a64bb4a5-1531-493e-87fd-110896e12219', 'label': 'jokebot_responder_a64bb4a5-1531-493e-87fd-110896e12219', 'type': 'jokebot_responder', 'status': False}, {'id': 'jokebot_responder_08a8d7d9-5bae-4a66-9537-1e26e685fbe5', 'label': 'jokebot_responder_08a8d7d9-5bae-4a66-9537-1e26e685fbe5', 'type': 'jokebot_responder', 'status': False}, {'id': 'user_8d173ce0-2d6f-46d1-9e86-bd11c20b4128', 'label': 'user_8d173ce0-2d6f-46d1-9e86-bd11c20b4128', 'type': 'user', 'status': True}], 'links': [{'id': 'jokebot_teller_70a5b109-e3d5-41d4-a6b6-543cbe0dfed4_jokebot_responder_a64bb4a5-1531-493e-87fd-110896e12219', 'source': 'jokebot_teller_70a5b109-e3d5-41d4-a6b6-543cbe0dfed4', 'target': 'jokebot_responder_a64bb4a5-1531-493e-87fd-110896e12219', 'curvature': 0.2, 'rotation': 3.141592653589793}, {'id': 'jokebot_teller_70a5b109-e3d5-41d4-a6b6-543cbe0dfed4_user_8d173ce0-2d6f-46d1-9e86-bd11c20b4128', 'source': 'jokebot_teller_70a5b109-e3d5-41d4-a6b6-543cbe0dfed4', 'target': 'user_8d173ce0-2d6f-46d1-9e86-bd11c20b4128', 'curvature': 0.2, 'rotation': 3.141592653589793}, {'id': 'jokebot_teller_70a5b109-e3d5-41d4-a6b6-543cbe0dfed4_jokebot_responder_08a8d7d9-5bae-4a66-9537-1e26e685fbe5', 'source': 'jokebot_teller_70a5b109-e3d5-41d4-a6b6-543cbe0dfed4', 'target': 'jokebot_responder_08a8d7d9-5bae-4a66-9537-1e26e685fbe5', 'curvature': 0.2, 'rotation': 3.141592653589793}, {'id': 'jokebot_responder_a64bb4a5-1531-493e-87fd-110896e12219_jokebot_teller_70a5b109-e3d5-41d4-a6b6-543cbe0dfed4', 'source': 'jokebot_responder_a64bb4a5-1531-493e-87fd-110896e12219', 'target': 'jokebot_teller_70a5b109-e3d5-41d4-a6b6-543cbe0dfed4', 'curvature': 0.2, 'rotation': 3.141592653589793}, {'id': 'jokebot_responder_08a8d7d9-5bae-4a66-9537-1e26e685fbe5_jokebot_teller_70a5b109-e3d5-41d4-a6b6-543cbe0dfed4', 'source': 'jokebot_responder_08a8d7d9-5bae-4a66-9537-1e26e685fbe5', 'target': 'jokebot_teller_70a5b109-e3d5-41d4-a6b6-543cbe0dfed4', 'curvature': 0.2, 'rotation': 3.141592653589793}, {'id': 'user_8d173ce0-2d6f-46d1-9e86-bd11c20b4128_jokebot_teller_70a5b109-e3d5-41d4-a6b6-543cbe0dfed4', 'source': 'user_8d173ce0-2d6f-46d1-9e86-bd11c20b4128', 'target': 'jokebot_teller_70a5b109-e3d5-41d4-a6b6-543cbe0dfed4', 'curvature': 0.2, 'rotation': 3.141592653589793}]}\n"
     ]
    },
    {
     "name": "stderr",
     "output_type": "stream",
     "text": [
      "127.0.0.1 - - [09/Jan/2024 13:19:05] \"GET /socket.io/?EIO=4&transport=websocket&sid=051MvmG8XGNkAVzwAAAw HTTP/1.1\" 200 -\n",
      "127.0.0.1 - - [09/Jan/2024 13:19:05] \"GET /socket.io/?EIO=4&transport=polling&t=OplSnKq HTTP/1.1\" 200 -\n"
     ]
    },
    {
     "name": "stdout",
     "output_type": "stream",
     "text": [
      "Client disconnected\n"
     ]
    },
    {
     "name": "stderr",
     "output_type": "stream",
     "text": [
      "127.0.0.1 - - [09/Jan/2024 13:19:06] \"POST /socket.io/?EIO=4&transport=polling&t=OplSnLQ&sid=W8iTL74S_-tyTFnmAAAy HTTP/1.1\" 200 -\n",
      "127.0.0.1 - - [09/Jan/2024 13:19:06] \"GET /socket.io/?EIO=4&transport=polling&t=OplSnLS&sid=W8iTL74S_-tyTFnmAAAy HTTP/1.1\" 200 -\n"
     ]
    },
    {
     "name": "stdout",
     "output_type": "stream",
     "text": [
      "Client connected\n",
      "{'nodes': [{'id': 'jokebot_teller_70a5b109-e3d5-41d4-a6b6-543cbe0dfed4', 'label': 'jokebot_teller_70a5b109-e3d5-41d4-a6b6-543cbe0dfed4', 'type': 'jokebot_teller', 'status': False}, {'id': 'jokebot_responder_a64bb4a5-1531-493e-87fd-110896e12219', 'label': 'jokebot_responder_a64bb4a5-1531-493e-87fd-110896e12219', 'type': 'jokebot_responder', 'status': False}, {'id': 'jokebot_responder_08a8d7d9-5bae-4a66-9537-1e26e685fbe5', 'label': 'jokebot_responder_08a8d7d9-5bae-4a66-9537-1e26e685fbe5', 'type': 'jokebot_responder', 'status': False}, {'id': 'user_8d173ce0-2d6f-46d1-9e86-bd11c20b4128', 'label': 'user_8d173ce0-2d6f-46d1-9e86-bd11c20b4128', 'type': 'user', 'status': True}], 'links': [{'id': 'jokebot_teller_70a5b109-e3d5-41d4-a6b6-543cbe0dfed4_jokebot_responder_a64bb4a5-1531-493e-87fd-110896e12219', 'source': 'jokebot_teller_70a5b109-e3d5-41d4-a6b6-543cbe0dfed4', 'target': 'jokebot_responder_a64bb4a5-1531-493e-87fd-110896e12219', 'curvature': 0.2, 'rotation': 3.141592653589793}, {'id': 'jokebot_teller_70a5b109-e3d5-41d4-a6b6-543cbe0dfed4_user_8d173ce0-2d6f-46d1-9e86-bd11c20b4128', 'source': 'jokebot_teller_70a5b109-e3d5-41d4-a6b6-543cbe0dfed4', 'target': 'user_8d173ce0-2d6f-46d1-9e86-bd11c20b4128', 'curvature': 0.2, 'rotation': 3.141592653589793}, {'id': 'jokebot_teller_70a5b109-e3d5-41d4-a6b6-543cbe0dfed4_jokebot_responder_08a8d7d9-5bae-4a66-9537-1e26e685fbe5', 'source': 'jokebot_teller_70a5b109-e3d5-41d4-a6b6-543cbe0dfed4', 'target': 'jokebot_responder_08a8d7d9-5bae-4a66-9537-1e26e685fbe5', 'curvature': 0.2, 'rotation': 3.141592653589793}, {'id': 'jokebot_responder_a64bb4a5-1531-493e-87fd-110896e12219_jokebot_teller_70a5b109-e3d5-41d4-a6b6-543cbe0dfed4', 'source': 'jokebot_responder_a64bb4a5-1531-493e-87fd-110896e12219', 'target': 'jokebot_teller_70a5b109-e3d5-41d4-a6b6-543cbe0dfed4', 'curvature': 0.2, 'rotation': 3.141592653589793}, {'id': 'jokebot_responder_08a8d7d9-5bae-4a66-9537-1e26e685fbe5_jokebot_teller_70a5b109-e3d5-41d4-a6b6-543cbe0dfed4', 'source': 'jokebot_responder_08a8d7d9-5bae-4a66-9537-1e26e685fbe5', 'target': 'jokebot_teller_70a5b109-e3d5-41d4-a6b6-543cbe0dfed4', 'curvature': 0.2, 'rotation': 3.141592653589793}, {'id': 'user_8d173ce0-2d6f-46d1-9e86-bd11c20b4128_jokebot_teller_70a5b109-e3d5-41d4-a6b6-543cbe0dfed4', 'source': 'user_8d173ce0-2d6f-46d1-9e86-bd11c20b4128', 'target': 'jokebot_teller_70a5b109-e3d5-41d4-a6b6-543cbe0dfed4', 'curvature': 0.2, 'rotation': 3.141592653589793}]}\n",
      "{'jokebot_teller_70a5b109-e3d5-41d4-a6b6-543cbe0dfed4': <InboxAgent.InboxAgent object at 0x0000015C5D02A1F0>, 'jokebot_responder_a64bb4a5-1531-493e-87fd-110896e12219': <InboxAgent.InboxAgent object at 0x0000015C5D02A190>, 'jokebot_responder_08a8d7d9-5bae-4a66-9537-1e26e685fbe5': <InboxAgent.InboxAgent object at 0x0000015C5D02A220>, 'user_8d173ce0-2d6f-46d1-9e86-bd11c20b4128': <UserProxyAgent.UserProxyAgent object at 0x0000015C5D02A280>}\n",
      "{'jokebot_teller_70a5b109-e3d5-41d4-a6b6-543cbe0dfed4': <InboxAgent.InboxAgent object at 0x0000015C5D02A1F0>, 'jokebot_responder_a64bb4a5-1531-493e-87fd-110896e12219': <InboxAgent.InboxAgent object at 0x0000015C5D02A190>, 'jokebot_responder_08a8d7d9-5bae-4a66-9537-1e26e685fbe5': <InboxAgent.InboxAgent object at 0x0000015C5D02A220>, 'user_8d173ce0-2d6f-46d1-9e86-bd11c20b4128': <UserProxyAgent.UserProxyAgent object at 0x0000015C5D02A280>}\n",
      "{'jokebot_teller_70a5b109-e3d5-41d4-a6b6-543cbe0dfed4': <InboxAgent.InboxAgent object at 0x0000015C5D02A1F0>, 'jokebot_responder_a64bb4a5-1531-493e-87fd-110896e12219': <InboxAgent.InboxAgent object at 0x0000015C5D02A190>, 'jokebot_responder_08a8d7d9-5bae-4a66-9537-1e26e685fbe5': <InboxAgent.InboxAgent object at 0x0000015C5D02A220>, 'user_8d173ce0-2d6f-46d1-9e86-bd11c20b4128': <UserProxyAgent.UserProxyAgent object at 0x0000015C5D02A280>}\n"
     ]
    },
    {
     "name": "stderr",
     "output_type": "stream",
     "text": [
      "127.0.0.1 - - [09/Jan/2024 14:21:19] \"GET /socket.io/?EIO=4&transport=websocket&sid=W8iTL74S_-tyTFnmAAAy HTTP/1.1\" 200 -\n"
     ]
    },
    {
     "name": "stdout",
     "output_type": "stream",
     "text": [
      "Client disconnected\n"
     ]
    },
    {
     "name": "stderr",
     "output_type": "stream",
     "text": [
      "127.0.0.1 - - [09/Jan/2024 14:21:32] \"GET /socket.io/?EIO=4&transport=polling&t=Oplh3vs HTTP/1.1\" 200 -\n",
      "127.0.0.1 - - [09/Jan/2024 14:21:32] \"GET /socket.io/?EIO=4&transport=polling&t=Oplh3w1 HTTP/1.1\" 200 -\n",
      "127.0.0.1 - - [09/Jan/2024 14:21:32] \"POST /socket.io/?EIO=4&transport=polling&t=Oplh3_7&sid=4ZZo4JiF3mbod6oxAAA1 HTTP/1.1\" 200 -\n",
      "127.0.0.1 - - [09/Jan/2024 14:21:32] \"GET /socket.io/?EIO=4&transport=polling&t=Oplh3_9&sid=4ZZo4JiF3mbod6oxAAA1 HTTP/1.1\" 200 -\n",
      "127.0.0.1 - - [09/Jan/2024 14:21:32] \"GET /socket.io/?EIO=4&transport=polling&t=Oplh44X&sid=4ZZo4JiF3mbod6oxAAA1 HTTP/1.1\" 200 -\n"
     ]
    },
    {
     "name": "stdout",
     "output_type": "stream",
     "text": [
      "Client connected\n",
      "{'nodes': [{'id': 'jokebot_teller_70a5b109-e3d5-41d4-a6b6-543cbe0dfed4', 'label': 'jokebot_teller_70a5b109-e3d5-41d4-a6b6-543cbe0dfed4', 'type': 'jokebot_teller', 'status': False}, {'id': 'jokebot_responder_a64bb4a5-1531-493e-87fd-110896e12219', 'label': 'jokebot_responder_a64bb4a5-1531-493e-87fd-110896e12219', 'type': 'jokebot_responder', 'status': False}, {'id': 'jokebot_responder_08a8d7d9-5bae-4a66-9537-1e26e685fbe5', 'label': 'jokebot_responder_08a8d7d9-5bae-4a66-9537-1e26e685fbe5', 'type': 'jokebot_responder', 'status': False}, {'id': 'user_8d173ce0-2d6f-46d1-9e86-bd11c20b4128', 'label': 'user_8d173ce0-2d6f-46d1-9e86-bd11c20b4128', 'type': 'user', 'status': True}], 'links': [{'id': 'jokebot_teller_70a5b109-e3d5-41d4-a6b6-543cbe0dfed4_jokebot_responder_a64bb4a5-1531-493e-87fd-110896e12219', 'source': 'jokebot_teller_70a5b109-e3d5-41d4-a6b6-543cbe0dfed4', 'target': 'jokebot_responder_a64bb4a5-1531-493e-87fd-110896e12219', 'curvature': 0.2, 'rotation': 3.141592653589793}, {'id': 'jokebot_teller_70a5b109-e3d5-41d4-a6b6-543cbe0dfed4_user_8d173ce0-2d6f-46d1-9e86-bd11c20b4128', 'source': 'jokebot_teller_70a5b109-e3d5-41d4-a6b6-543cbe0dfed4', 'target': 'user_8d173ce0-2d6f-46d1-9e86-bd11c20b4128', 'curvature': 0.2, 'rotation': 3.141592653589793}, {'id': 'jokebot_teller_70a5b109-e3d5-41d4-a6b6-543cbe0dfed4_jokebot_responder_08a8d7d9-5bae-4a66-9537-1e26e685fbe5', 'source': 'jokebot_teller_70a5b109-e3d5-41d4-a6b6-543cbe0dfed4', 'target': 'jokebot_responder_08a8d7d9-5bae-4a66-9537-1e26e685fbe5', 'curvature': 0.2, 'rotation': 3.141592653589793}, {'id': 'jokebot_responder_a64bb4a5-1531-493e-87fd-110896e12219_jokebot_teller_70a5b109-e3d5-41d4-a6b6-543cbe0dfed4', 'source': 'jokebot_responder_a64bb4a5-1531-493e-87fd-110896e12219', 'target': 'jokebot_teller_70a5b109-e3d5-41d4-a6b6-543cbe0dfed4', 'curvature': 0.2, 'rotation': 3.141592653589793}, {'id': 'jokebot_responder_08a8d7d9-5bae-4a66-9537-1e26e685fbe5_jokebot_teller_70a5b109-e3d5-41d4-a6b6-543cbe0dfed4', 'source': 'jokebot_responder_08a8d7d9-5bae-4a66-9537-1e26e685fbe5', 'target': 'jokebot_teller_70a5b109-e3d5-41d4-a6b6-543cbe0dfed4', 'curvature': 0.2, 'rotation': 3.141592653589793}, {'id': 'user_8d173ce0-2d6f-46d1-9e86-bd11c20b4128_jokebot_teller_70a5b109-e3d5-41d4-a6b6-543cbe0dfed4', 'source': 'user_8d173ce0-2d6f-46d1-9e86-bd11c20b4128', 'target': 'jokebot_teller_70a5b109-e3d5-41d4-a6b6-543cbe0dfed4', 'curvature': 0.2, 'rotation': 3.141592653589793}]}\n",
      "{'jokebot_teller_70a5b109-e3d5-41d4-a6b6-543cbe0dfed4': <InboxAgent.InboxAgent object at 0x0000015C5D02A1F0>, 'jokebot_responder_a64bb4a5-1531-493e-87fd-110896e12219': <InboxAgent.InboxAgent object at 0x0000015C5D02A190>, 'jokebot_responder_08a8d7d9-5bae-4a66-9537-1e26e685fbe5': <InboxAgent.InboxAgent object at 0x0000015C5D02A220>, 'user_8d173ce0-2d6f-46d1-9e86-bd11c20b4128': <UserProxyAgent.UserProxyAgent object at 0x0000015C5D02A280>}\n",
      "{'jokebot_teller_70a5b109-e3d5-41d4-a6b6-543cbe0dfed4': <InboxAgent.InboxAgent object at 0x0000015C5D02A1F0>, 'jokebot_responder_a64bb4a5-1531-493e-87fd-110896e12219': <InboxAgent.InboxAgent object at 0x0000015C5D02A190>, 'jokebot_responder_08a8d7d9-5bae-4a66-9537-1e26e685fbe5': <InboxAgent.InboxAgent object at 0x0000015C5D02A220>, 'user_8d173ce0-2d6f-46d1-9e86-bd11c20b4128': <UserProxyAgent.UserProxyAgent object at 0x0000015C5D02A280>}\n",
      "{'jokebot_teller_70a5b109-e3d5-41d4-a6b6-543cbe0dfed4': <InboxAgent.InboxAgent object at 0x0000015C5D02A1F0>, 'jokebot_responder_a64bb4a5-1531-493e-87fd-110896e12219': <InboxAgent.InboxAgent object at 0x0000015C5D02A190>, 'jokebot_responder_08a8d7d9-5bae-4a66-9537-1e26e685fbe5': <InboxAgent.InboxAgent object at 0x0000015C5D02A220>, 'user_8d173ce0-2d6f-46d1-9e86-bd11c20b4128': <UserProxyAgent.UserProxyAgent object at 0x0000015C5D02A280>}\n"
     ]
    },
    {
     "name": "stderr",
     "output_type": "stream",
     "text": [
      "127.0.0.1 - - [09/Jan/2024 14:26:33] \"GET /socket.io/?EIO=4&transport=websocket&sid=4ZZo4JiF3mbod6oxAAA1 HTTP/1.1\" 200 -\n"
     ]
    },
    {
     "name": "stdout",
     "output_type": "stream",
     "text": [
      "Client disconnected\n"
     ]
    },
    {
     "name": "stderr",
     "output_type": "stream",
     "text": [
      "127.0.0.1 - - [09/Jan/2024 14:26:39] \"GET /socket.io/?EIO=4&transport=polling&t=OpliEpr HTTP/1.1\" 200 -\n",
      "127.0.0.1 - - [09/Jan/2024 14:26:39] \"GET /socket.io/?EIO=4&transport=polling&t=OpliEp_ HTTP/1.1\" 200 -\n",
      "127.0.0.1 - - [09/Jan/2024 14:26:39] \"POST /socket.io/?EIO=4&transport=polling&t=OpliEvH&sid=X1HUfmbUc1gfQsWcAAA4 HTTP/1.1\" 200 -\n",
      "127.0.0.1 - - [09/Jan/2024 14:26:39] \"GET /socket.io/?EIO=4&transport=polling&t=OpliEvJ&sid=X1HUfmbUc1gfQsWcAAA4 HTTP/1.1\" 200 -\n"
     ]
    },
    {
     "name": "stdout",
     "output_type": "stream",
     "text": [
      "Client connected\n",
      "{'nodes': [{'id': 'jokebot_teller_70a5b109-e3d5-41d4-a6b6-543cbe0dfed4', 'label': 'jokebot_teller_70a5b109-e3d5-41d4-a6b6-543cbe0dfed4', 'type': 'jokebot_teller', 'status': False}, {'id': 'jokebot_responder_a64bb4a5-1531-493e-87fd-110896e12219', 'label': 'jokebot_responder_a64bb4a5-1531-493e-87fd-110896e12219', 'type': 'jokebot_responder', 'status': False}, {'id': 'jokebot_responder_08a8d7d9-5bae-4a66-9537-1e26e685fbe5', 'label': 'jokebot_responder_08a8d7d9-5bae-4a66-9537-1e26e685fbe5', 'type': 'jokebot_responder', 'status': False}, {'id': 'user_8d173ce0-2d6f-46d1-9e86-bd11c20b4128', 'label': 'user_8d173ce0-2d6f-46d1-9e86-bd11c20b4128', 'type': 'user', 'status': True}], 'links': [{'id': 'jokebot_teller_70a5b109-e3d5-41d4-a6b6-543cbe0dfed4_jokebot_responder_a64bb4a5-1531-493e-87fd-110896e12219', 'source': 'jokebot_teller_70a5b109-e3d5-41d4-a6b6-543cbe0dfed4', 'target': 'jokebot_responder_a64bb4a5-1531-493e-87fd-110896e12219', 'curvature': 0.2, 'rotation': 3.141592653589793}, {'id': 'jokebot_teller_70a5b109-e3d5-41d4-a6b6-543cbe0dfed4_user_8d173ce0-2d6f-46d1-9e86-bd11c20b4128', 'source': 'jokebot_teller_70a5b109-e3d5-41d4-a6b6-543cbe0dfed4', 'target': 'user_8d173ce0-2d6f-46d1-9e86-bd11c20b4128', 'curvature': 0.2, 'rotation': 3.141592653589793}, {'id': 'jokebot_teller_70a5b109-e3d5-41d4-a6b6-543cbe0dfed4_jokebot_responder_08a8d7d9-5bae-4a66-9537-1e26e685fbe5', 'source': 'jokebot_teller_70a5b109-e3d5-41d4-a6b6-543cbe0dfed4', 'target': 'jokebot_responder_08a8d7d9-5bae-4a66-9537-1e26e685fbe5', 'curvature': 0.2, 'rotation': 3.141592653589793}, {'id': 'jokebot_responder_a64bb4a5-1531-493e-87fd-110896e12219_jokebot_teller_70a5b109-e3d5-41d4-a6b6-543cbe0dfed4', 'source': 'jokebot_responder_a64bb4a5-1531-493e-87fd-110896e12219', 'target': 'jokebot_teller_70a5b109-e3d5-41d4-a6b6-543cbe0dfed4', 'curvature': 0.2, 'rotation': 3.141592653589793}, {'id': 'jokebot_responder_08a8d7d9-5bae-4a66-9537-1e26e685fbe5_jokebot_teller_70a5b109-e3d5-41d4-a6b6-543cbe0dfed4', 'source': 'jokebot_responder_08a8d7d9-5bae-4a66-9537-1e26e685fbe5', 'target': 'jokebot_teller_70a5b109-e3d5-41d4-a6b6-543cbe0dfed4', 'curvature': 0.2, 'rotation': 3.141592653589793}, {'id': 'user_8d173ce0-2d6f-46d1-9e86-bd11c20b4128_jokebot_teller_70a5b109-e3d5-41d4-a6b6-543cbe0dfed4', 'source': 'user_8d173ce0-2d6f-46d1-9e86-bd11c20b4128', 'target': 'jokebot_teller_70a5b109-e3d5-41d4-a6b6-543cbe0dfed4', 'curvature': 0.2, 'rotation': 3.141592653589793}]}\n",
      "{'jokebot_teller_70a5b109-e3d5-41d4-a6b6-543cbe0dfed4': <InboxAgent.InboxAgent object at 0x0000015C5D02A1F0>, 'jokebot_responder_a64bb4a5-1531-493e-87fd-110896e12219': <InboxAgent.InboxAgent object at 0x0000015C5D02A190>, 'jokebot_responder_08a8d7d9-5bae-4a66-9537-1e26e685fbe5': <InboxAgent.InboxAgent object at 0x0000015C5D02A220>, 'user_8d173ce0-2d6f-46d1-9e86-bd11c20b4128': <UserProxyAgent.UserProxyAgent object at 0x0000015C5D02A280>}{'jokebot_teller_70a5b109-e3d5-41d4-a6b6-543cbe0dfed4': <InboxAgent.InboxAgent object at 0x0000015C5D02A1F0>, 'jokebot_responder_a64bb4a5-1531-493e-87fd-110896e12219': <InboxAgent.InboxAgent object at 0x0000015C5D02A190>, 'jokebot_responder_08a8d7d9-5bae-4a66-9537-1e26e685fbe5': <InboxAgent.InboxAgent object at 0x0000015C5D02A220>, 'user_8d173ce0-2d6f-46d1-9e86-bd11c20b4128': <UserProxyAgent.UserProxyAgent object at 0x0000015C5D02A280>}\n",
      "\n",
      "{'jokebot_teller_70a5b109-e3d5-41d4-a6b6-543cbe0dfed4': <InboxAgent.InboxAgent object at 0x0000015C5D02A1F0>, 'jokebot_responder_a64bb4a5-1531-493e-87fd-110896e12219': <InboxAgent.InboxAgent object at 0x0000015C5D02A190>, 'jokebot_responder_08a8d7d9-5bae-4a66-9537-1e26e685fbe5': <InboxAgent.InboxAgent object at 0x0000015C5D02A220>, 'user_8d173ce0-2d6f-46d1-9e86-bd11c20b4128': <UserProxyAgent.UserProxyAgent object at 0x0000015C5D02A280>}\n"
     ]
    },
    {
     "name": "stderr",
     "output_type": "stream",
     "text": [
      "127.0.0.1 - - [09/Jan/2024 15:08:20] \"GET /socket.io/?EIO=4&transport=websocket&sid=X1HUfmbUc1gfQsWcAAA4 HTTP/1.1\" 200 -\n"
     ]
    },
    {
     "name": "stdout",
     "output_type": "stream",
     "text": [
      "Client disconnected\n"
     ]
    },
    {
     "name": "stderr",
     "output_type": "stream",
     "text": [
      "127.0.0.1 - - [09/Jan/2024 15:08:23] \"GET /socket.io/?EIO=4&transport=polling&t=Oplro88 HTTP/1.1\" 200 -\n",
      "127.0.0.1 - - [09/Jan/2024 15:08:23] \"GET /socket.io/?EIO=4&transport=polling&t=Oplro8P HTTP/1.1\" 200 -\n",
      "127.0.0.1 - - [09/Jan/2024 15:08:23] \"POST /socket.io/?EIO=4&transport=polling&t=OplroE7&sid=NVCBqHNY7mSklWsGAAA7 HTTP/1.1\" 200 -\n",
      "127.0.0.1 - - [09/Jan/2024 15:08:23] \"GET /socket.io/?EIO=4&transport=polling&t=OplroED&sid=NVCBqHNY7mSklWsGAAA7 HTTP/1.1\" 200 -\n"
     ]
    },
    {
     "name": "stdout",
     "output_type": "stream",
     "text": [
      "Client connected\n",
      "{'nodes': [{'id': 'jokebot_teller_70a5b109-e3d5-41d4-a6b6-543cbe0dfed4', 'label': 'jokebot_teller_70a5b109-e3d5-41d4-a6b6-543cbe0dfed4', 'type': 'jokebot_teller', 'status': False}, {'id': 'jokebot_responder_a64bb4a5-1531-493e-87fd-110896e12219', 'label': 'jokebot_responder_a64bb4a5-1531-493e-87fd-110896e12219', 'type': 'jokebot_responder', 'status': False}, {'id': 'jokebot_responder_08a8d7d9-5bae-4a66-9537-1e26e685fbe5', 'label': 'jokebot_responder_08a8d7d9-5bae-4a66-9537-1e26e685fbe5', 'type': 'jokebot_responder', 'status': False}, {'id': 'user_8d173ce0-2d6f-46d1-9e86-bd11c20b4128', 'label': 'user_8d173ce0-2d6f-46d1-9e86-bd11c20b4128', 'type': 'user', 'status': True}], 'links': [{'id': 'jokebot_teller_70a5b109-e3d5-41d4-a6b6-543cbe0dfed4_jokebot_responder_a64bb4a5-1531-493e-87fd-110896e12219', 'source': 'jokebot_teller_70a5b109-e3d5-41d4-a6b6-543cbe0dfed4', 'target': 'jokebot_responder_a64bb4a5-1531-493e-87fd-110896e12219', 'curvature': 0.2, 'rotation': 3.141592653589793}, {'id': 'jokebot_teller_70a5b109-e3d5-41d4-a6b6-543cbe0dfed4_user_8d173ce0-2d6f-46d1-9e86-bd11c20b4128', 'source': 'jokebot_teller_70a5b109-e3d5-41d4-a6b6-543cbe0dfed4', 'target': 'user_8d173ce0-2d6f-46d1-9e86-bd11c20b4128', 'curvature': 0.2, 'rotation': 3.141592653589793}, {'id': 'jokebot_teller_70a5b109-e3d5-41d4-a6b6-543cbe0dfed4_jokebot_responder_08a8d7d9-5bae-4a66-9537-1e26e685fbe5', 'source': 'jokebot_teller_70a5b109-e3d5-41d4-a6b6-543cbe0dfed4', 'target': 'jokebot_responder_08a8d7d9-5bae-4a66-9537-1e26e685fbe5', 'curvature': 0.2, 'rotation': 3.141592653589793}, {'id': 'jokebot_responder_a64bb4a5-1531-493e-87fd-110896e12219_jokebot_teller_70a5b109-e3d5-41d4-a6b6-543cbe0dfed4', 'source': 'jokebot_responder_a64bb4a5-1531-493e-87fd-110896e12219', 'target': 'jokebot_teller_70a5b109-e3d5-41d4-a6b6-543cbe0dfed4', 'curvature': 0.2, 'rotation': 3.141592653589793}, {'id': 'jokebot_responder_08a8d7d9-5bae-4a66-9537-1e26e685fbe5_jokebot_teller_70a5b109-e3d5-41d4-a6b6-543cbe0dfed4', 'source': 'jokebot_responder_08a8d7d9-5bae-4a66-9537-1e26e685fbe5', 'target': 'jokebot_teller_70a5b109-e3d5-41d4-a6b6-543cbe0dfed4', 'curvature': 0.2, 'rotation': 3.141592653589793}, {'id': 'user_8d173ce0-2d6f-46d1-9e86-bd11c20b4128_jokebot_teller_70a5b109-e3d5-41d4-a6b6-543cbe0dfed4', 'source': 'user_8d173ce0-2d6f-46d1-9e86-bd11c20b4128', 'target': 'jokebot_teller_70a5b109-e3d5-41d4-a6b6-543cbe0dfed4', 'curvature': 0.2, 'rotation': 3.141592653589793}]}\n"
     ]
    },
    {
     "name": "stderr",
     "output_type": "stream",
     "text": [
      "127.0.0.1 - - [09/Jan/2024 15:17:17] \"GET /socket.io/?EIO=4&transport=websocket&sid=NVCBqHNY7mSklWsGAAA7 HTTP/1.1\" 200 -\n"
     ]
    },
    {
     "name": "stdout",
     "output_type": "stream",
     "text": [
      "Client disconnected\n"
     ]
    },
    {
     "name": "stderr",
     "output_type": "stream",
     "text": [
      "127.0.0.1 - - [09/Jan/2024 15:17:22] \"GET /socket.io/?EIO=4&transport=polling&t=OpltroP HTTP/1.1\" 200 -\n",
      "127.0.0.1 - - [09/Jan/2024 15:17:22] \"GET /socket.io/?EIO=4&transport=polling&t=OpltroW HTTP/1.1\" 200 -\n",
      "127.0.0.1 - - [09/Jan/2024 15:17:22] \"POST /socket.io/?EIO=4&transport=polling&t=Opltrto&sid=nzgky07ZgJc4uNU9AAA- HTTP/1.1\" 200 -\n",
      "127.0.0.1 - - [09/Jan/2024 15:17:22] \"GET /socket.io/?EIO=4&transport=polling&t=Opltrtq&sid=nzgky07ZgJc4uNU9AAA- HTTP/1.1\" 200 -\n",
      "127.0.0.1 - - [09/Jan/2024 15:17:22] \"GET /socket.io/?EIO=4&transport=polling&t=Opltry_&sid=nzgky07ZgJc4uNU9AAA- HTTP/1.1\" 200 -\n"
     ]
    },
    {
     "name": "stdout",
     "output_type": "stream",
     "text": [
      "Client connected\n",
      "{'nodes': [{'id': 'jokebot_teller_70a5b109-e3d5-41d4-a6b6-543cbe0dfed4', 'label': 'jokebot_teller_70a5b109-e3d5-41d4-a6b6-543cbe0dfed4', 'type': 'jokebot_teller', 'status': False}, {'id': 'jokebot_responder_a64bb4a5-1531-493e-87fd-110896e12219', 'label': 'jokebot_responder_a64bb4a5-1531-493e-87fd-110896e12219', 'type': 'jokebot_responder', 'status': False}, {'id': 'jokebot_responder_08a8d7d9-5bae-4a66-9537-1e26e685fbe5', 'label': 'jokebot_responder_08a8d7d9-5bae-4a66-9537-1e26e685fbe5', 'type': 'jokebot_responder', 'status': False}, {'id': 'user_8d173ce0-2d6f-46d1-9e86-bd11c20b4128', 'label': 'user_8d173ce0-2d6f-46d1-9e86-bd11c20b4128', 'type': 'user', 'status': True}], 'links': [{'id': 'jokebot_teller_70a5b109-e3d5-41d4-a6b6-543cbe0dfed4_jokebot_responder_a64bb4a5-1531-493e-87fd-110896e12219', 'source': 'jokebot_teller_70a5b109-e3d5-41d4-a6b6-543cbe0dfed4', 'target': 'jokebot_responder_a64bb4a5-1531-493e-87fd-110896e12219', 'curvature': 0.2, 'rotation': 3.141592653589793}, {'id': 'jokebot_teller_70a5b109-e3d5-41d4-a6b6-543cbe0dfed4_user_8d173ce0-2d6f-46d1-9e86-bd11c20b4128', 'source': 'jokebot_teller_70a5b109-e3d5-41d4-a6b6-543cbe0dfed4', 'target': 'user_8d173ce0-2d6f-46d1-9e86-bd11c20b4128', 'curvature': 0.2, 'rotation': 3.141592653589793}, {'id': 'jokebot_teller_70a5b109-e3d5-41d4-a6b6-543cbe0dfed4_jokebot_responder_08a8d7d9-5bae-4a66-9537-1e26e685fbe5', 'source': 'jokebot_teller_70a5b109-e3d5-41d4-a6b6-543cbe0dfed4', 'target': 'jokebot_responder_08a8d7d9-5bae-4a66-9537-1e26e685fbe5', 'curvature': 0.2, 'rotation': 3.141592653589793}, {'id': 'jokebot_responder_a64bb4a5-1531-493e-87fd-110896e12219_jokebot_teller_70a5b109-e3d5-41d4-a6b6-543cbe0dfed4', 'source': 'jokebot_responder_a64bb4a5-1531-493e-87fd-110896e12219', 'target': 'jokebot_teller_70a5b109-e3d5-41d4-a6b6-543cbe0dfed4', 'curvature': 0.2, 'rotation': 3.141592653589793}, {'id': 'jokebot_responder_08a8d7d9-5bae-4a66-9537-1e26e685fbe5_jokebot_teller_70a5b109-e3d5-41d4-a6b6-543cbe0dfed4', 'source': 'jokebot_responder_08a8d7d9-5bae-4a66-9537-1e26e685fbe5', 'target': 'jokebot_teller_70a5b109-e3d5-41d4-a6b6-543cbe0dfed4', 'curvature': 0.2, 'rotation': 3.141592653589793}, {'id': 'user_8d173ce0-2d6f-46d1-9e86-bd11c20b4128_jokebot_teller_70a5b109-e3d5-41d4-a6b6-543cbe0dfed4', 'source': 'user_8d173ce0-2d6f-46d1-9e86-bd11c20b4128', 'target': 'jokebot_teller_70a5b109-e3d5-41d4-a6b6-543cbe0dfed4', 'curvature': 0.2, 'rotation': 3.141592653589793}]}\n",
      "{'jokebot_teller_70a5b109-e3d5-41d4-a6b6-543cbe0dfed4': <InboxAgent.InboxAgent object at 0x0000015C5D02A1F0>, 'jokebot_responder_a64bb4a5-1531-493e-87fd-110896e12219': <InboxAgent.InboxAgent object at 0x0000015C5D02A190>, 'jokebot_responder_08a8d7d9-5bae-4a66-9537-1e26e685fbe5': <InboxAgent.InboxAgent object at 0x0000015C5D02A220>, 'user_8d173ce0-2d6f-46d1-9e86-bd11c20b4128': <UserProxyAgent.UserProxyAgent object at 0x0000015C5D02A280>}\n",
      "{'jokebot_teller_70a5b109-e3d5-41d4-a6b6-543cbe0dfed4': <InboxAgent.InboxAgent object at 0x0000015C5D02A1F0>, 'jokebot_responder_a64bb4a5-1531-493e-87fd-110896e12219': <InboxAgent.InboxAgent object at 0x0000015C5D02A190>, 'jokebot_responder_08a8d7d9-5bae-4a66-9537-1e26e685fbe5': <InboxAgent.InboxAgent object at 0x0000015C5D02A220>, 'user_8d173ce0-2d6f-46d1-9e86-bd11c20b4128': <UserProxyAgent.UserProxyAgent object at 0x0000015C5D02A280>}\n",
      "{'jokebot_teller_70a5b109-e3d5-41d4-a6b6-543cbe0dfed4': <InboxAgent.InboxAgent object at 0x0000015C5D02A1F0>, 'jokebot_responder_a64bb4a5-1531-493e-87fd-110896e12219': <InboxAgent.InboxAgent object at 0x0000015C5D02A190>, 'jokebot_responder_08a8d7d9-5bae-4a66-9537-1e26e685fbe5': <InboxAgent.InboxAgent object at 0x0000015C5D02A220>, 'user_8d173ce0-2d6f-46d1-9e86-bd11c20b4128': <UserProxyAgent.UserProxyAgent object at 0x0000015C5D02A280>}\n"
     ]
    },
    {
     "name": "stderr",
     "output_type": "stream",
     "text": [
      "127.0.0.1 - - [09/Jan/2024 15:18:27] \"GET /socket.io/?EIO=4&transport=websocket&sid=nzgky07ZgJc4uNU9AAA- HTTP/1.1\" 200 -\n"
     ]
    },
    {
     "name": "stdout",
     "output_type": "stream",
     "text": [
      "Client disconnected\n"
     ]
    },
    {
     "name": "stderr",
     "output_type": "stream",
     "text": [
      "127.0.0.1 - - [09/Jan/2024 15:18:28] \"GET /socket.io/?EIO=4&transport=polling&t=Oplu5sB HTTP/1.1\" 200 -\n",
      "127.0.0.1 - - [09/Jan/2024 15:18:28] \"POST /socket.io/?EIO=4&transport=polling&t=Oplu5xF&sid=YeYi3p0jbb7zA5JSAABA HTTP/1.1\" 200 -\n",
      "127.0.0.1 - - [09/Jan/2024 15:18:28] \"GET /socket.io/?EIO=4&transport=polling&t=Oplu5xI&sid=YeYi3p0jbb7zA5JSAABA HTTP/1.1\" 200 -\n"
     ]
    },
    {
     "name": "stdout",
     "output_type": "stream",
     "text": [
      "Client connected\n",
      "{'nodes': [{'id': 'jokebot_teller_70a5b109-e3d5-41d4-a6b6-543cbe0dfed4', 'label': 'jokebot_teller_70a5b109-e3d5-41d4-a6b6-543cbe0dfed4', 'type': 'jokebot_teller', 'status': False}, {'id': 'jokebot_responder_a64bb4a5-1531-493e-87fd-110896e12219', 'label': 'jokebot_responder_a64bb4a5-1531-493e-87fd-110896e12219', 'type': 'jokebot_responder', 'status': False}, {'id': 'jokebot_responder_08a8d7d9-5bae-4a66-9537-1e26e685fbe5', 'label': 'jokebot_responder_08a8d7d9-5bae-4a66-9537-1e26e685fbe5', 'type': 'jokebot_responder', 'status': False}, {'id': 'user_8d173ce0-2d6f-46d1-9e86-bd11c20b4128', 'label': 'user_8d173ce0-2d6f-46d1-9e86-bd11c20b4128', 'type': 'user', 'status': True}], 'links': [{'id': 'jokebot_teller_70a5b109-e3d5-41d4-a6b6-543cbe0dfed4_jokebot_responder_a64bb4a5-1531-493e-87fd-110896e12219', 'source': 'jokebot_teller_70a5b109-e3d5-41d4-a6b6-543cbe0dfed4', 'target': 'jokebot_responder_a64bb4a5-1531-493e-87fd-110896e12219', 'curvature': 0.2, 'rotation': 3.141592653589793}, {'id': 'jokebot_teller_70a5b109-e3d5-41d4-a6b6-543cbe0dfed4_user_8d173ce0-2d6f-46d1-9e86-bd11c20b4128', 'source': 'jokebot_teller_70a5b109-e3d5-41d4-a6b6-543cbe0dfed4', 'target': 'user_8d173ce0-2d6f-46d1-9e86-bd11c20b4128', 'curvature': 0.2, 'rotation': 3.141592653589793}, {'id': 'jokebot_teller_70a5b109-e3d5-41d4-a6b6-543cbe0dfed4_jokebot_responder_08a8d7d9-5bae-4a66-9537-1e26e685fbe5', 'source': 'jokebot_teller_70a5b109-e3d5-41d4-a6b6-543cbe0dfed4', 'target': 'jokebot_responder_08a8d7d9-5bae-4a66-9537-1e26e685fbe5', 'curvature': 0.2, 'rotation': 3.141592653589793}, {'id': 'jokebot_responder_a64bb4a5-1531-493e-87fd-110896e12219_jokebot_teller_70a5b109-e3d5-41d4-a6b6-543cbe0dfed4', 'source': 'jokebot_responder_a64bb4a5-1531-493e-87fd-110896e12219', 'target': 'jokebot_teller_70a5b109-e3d5-41d4-a6b6-543cbe0dfed4', 'curvature': 0.2, 'rotation': 3.141592653589793}, {'id': 'jokebot_responder_08a8d7d9-5bae-4a66-9537-1e26e685fbe5_jokebot_teller_70a5b109-e3d5-41d4-a6b6-543cbe0dfed4', 'source': 'jokebot_responder_08a8d7d9-5bae-4a66-9537-1e26e685fbe5', 'target': 'jokebot_teller_70a5b109-e3d5-41d4-a6b6-543cbe0dfed4', 'curvature': 0.2, 'rotation': 3.141592653589793}, {'id': 'user_8d173ce0-2d6f-46d1-9e86-bd11c20b4128_jokebot_teller_70a5b109-e3d5-41d4-a6b6-543cbe0dfed4', 'source': 'user_8d173ce0-2d6f-46d1-9e86-bd11c20b4128', 'target': 'jokebot_teller_70a5b109-e3d5-41d4-a6b6-543cbe0dfed4', 'curvature': 0.2, 'rotation': 3.141592653589793}]}\n",
      "{'jokebot_teller_70a5b109-e3d5-41d4-a6b6-543cbe0dfed4': <InboxAgent.InboxAgent object at 0x0000015C5D02A1F0>, 'jokebot_responder_a64bb4a5-1531-493e-87fd-110896e12219': <InboxAgent.InboxAgent object at 0x0000015C5D02A190>, 'jokebot_responder_08a8d7d9-5bae-4a66-9537-1e26e685fbe5': <InboxAgent.InboxAgent object at 0x0000015C5D02A220>, 'user_8d173ce0-2d6f-46d1-9e86-bd11c20b4128': <UserProxyAgent.UserProxyAgent object at 0x0000015C5D02A280>}\n",
      "{'jokebot_teller_70a5b109-e3d5-41d4-a6b6-543cbe0dfed4': <InboxAgent.InboxAgent object at 0x0000015C5D02A1F0>, 'jokebot_responder_a64bb4a5-1531-493e-87fd-110896e12219': <InboxAgent.InboxAgent object at 0x0000015C5D02A190>, 'jokebot_responder_08a8d7d9-5bae-4a66-9537-1e26e685fbe5': <InboxAgent.InboxAgent object at 0x0000015C5D02A220>, 'user_8d173ce0-2d6f-46d1-9e86-bd11c20b4128': <UserProxyAgent.UserProxyAgent object at 0x0000015C5D02A280>}\n",
      "{'jokebot_teller_70a5b109-e3d5-41d4-a6b6-543cbe0dfed4': <InboxAgent.InboxAgent object at 0x0000015C5D02A1F0>, 'jokebot_responder_a64bb4a5-1531-493e-87fd-110896e12219': <InboxAgent.InboxAgent object at 0x0000015C5D02A190>, 'jokebot_responder_08a8d7d9-5bae-4a66-9537-1e26e685fbe5': <InboxAgent.InboxAgent object at 0x0000015C5D02A220>, 'user_8d173ce0-2d6f-46d1-9e86-bd11c20b4128': <UserProxyAgent.UserProxyAgent object at 0x0000015C5D02A280>}\n"
     ]
    }
   ],
   "source": [
    "for i in range(5):\n",
    "    user1.send_message(\"test\", agent1.get_description_json()['name_uuid'])\n",
    "    time.sleep(3)"
   ]
  },
  {
   "cell_type": "code",
   "execution_count": null,
   "metadata": {},
   "outputs": [
    {
     "name": "stdout",
     "output_type": "stream",
     "text": [
      " * Serving Flask app '__main__'\n",
      " * Debug mode: off\n"
     ]
    },
    {
     "name": "stderr",
     "output_type": "stream",
     "text": [
      "WARNING: This is a development server. Do not use it in a production deployment. Use a production WSGI server instead.\n",
      " * Running on http://127.0.0.1:5000\n",
      "Press CTRL+C to quit\n"
     ]
    },
    {
     "name": "stderr",
     "output_type": "stream",
     "text": [
      "127.0.0.1 - - [04/Jan/2024 20:03:32] \"GET /network/data HTTP/1.1\" 200 -\n",
      "127.0.0.1 - - [04/Jan/2024 20:03:32] \"GET /network/data HTTP/1.1\" 200 -\n",
      "127.0.0.1 - - [04/Jan/2024 23:08:46] \"GET /network/data HTTP/1.1\" 200 -\n",
      "127.0.0.1 - - [04/Jan/2024 23:08:46] \"GET /network/data HTTP/1.1\" 200 -\n"
     ]
    }
   ],
   "source": [
    "# setup and deploy the network server\n",
    "\n",
    "app = Flask(__name__)\n",
    "network_bp = create_network_blueprint(agent_network)\n",
    "app.register_blueprint(network_bp, url_prefix='/network')\n",
    "\n",
    "def run_app():\n",
    "    app.run(port=5000, use_reloader=False)\n",
    "\n",
    "flask_thread = Thread(target=run_app)\n",
    "flask_thread.start()"
   ]
  }
 ],
 "metadata": {
  "kernelspec": {
   "display_name": "solo",
   "language": "python",
   "name": "python3"
  },
  "language_info": {
   "codemirror_mode": {
    "name": "ipython",
    "version": 3
   },
   "file_extension": ".py",
   "mimetype": "text/x-python",
   "name": "python",
   "nbconvert_exporter": "python",
   "pygments_lexer": "ipython3",
   "version": "3.8.16"
  }
 },
 "nbformat": 4,
 "nbformat_minor": 2
}
